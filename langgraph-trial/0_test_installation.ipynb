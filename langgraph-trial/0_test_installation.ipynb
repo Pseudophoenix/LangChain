{
 "cells": [
  {
   "cell_type": "code",
   "execution_count": 4,
   "id": "1fa2fbcb",
   "metadata": {},
   "outputs": [],
   "source": [
    "from typing import TypedDict\n",
    "from langgraph.graph import StateGraph"
   ]
  },
  {
   "cell_type": "code",
   "execution_count": 5,
   "id": "e7ce10b9",
   "metadata": {},
   "outputs": [],
   "source": [
    "# First Workflow - BMI Calculator Workflow\n"
   ]
  },
  {
   "cell_type": "code",
   "execution_count": 6,
   "id": "2265d645",
   "metadata": {},
   "outputs": [],
   "source": [
    "# 1. Define State\n",
    "class BMIState(TypedDict):\n",
    "    weight_kg:float\n",
    "    height_m:float\n",
    "    bmi:float\n",
    "    "
   ]
  },
  {
   "cell_type": "code",
   "execution_count": 7,
   "id": "b61a0fe4",
   "metadata": {},
   "outputs": [],
   "source": [
    "# 2. Define the graph\n",
    "graph=StateGraph(BMIState)"
   ]
  },
  {
   "cell_type": "code",
   "execution_count": 12,
   "id": "ec347a71",
   "metadata": {},
   "outputs": [],
   "source": [
    "def calculate_bmi(state:BMIState)->BMIState:\n",
    "    weight=state['weight_kg']\n",
    "    height=state['height_m']\n",
    "\n",
    "    bmi=weight/(height**2)\n",
    "    state['bmi']=round(bmi,2)\n",
    "    return state"
   ]
  },
  {
   "cell_type": "code",
   "execution_count": 15,
   "id": "341d5c30",
   "metadata": {},
   "outputs": [
    {
     "data": {
      "text/plain": [
       "<langgraph.graph.state.StateGraph at 0x293e3a0d7f0>"
      ]
     },
     "execution_count": 15,
     "metadata": {},
     "output_type": "execute_result"
    }
   ],
   "source": [
    "# 3. Add nodes to your graph\n",
    "graph.add_node(\"calculate_bm\",calculate_bmi)\n",
    "# 4. Add edges to your graph\n",
    "\n",
    "\n",
    "# 5. Compile the graph\n",
    "\n",
    "\n",
    "# 6. Execute the graph"
   ]
  },
  {
   "cell_type": "code",
   "execution_count": null,
   "id": "622a1c5e",
   "metadata": {},
   "outputs": [],
   "source": []
  }
 ],
 "metadata": {
  "kernelspec": {
   "display_name": "langgraph-trial (3.13.5)",
   "language": "python",
   "name": "python3"
  },
  "language_info": {
   "codemirror_mode": {
    "name": "ipython",
    "version": 3
   },
   "file_extension": ".py",
   "mimetype": "text/x-python",
   "name": "python",
   "nbconvert_exporter": "python",
   "pygments_lexer": "ipython3",
   "version": "3.13.5"
  }
 },
 "nbformat": 4,
 "nbformat_minor": 5
}
