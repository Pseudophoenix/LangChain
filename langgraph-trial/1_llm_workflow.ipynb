{
 "cells": [
  {
   "cell_type": "code",
   "execution_count": 6,
   "id": "5a1b2891",
   "metadata": {},
   "outputs": [],
   "source": [
    "from langgraph.graph import StateGraph, START, END\n",
    "from langchain_google_vertexai import ChatVertexAI\n",
    "from typing import TypedDict\n",
    "from dotenv import load_dotenv"
   ]
  },
  {
   "cell_type": "code",
   "execution_count": 7,
   "id": "523c3f67",
   "metadata": {},
   "outputs": [
    {
     "data": {
      "text/plain": [
       "False"
      ]
     },
     "execution_count": 7,
     "metadata": {},
     "output_type": "execute_result"
    }
   ],
   "source": [
    "load_dotenv()"
   ]
  },
  {
   "cell_type": "code",
   "execution_count": 8,
   "id": "fc0bde3c",
   "metadata": {},
   "outputs": [],
   "source": [
    "model=ChatVertexAI(model_name=\"gemini-2.5-pro\")"
   ]
  },
  {
   "cell_type": "code",
   "execution_count": 9,
   "id": "04e7bea8",
   "metadata": {},
   "outputs": [],
   "source": [
    "class LLMState(TypedDict):\n",
    "    question:str\n",
    "    answer:str"
   ]
  },
  {
   "cell_type": "code",
   "execution_count": 10,
   "id": "d3033baf",
   "metadata": {},
   "outputs": [],
   "source": [
    "def llm_qa(state:LLMState)->LLMState:\n",
    "    # extract the question from state\n",
    "    question=state['question']\n",
    "    # form a prompt\n",
    "    prompt=f\"Answer the following question {question}\"\n",
    "    # ask that question to the LLM\n",
    "    answer=model.invoke(prompt)\n",
    "    # update the answer in the state\n",
    "    state[\"answer\"]=answer\n",
    "\n",
    "    return state"
   ]
  },
  {
   "cell_type": "code",
   "execution_count": 13,
   "id": "7106fd0c",
   "metadata": {},
   "outputs": [],
   "source": [
    "# create our graph\n",
    "graph=StateGraph(LLMState)\n",
    "# add nodes\n",
    "graph.add_node('llm_qa',llm_qa)\n",
    "# add edges\n",
    "graph.add_edge(START,\"llm_qa\")\n",
    "graph.add_edge(\"llm_qa\",END)\n",
    "# compile\n",
    "workflow=graph.compile()"
   ]
  },
  {
   "cell_type": "code",
   "execution_count": 15,
   "id": "3fa66611",
   "metadata": {},
   "outputs": [
    {
     "name": "stdout",
     "output_type": "stream",
     "text": [
      "{'question': 'How far is moon from the earth?', 'answer': AIMessage(content='Excellent question! The distance to the Moon isn\\'t a single, fixed number because its orbit around the Earth is an ellipse (an oval shape), not a perfect circle.\\n\\nHere’s a breakdown from a simple answer to a more detailed one.\\n\\n### The Simple Answer\\n\\nThe **average distance** from the center of the Earth to the center of the Moon is about:\\n\\n*   **238,855 miles**\\n*   **384,400 kilometers**\\n\\n### The More Detailed Answer\\n\\nBecause the Moon\\'s orbit is an ellipse, its distance from Earth changes throughout the month.\\n\\n*   **Perigee (Closest Point):** When the Moon is at its closest point to Earth, it is about **226,000 miles (363,300 km)** away. A full moon at perigee is often called a \"Supermoon\" because it appears slightly larger and brighter in the sky.\\n\\n*   **Apogee (Farthest Point):** When the Moon is at its farthest point from Earth, it is about **252,000 miles (405,500 km)** away. A full moon at apogee can be called a \"Micromoon.\"\\n\\nHere is a summary table:\\n\\n| Point in Orbit      | Distance in Miles      | Distance in Kilometers |\\n| ------------------- | ---------------------- | ---------------------- |\\n| **Average**         | ~238,855 miles         | ~384,400 km            |\\n| **Perigee (Closest)** | ~226,000 miles         | ~363,300 km            |\\n| **Apogee (Farthest)** | ~252,000 miles         | ~405,500 km            |\\n\\n***\\n\\n### How to Visualize That Distance\\n\\nIt can be hard to grasp how far away that really is. Here are a few ways to think about it:\\n\\n*   **Fitting Earths:** You could fit **30 Earths** side-by-side in the space between the Earth and the Moon.\\n*   **Travel Time:**\\n    *   **By Car:** If you could drive to the Moon at a constant 60 mph (100 km/h), it would take about **166 days** of non-stop driving.\\n    *   **By Apollo Spacecraft:** It took the Apollo astronauts about **3 days** to reach the Moon.\\n*   **Speed of Light:** It takes light (which travels at 186,282 miles per second) about **1.3 seconds** to get from the Moon to the Earth. This is why there is a ~2.6-second delay in conversations between Mission Control and astronauts on the Moon.\\n\\n### Fun Fact: The Moon is Moving Away!\\n\\nScientists have measured that the Moon is slowly moving away from Earth at a rate of about **1.5 inches (3.8 centimeters) per year**. This is due to the tidal interactions between the Earth and the Moon.', additional_kwargs={}, response_metadata={'is_blocked': False, 'safety_ratings': [], 'usage_metadata': {'prompt_token_count': 12, 'candidates_token_count': 663, 'total_token_count': 1914, 'prompt_tokens_details': [{'modality': 1, 'token_count': 12}], 'candidates_tokens_details': [{'modality': 1, 'token_count': 663}], 'thoughts_token_count': 1239, 'cached_content_token_count': 0, 'cache_tokens_details': []}, 'finish_reason': 'STOP', 'avg_logprobs': -0.3669324043469551, 'model_name': 'gemini-2.5-pro'}, id='run--be4c1f61-0142-4bb4-bb4d-b58ce6a1f05d-0', usage_metadata={'input_tokens': 12, 'output_tokens': 663, 'total_tokens': 1914, 'input_token_details': {'cache_read': 0}, 'output_token_details': {'reasoning': 1239}})}\n"
     ]
    }
   ],
   "source": [
    "initial_state={'question':\"How far is moon from the earth?\"}\n",
    "final_state=workflow.invoke(initial_state)\n",
    "print(final_state)"
   ]
  },
  {
   "cell_type": "code",
   "execution_count": null,
   "id": "4c246297",
   "metadata": {},
   "outputs": [],
   "source": []
  }
 ],
 "metadata": {
  "kernelspec": {
   "display_name": "langgraph-trial (3.13.5)",
   "language": "python",
   "name": "python3"
  },
  "language_info": {
   "codemirror_mode": {
    "name": "ipython",
    "version": 3
   },
   "file_extension": ".py",
   "mimetype": "text/x-python",
   "name": "python",
   "nbconvert_exporter": "python",
   "pygments_lexer": "ipython3",
   "version": "3.13.5"
  }
 },
 "nbformat": 4,
 "nbformat_minor": 5
}
