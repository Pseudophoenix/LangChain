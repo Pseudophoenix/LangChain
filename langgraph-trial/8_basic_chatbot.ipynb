{
 "cells": [
  {
   "cell_type": "code",
   "execution_count": 8,
   "id": "404aa4e6",
   "metadata": {},
   "outputs": [],
   "source": [
    "from langgraph.graph import StateGraph, START, END\n",
    "from langgraph.graph.message import add_messages\n",
    "from langchain_google_vertexai import ChatVertexAI\n",
    "from typing import TypedDict, Annotated\n",
    "from langchain_core.messages import BaseMessage, HumanMessage\n",
    "from langgraph.checkpoint.memory import MemorySaver\n",
    "llm=ChatVertexAI(model_name=\"gemini-2.5-pro\")"
   ]
  },
  {
   "cell_type": "code",
   "execution_count": 2,
   "id": "f327a088",
   "metadata": {},
   "outputs": [],
   "source": [
    "class ChatState(TypedDict):\n",
    "    messages:Annotated[list[BaseMessage],add_messages]"
   ]
  },
  {
   "cell_type": "code",
   "execution_count": 3,
   "id": "4fef8e4e",
   "metadata": {},
   "outputs": [],
   "source": [
    "def chat_node(state:ChatState):\n",
    "    # take user query from state\n",
    "    messages=state['messages']\n",
    "    # send to llm\n",
    "    response=llm.invoke(messages)\n",
    "    # response store into state\n",
    "    return {'messages':[response]}"
   ]
  },
  {
   "cell_type": "code",
   "execution_count": 9,
   "id": "a8ed6b51",
   "metadata": {},
   "outputs": [],
   "source": [
    "checkpointer=MemorySaver()\n",
    "graph=StateGraph(ChatState)\n",
    "\n",
    "graph.add_node('chat_node',chat_node)\n",
    "\n",
    "graph.add_edge(START,'chat_node')\n",
    "graph.add_edge('chat_node',END)\n",
    "\n",
    "workflow=graph.compile(checkpointer=checkpointer)"
   ]
  },
  {
   "cell_type": "code",
   "execution_count": 5,
   "id": "46a66b45",
   "metadata": {},
   "outputs": [
    {
     "data": {
      "image/png": "[encoded data removed]",
      "text/plain": [
       "<langgraph.graph.state.CompiledStateGraph object at 0x0000019A2179DD30>"
      ]
     },
     "execution_count": 5,
     "metadata": {},
     "output_type": "execute_result"
    }
   ],
   "source": [
    "workflow"
   ]
  },
  {
   "cell_type": "code",
   "execution_count": 6,
   "id": "dc24eeb5",
   "metadata": {},
   "outputs": [
    {
     "data": {
      "text/plain": [
       "'The capital of India is **New Delhi**.'"
      ]
     },
     "execution_count": 6,
     "metadata": {},
     "output_type": "execute_result"
    }
   ],
   "source": [
    "initial_message={\n",
    "    'messages':HumanMessage(content=\"What is the capital of India\")\n",
    "}\n",
    "workflow.invoke(initial_message)['messages'][-1].content"
   ]
  },
  {
   "cell_type": "code",
   "execution_count": 11,
   "id": "352b4bd2",
   "metadata": {},
   "outputs": [
    {
     "name": "stdout",
     "output_type": "stream",
     "text": [
      "User: add 10 and 15\n",
      "AI: 10 + 15 = 25\n",
      "User: now square the number\n",
      "AI: 25 squared (25 x 25) is 625.\n",
      "User: exit\n"
     ]
    }
   ],
   "source": [
    "thread_id='1'\n",
    "\n",
    "while True:\n",
    "    user_message=input(\"Type Here: \")\n",
    "    print(\"User:\",user_message)\n",
    "    if user_message.strip().lower() in ['exit','quit','bye']:\n",
    "        break\n",
    "    else:\n",
    "        config={'configurable':{'thread_id':thread_id}}\n",
    "        response=workflow.invoke({'messages':[HumanMessage(content=user_message)]},config=config)\n",
    "        print(\"AI:\",response['messages'][-1].content)"
   ]
  },
  {
   "cell_type": "code",
   "execution_count": 14,
   "id": "04efc334",
   "metadata": {},
   "outputs": [
    {
     "data": {
      "text/plain": [
       "StateSnapshot(values={'messages': [HumanMessage(content='Hi', additional_kwargs={}, response_metadata={}, id='20be8b19-f496-4739-a090-9f09c19f662d'), AIMessage(content='Hello there! How can I help you today?', additional_kwargs={}, response_metadata={'is_blocked': False, 'safety_ratings': [], 'usage_metadata': {'prompt_token_count': 1, 'candidates_token_count': 10, 'total_token_count': 457, 'prompt_tokens_details': [{'modality': 1, 'token_count': 1}], 'candidates_tokens_details': [{'modality': 1, 'token_count': 10}], 'thoughts_token_count': 446, 'cached_content_token_count': 0, 'cache_tokens_details': []}, 'finish_reason': 'STOP', 'avg_logprobs': -8.574069213867187, 'model_name': 'gemini-2.5-pro'}, id='run--70409d63-5585-4208-98d8-d09aa744ebe9-0', usage_metadata={'input_tokens': 1, 'output_tokens': 10, 'total_tokens': 457, 'input_token_details': {'cache_read': 0}, 'output_token_details': {'reasoning': 446}}), HumanMessage(content='What was me previous query', additional_kwargs={}, response_metadata={}, id='9a72a8ed-8d80-40bb-8b1a-07e9da7b0d23'), AIMessage(content='Your previous query was \"Hi\".', additional_kwargs={}, response_metadata={'is_blocked': False, 'safety_ratings': [], 'usage_metadata': {'prompt_token_count': 16, 'candidates_token_count': 7, 'total_token_count': 349, 'prompt_tokens_details': [{'modality': 1, 'token_count': 16}], 'candidates_tokens_details': [{'modality': 1, 'token_count': 7}], 'thoughts_token_count': 326, 'cached_content_token_count': 0, 'cache_tokens_details': []}, 'finish_reason': 'STOP', 'avg_logprobs': -6.169469015938895, 'model_name': 'gemini-2.5-pro'}, id='run--e41e6500-1736-482b-964a-c8cd124a8563-0', usage_metadata={'input_tokens': 16, 'output_tokens': 7, 'total_tokens': 349, 'input_token_details': {'cache_read': 0}, 'output_token_details': {'reasoning': 326}}), HumanMessage(content='add 10 and 15', additional_kwargs={}, response_metadata={}, id='ea94fa99-219d-483e-9d34-20c85886c412'), AIMessage(content='10 + 15 = 25', additional_kwargs={}, response_metadata={'is_blocked': False, 'safety_ratings': [], 'usage_metadata': {'prompt_token_count': 31, 'candidates_token_count': 10, 'total_token_count': 265, 'prompt_tokens_details': [{'modality': 1, 'token_count': 31}], 'candidates_tokens_details': [{'modality': 1, 'token_count': 10}], 'thoughts_token_count': 224, 'cached_content_token_count': 0, 'cache_tokens_details': []}, 'finish_reason': 'STOP', 'avg_logprobs': -2.7625247955322267, 'model_name': 'gemini-2.5-pro'}, id='run--785961ef-bd2b-4e4a-911f-d7d47439ee98-0', usage_metadata={'input_tokens': 31, 'output_tokens': 10, 'total_tokens': 265, 'input_token_details': {'cache_read': 0}, 'output_token_details': {'reasoning': 224}}), HumanMessage(content='now square the number', additional_kwargs={}, response_metadata={}, id='2ba7cd04-119e-4e47-8e44-2f9faff52fb4'), AIMessage(content='25 squared (25 x 25) is 625.', additional_kwargs={}, response_metadata={'is_blocked': False, 'safety_ratings': [], 'usage_metadata': {'prompt_token_count': 45, 'candidates_token_count': 17, 'total_token_count': 489, 'prompt_tokens_details': [{'modality': 1, 'token_count': 45}], 'candidates_tokens_details': [{'modality': 1, 'token_count': 17}], 'thoughts_token_count': 427, 'cached_content_token_count': 0, 'cache_tokens_details': []}, 'finish_reason': 'STOP', 'avg_logprobs': -2.0093785454245174, 'model_name': 'gemini-2.5-pro'}, id='run--122cbb66-5b1d-4ece-b7a6-8b2cf352c435-0', usage_metadata={'input_tokens': 45, 'output_tokens': 17, 'total_tokens': 489, 'input_token_details': {'cache_read': 0}, 'output_token_details': {'reasoning': 427}})]}, next=(), config={'configurable': {'thread_id': '1', 'checkpoint_ns': '', 'checkpoint_id': '1f076cb6-036b-6edd-800a-2cac56d0b47e'}}, metadata={'source': 'loop', 'step': 10, 'parents': {}}, created_at='2025-08-11T15:53:51.312447+00:00', parent_config={'configurable': {'thread_id': '1', 'checkpoint_ns': '', 'checkpoint_id': '1f076cb5-d6ce-6a21-8009-03019d5fb4d1'}}, tasks=(), interrupts=())"
      ]
     },
     "execution_count": 14,
     "metadata": {},
     "output_type": "execute_result"
    }
   ],
   "source": [
    "workflow.get_state(config=config)"
   ]
  }
 ],
 "metadata": {
  "kernelspec": {
   "display_name": "langgraph-trial (3.13.5)",
   "language": "python",
   "name": "python3"
  },
  "language_info": {
   "codemirror_mode": {
    "name": "ipython",
    "version": 3
   },
   "file_extension": ".py",
   "mimetype": "text/x-python",
   "name": "python",
   "nbconvert_exporter": "python",
   "pygments_lexer": "ipython3",
   "version": "3.13.5"
  }
 },
 "nbformat": 4,
 "nbformat_minor": 5
}
