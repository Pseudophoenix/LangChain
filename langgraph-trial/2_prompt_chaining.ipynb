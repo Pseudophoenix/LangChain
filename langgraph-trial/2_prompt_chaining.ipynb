{
 "cells": [
  {
   "cell_type": "code",
   "execution_count": 11,
   "id": "08e28320",
   "metadata": {},
   "outputs": [],
   "source": [
    "from langgraph.graph import StateGraph, START, END\n",
    "from langchain_google_vertexai import ChatVertexAI\n",
    "from dotenv import load_dotenv"
   ]
  },
  {
   "cell_type": "code",
   "execution_count": 1,
   "id": "835da314",
   "metadata": {},
   "outputs": [],
   "source": [
    "from typing import TypedDict\n",
    "class BlogState(TypedDict):\n",
    "    title:str\n",
    "    outline:str\n",
    "    content:str"
   ]
  },
  {
   "cell_type": "code",
   "execution_count": 7,
   "id": "030189f6",
   "metadata": {},
   "outputs": [],
   "source": [
    "model=ChatVertexAI(model_name=\"gemini-2.5-pro\")"
   ]
  },
  {
   "cell_type": "code",
   "execution_count": 22,
   "id": "0fd87f30",
   "metadata": {},
   "outputs": [],
   "source": [
    "def create_outline(state:BlogState)->BlogState:\n",
    "    # fetch title\n",
    "    title=state['title']\n",
    "    # call llm gen\n",
    "    prompt=f\"Generate an detailed outline for a blog on the topic - {title}\"\n",
    "    outline=model.invoke(prompt).content\n",
    "    # update state\n",
    "    state['outline']=outline\n",
    "    return state"
   ]
  },
  {
   "cell_type": "code",
   "execution_count": 23,
   "id": "af73f8e4",
   "metadata": {},
   "outputs": [],
   "source": [
    "def create_blog(state:BlogState):\n",
    "    title=state['title']\n",
    "    outline=state['outline']\n",
    "    prompt=f\"Write a detailed blog on the title - {title} and using the following outline - {outline}\"\n",
    "    content=model.invoke(prompt).content\n",
    "    state['content']=content\n",
    "\n",
    "    return state"
   ]
  },
  {
   "cell_type": "code",
   "execution_count": 27,
   "id": "524b8394",
   "metadata": {},
   "outputs": [],
   "source": [
    "def evaluate():\n",
    "    pass"
   ]
  },
  {
   "cell_type": "code",
   "execution_count": null,
   "id": "aa9d2334",
   "metadata": {},
   "outputs": [],
   "source": [
    "graph=StateGraph(BlogState)\n",
    "\n",
    "graph.add_node(\"create_outline\",create_outline)\n",
    "graph.add_node(\"create_blog\",create_blog)\n",
    "graph.add_node(\"evaluate\",evaluate)\n",
    "\n",
    "graph.add_edge(START,\"create_outline\")\n",
    "graph.add_edge(\"create_outline\",\"create_blog\")\n",
    "graph.add_edge(\"create_blog\",\"evaluate\")\n",
    "graph.add_edge(\"evaluate\",END)\n",
    "\n",
    "workflow=graph.compile()"
   ]
  },
  {
   "cell_type": "code",
   "execution_count": 25,
   "id": "3eec34a0",
   "metadata": {},
   "outputs": [
    {
     "name": "stdout",
     "output_type": "stream",
     "text": [
      "{'title': 'Rise of AI in India', 'outline': 'Of course! Here is a detailed outline for a blog post on the topic \"Rise of AI in India.\" This outline is structured to guide a writer from a captivating introduction to a thought-provoking conclusion, complete with specific examples, keywords for SEO, and a clear narrative flow.\\n\\n---\\n\\n### **Blog Post Outline: The Rise of AI in India**\\n\\n**Target Audience:** Tech enthusiasts, business leaders, policymakers, investors, and students interested in India\\'s technology landscape.\\n\\n**Tone:** Informative, analytical, optimistic yet balanced.\\n\\n**Potential Blog Titles (Choose one or adapt):**\\n*   The Elephant in the Room is an Algorithm: Charting the Rise of AI in India\\n*   India\\'s AI Revolution: From Hype to Reality\\n*   Decoding the Rise of AI in India: Drivers, Impact, and the Road Ahead\\n*   Beyond Silicon Valley: How India is Building its AI Superpower\\n\\n---\\n\\n### **1. Introduction: The Dawn of a New Digital Era**\\n\\n*   **Hook:** Start with a powerful, relatable image or a striking statistic.\\n    *   *Example:* \"From the bustling streets of Mumbai where AI optimizes traffic flow, to the quiet farmlands of Punjab where algorithms predict crop yields, a silent revolution is underway. India isn\\'t just adopting Artificial Intelligence; it\\'s shaping it to solve its unique, population-scale challenges.\"\\n*   **Thesis Statement:** Clearly state the blog\\'s purpose.\\n    *   *Example:* \"This article explores the multifaceted rise of Artificial Intelligence in India, examining the key drivers powering its growth, its transformative impact across critical sectors, the challenges it faces, and its potential to position India as a global AI leader.\"\\n*   **Roadmap:** Briefly outline the sections of the post to set reader expectations.\\n    *   *Example:* \"We will journey through the \\'perfect storm\\' of factors enabling this boom, see AI in action from FinTech to AgriTech, meet the key players in the ecosystem, and navigate the crucial ethical and infrastructural hurdles on the path forward.\"\\n\\n---\\n\\n### **2. The Perfect Storm: Why AI is Booming in India *Now***\\n\\n*(This section explains the foundational pillars of India\\'s AI growth.)*\\n\\n*   **The Data Deluge:**\\n    *   **The \"Jio Effect\":** World\\'s cheapest mobile data leading to an explosion of data generation.\\n    *   **Massive Digital Footprint:** Over 800 million internet users, creating vast datasets for training AI models.\\n*   **The Government\\'s Strategic Push:**\\n    *   **NITI Aayog\\'s #AIForAll Strategy:** Mention its focus on inclusive growth and social empowerment through AI.\\n    *   **IndiaAI Mission:** Highlight the recent government approval of a ~₹10,372 crore mission to boost the AI ecosystem, focusing on compute infrastructure, startups, and talent.\\n*   **The India Stack as a Launchpad:**\\n    *   Explain how digital public goods like **Aadhaar** (biometric ID), **UPI** (payments), and **OCEN** (lending) create a unique, population-scale platform for AI applications. This is India\\'s unique advantage.\\n*   **A Thriving Ecosystem:**\\n    *   **Talent Powerhouse:** World\\'s largest pool of STEM graduates and a massive IT workforce ready for upskilling.\\n    *   **Vibrant Startup Culture:** Third-largest startup ecosystem globally, with AI-first companies attracting significant venture capital.\\n\\n---\\n\\n### **3. AI in Action: Transforming Key Indian Sectors**\\n\\n*(This section provides concrete, real-world examples to make the impact tangible.)*\\n\\n*   **A. Healthcare:**\\n    *   **Diagnostics:** AI tools for early detection of diabetic retinopathy, tuberculosis, and cancers from medical scans. (e.g., Niramai, Qure.ai).\\n    *   **Accessibility:** Telemedicine platforms using AI chatbots for preliminary consultations in remote areas.\\n*   **B. Agriculture (AgriTech):**\\n    *   **Precision Farming:** AI-powered drones and satellite imagery for crop health monitoring, soil analysis, and pest prediction.\\n    *   **Market Linkages:** AI platforms predicting market prices to help farmers get better returns.\\n*   **C. Finance (FinTech):**\\n    *   **Financial Inclusion:** AI-based credit scoring models for lending to individuals without a formal credit history.\\n    *   **Customer Service & Fraud Detection:** Chatbots handling millions of queries (e.g., HDFC\\'s Eva) and real-time fraud analysis on UPI transactions.\\n*   **D. E-commerce & Retail:**\\n    *   **Hyper-Personalization:** Recommendation engines tailored to diverse Indian tastes and languages.\\n    *   **Supply Chain Optimization:** AI for demand forecasting and optimizing logistics in a complex geographical landscape (e.g., Locus.sh).\\n*   **E. Governance & Public Services:**\\n    *   **Language Translation:** Projects like **Bhashini** aim to break down language barriers in a multilingual nation, making services accessible to all.\\n    *   **Traffic Management:** AI-powered systems in cities like Bengaluru and Delhi to optimize signal timing and reduce congestion.\\n\\n---\\n\\n### **4. The Architects of India\\'s AI Future: The Key Players**\\n\\n*(This section maps out the ecosystem.)*\\n\\n*   **Government and Policymakers:**\\n    *   NITI Aayog, Ministry of Electronics and IT (MeitY) setting the vision and policy frameworks.\\n*   **Tech Giants (Global and Indian):**\\n    *   **Global:** Google, Microsoft, AWS investing heavily in India-specific AI R&D labs.\\n    *   **Indian:** Reliance (Jio Haptik), Tata Group (TCS, Tata Elxsi), Infosys building large-scale AI capabilities.\\n*   **The Startup Brigade:**\\n    *   Highlight a few innovative AI startups (e.g., **GreyOrange** for warehouse robotics, **Haptik** for conversational AI, **Fractal Analytics** for enterprise AI).\\n*   **Academia and Research:**\\n    *   The crucial role of institutions like the **IITs, IIITs, and IISc** in fundamental research and nurturing top-tier AI talent.\\n\\n---\\n\\n### **5. Navigating the Hurdles: Challenges on the AI Journey**\\n\\n*(This section provides a balanced view by addressing the roadblocks.)*\\n\\n*   **The Skill Gap:** The difference between having STEM graduates and having industry-ready AI/ML engineers. The need for massive upskilling.\\n*   **Data Privacy and Security:** The critical importance of a robust Data Protection Law to build trust and govern data usage.\\n*   **Ethical Dilemmas & Algorithmic Bias:** How to ensure AI models are not biased against gender, caste, or region in a deeply diverse society.\\n*   **Infrastructure Divide:** The gap in high-quality data access and compute power between urban centers and rural India.\\n*   **Job Displacement Fears:** Addressing the societal anxiety around AI\\'s impact on both blue-collar and white-collar jobs.\\n\\n---\\n\\n### **6. The Road Ahead: India\\'s Aspiration as a Global AI Leader**\\n\\n*(This section looks to the future with a forward-looking perspective.)*\\n\\n*   **From \"AI Adopter\" to \"AI Innovator\":** The shift from merely applying AI to creating foundational models and sovereign AI capabilities.\\n*   **Building \"AI for India, and AI for the World\":**\\n    *   Focusing on creating solutions for India\\'s unique problems (e.g., low-resource language models, affordable healthcare diagnostics).\\n    *   The potential to export these frugal, scalable solutions to other developing nations.\\n*   **The \"India Stack for AI\":** A powerful concluding concept. How India can leverage its digital public infrastructure to create population-scale AI services that are equitable and accessible.\\n*   **Policy as the North Star:** The need for agile, forward-thinking regulation that fosters innovation while mitigating risks.\\n\\n---\\n\\n### **7. Conclusion: The Human Element in an Artificial Age**\\n\\n*   **Summary of Key Points:** Briefly recap the drivers (data, government, talent), the widespread impact, and the critical challenges.\\n*   **Reiterate the Core Message:** The rise of AI in India is not just a technological story but a socio-economic one, with the potential to drive unprecedented growth and inclusion.\\n*   **Final Thought-Provoking Statement:**\\n    *   *Example:* \"As India stands at this technological crossroads, its greatest challenge—and its greatest opportunity—is not just to build world-class artificial intelligence, but to cultivate the collective human wisdom to wield it for the good of all 1.4 billion of its people.\"\\n\\n---\\n\\n### **8. Call to Action (CTA)**\\n\\n*   **Engage the Reader:** \"What are your thoughts on AI\\'s role in India\\'s future? Which sector do you think will be most transformed?\"\\n*   **Encourage Sharing:** \"Share this article with anyone interested in the future of technology in India.\"\\n*   **Social Media Prompt:** \"Join the conversation on [Twitter/LinkedIn] using the hashtag #AIforIndia.\"', 'content': 'Of course! Based on the comprehensive outline you provided, here is a detailed blog post.\\n\\n---\\n\\n### **Decoding the Rise of AI in India: From Hype to Reality**\\n\\nFrom the bustling streets of Mumbai where AI optimizes traffic flow, to the quiet farmlands of Punjab where algorithms predict crop yields, a silent revolution is underway. India isn\\'t just adopting Artificial Intelligence; it\\'s shaping it to solve its unique, population-scale challenges. This is not another story of distant Silicon Valley innovation; this is the chronicle of a digital powerhouse awakening to its own AI destiny.\\n\\nThis article decodes the multifaceted rise of Artificial Intelligence in India. We will explore the key drivers powering its growth, its transformative impact across critical sectors, the significant challenges it faces, and its immense potential to position India as a global AI leader. We will journey through the \\'perfect storm\\' of factors enabling this boom, see AI in action from FinTech to AgriTech, meet the key players in the ecosystem, and navigate the crucial ethical and infrastructural hurdles on the path forward.\\n\\n### **The Perfect Storm: Why AI is Booming in India *Now***\\n\\nThe current AI surge in India isn\\'t a coincidence; it\\'s the result of several powerful forces converging at the perfect moment.\\n\\n*   **The Data Deluge:** Data is the fuel for AI, and India is generating it at an unprecedented scale. The **\"Jio Effect,\"** which crashed mobile data prices to the lowest in the world, brought hundreds of millions of Indians online for the first time. With over 800 million internet users, this massive digital footprint creates a colossal, diverse dataset—a goldmine for training sophisticated AI models on everything from consumer behavior to linguistic patterns.\\n\\n*   **The Government\\'s Strategic Push:** The Indian government has moved from being a spectator to a key enabler. The NITI Aayog’s **#AIForAll** strategy laid the philosophical groundwork, emphasizing inclusive growth and social empowerment. More recently, this vision was backed by serious capital with the approval of the **IndiaAI Mission**, a landmark initiative with an outlay of over ₹10,372 crore (~$1.25 billion). This mission is laser-focused on building critical compute infrastructure, nurturing AI startups, and developing skilled talent.\\n\\n*   **The India Stack as a Launchpad:** This is India\\'s unique and perhaps most powerful advantage. A suite of digital public goods, the **India Stack**, provides a ready-made foundation for AI innovation. **Aadhaar**, the world\\'s largest biometric ID system, offers identity verification. The **Unified Payments Interface (UPI)** provides a seamless, real-time payment layer. And platforms like the **Open Credit Enablement Network (OCEN)** are democratizing lending. This stack allows AI applications to be built and scaled to a billion people with incredible speed and efficiency.\\n\\n*   **A Thriving Ecosystem:** India is a human capital superpower. It has the world\\'s largest pool of STEM graduates and a massive IT workforce that is rapidly upskilling for the AI era. This talent feeds into the world\\'s third-largest startup ecosystem, where AI-first companies are attracting significant venture capital and tackling complex problems with innovative solutions.\\n\\n### **AI in Action: Transforming Key Indian Sectors**\\n\\nThe impact of AI is no longer theoretical. It\\'s creating tangible value across the length and breadth of the Indian economy.\\n\\n**A. Healthcare:**\\nIn a country with a skewed doctor-to-patient ratio, AI is a force multiplier. Startups like **Niramai** are using AI-powered thermal imaging for early, non-invasive detection of breast cancer. **Qure.ai**’s algorithms analyze medical scans like X-rays and CTs to quickly flag signs of tuberculosis and other anomalies. Beyond diagnostics, telemedicine platforms are using AI chatbots to provide preliminary consultations, extending the reach of healthcare to remote villages.\\n\\n**B. Agriculture (AgriTech):**\\nAI is bringing a new science to the art of farming. Drones equipped with AI analyze satellite imagery to monitor crop health, assess soil conditions, and predict pest attacks, enabling **precision farming**. This helps farmers optimize the use of water, fertilizers, and pesticides. Furthermore, AI-powered platforms are predicting market prices, helping farmers make informed decisions on when and where to sell their produce for better returns.\\n\\n**C. Finance (FinTech):**\\nIndia’s FinTech revolution is supercharged by AI. For millions of people without a formal credit history, AI-based credit scoring models are analyzing alternative data points (like mobile phone usage) to facilitate **financial inclusion**. In customer service, banks like HDFC have deployed chatbots like **Eva** to handle millions of customer queries 24/7. Behind the scenes, AI algorithms work tirelessly to analyze billions of UPI transactions in real-time to detect and prevent fraud.\\n\\n**D. E-commerce & Retail:**\\nIn a market as diverse as India, one size fits none. AI excels at **hyper-personalization**, with recommendation engines that cater to varied regional tastes, languages, and purchasing power. Companies like **Locus.sh** are using AI to solve the notoriously complex challenge of last-mile delivery, optimizing supply chains and forecasting demand to ensure products reach customers on time, whether in a metro or a small town.\\n\\n**E. Governance & Public Services:**\\nThe government is leveraging AI to make services more accessible and efficient. The ambitious **Bhashini** mission aims to use AI for real-time language translation, breaking down communication barriers in a nation with 22 official languages. In cities like Bengaluru and Delhi, AI-powered systems are being deployed for intelligent **traffic management**, optimizing signal timings to reduce congestion and pollution.\\n\\n### **The Architects of India\\'s AI Future: The Key Players**\\n\\nThis transformation is being driven by a dynamic ecosystem of collaborators.\\n\\n*   **Government and Policymakers:** **NITI Aayog** and the **Ministry of Electronics and IT (MeitY)** are setting the national vision, crafting policies, and funding foundational projects.\\n*   **Tech Giants (Global and Indian):** **Google, Microsoft, and AWS** are investing heavily in India-specific R&D labs. Simultaneously, Indian behemoths like **Reliance (Jio Haptik), the Tata Group (TCS, Tata Elxsi), and Infosys** are building large-scale AI capabilities for both domestic and global clients.\\n*   **The Startup Brigade:** This is where the most agile innovation happens. From **GreyOrange** revolutionizing warehouse automation with AI-powered robotics to **Haptik** leading the conversational AI space and **Fractal Analytics** delivering enterprise-grade AI solutions, startups are the engine of India\\'s AI growth.\\n*   **Academia and Research:** Premier institutions like the **IITs, IIITs, and IISc** are the bedrock of the ecosystem. They conduct fundamental research and, most importantly, nurture the next generation of world-class AI talent.\\n\\n### **Navigating the Hurdles: Challenges on the AI Journey**\\n\\nThe road to becoming an AI superpower is not without its obstacles.\\n\\n*   **The Skill Gap:** While India has millions of STEM graduates, there is a significant gap between academic knowledge and industry-ready AI/ML engineering skills. A massive, nationwide upskilling initiative is crucial.\\n*   **Data Privacy and Security:** For AI to flourish, citizens must trust how their data is used. The implementation of a robust **Data Protection Law** is critical to govern data usage ethically and securely.\\n*   **Ethical Dilemmas & Algorithmic Bias:** In a society as diverse as India, ensuring AI models are free from biases related to gender, caste, religion, or region is a monumental challenge that requires careful design and constant auditing.\\n*   **Infrastructure Divide:** High-speed internet and the compute power needed for complex AI are still concentrated in urban centers. Bridging this digital divide is essential for equitable AI-led growth.\\n*   **Job Displacement Fears:** The societal anxiety around AI\\'s impact on both blue-collar (manufacturing, logistics) and white-collar (customer service, data entry) jobs is real and must be addressed through policies focused on retraining and social safety nets.\\n\\n### **The Road Ahead: India\\'s Aspiration as a Global AI Leader**\\n\\nIndia\\'s ambition is clear: to transition from being an \"AI Adopter\" to a global \"AI Innovator.\"\\n\\nThe strategy is to build **\"AI for India, and AI for the World.\"** This involves focusing on creating solutions for India\\'s unique problems—like building AI models for low-resource languages or developing affordable healthcare diagnostics. These frugal, scalable solutions can then be exported to other developing nations facing similar challenges.\\n\\nThe ultimate vision is to create an **\"India Stack for AI\"**—leveraging the nation\\'s digital public infrastructure to build and deliver population-scale AI services that are equitable, accessible, and inclusive. This journey will require **policy as the North Star**—agile, forward-thinking regulation that champions innovation while diligently mitigating risks.\\n\\n### **Conclusion: The Human Element in an Artificial Age**\\n\\nThe rise of AI in India is a defining story of our time. It\\'s powered by the perfect storm of data, government will, entrepreneurial energy, and immense human talent. Its impact is already being felt across every major sector, promising a future of enhanced productivity and social progress. Yet, this journey is accompanied by critical challenges of skill development, ethics, and equality that must be navigated with care.\\n\\nAs India stands at this technological crossroads, its greatest challenge—and its greatest opportunity—is not just to build world-class artificial intelligence, but to cultivate the collective human wisdom to wield it for the good of all 1.4 billion of its people.\\n\\n---\\n\\n#### **What are your thoughts on AI\\'s role in India\\'s future? Which sector do you think will be most transformed?**\\n\\n*Share this article with anyone interested in the future of technology in India and join the conversation on social media using the hashtag **#AIforIndia**.*'}\n"
     ]
    }
   ],
   "source": [
    "initial_state={'title':'Rise of AI in India'}\n",
    "\n",
    "final_state=workflow.invoke(initial_state)\n",
    "print(final_state)"
   ]
  },
  {
   "cell_type": "code",
   "execution_count": 26,
   "id": "0d34d9d8",
   "metadata": {},
   "outputs": [
    {
     "name": "stdout",
     "output_type": "stream",
     "text": [
      "Of course! Based on the comprehensive outline you provided, here is a detailed blog post.\n",
      "\n",
      "---\n",
      "\n",
      "### **Decoding the Rise of AI in India: From Hype to Reality**\n",
      "\n",
      "From the bustling streets of Mumbai where AI optimizes traffic flow, to the quiet farmlands of Punjab where algorithms predict crop yields, a silent revolution is underway. India isn't just adopting Artificial Intelligence; it's shaping it to solve its unique, population-scale challenges. This is not another story of distant Silicon Valley innovation; this is the chronicle of a digital powerhouse awakening to its own AI destiny.\n",
      "\n",
      "This article decodes the multifaceted rise of Artificial Intelligence in India. We will explore the key drivers powering its growth, its transformative impact across critical sectors, the significant challenges it faces, and its immense potential to position India as a global AI leader. We will journey through the 'perfect storm' of factors enabling this boom, see AI in action from FinTech to AgriTech, meet the key players in the ecosystem, and navigate the crucial ethical and infrastructural hurdles on the path forward.\n",
      "\n",
      "### **The Perfect Storm: Why AI is Booming in India *Now***\n",
      "\n",
      "The current AI surge in India isn't a coincidence; it's the result of several powerful forces converging at the perfect moment.\n",
      "\n",
      "*   **The Data Deluge:** Data is the fuel for AI, and India is generating it at an unprecedented scale. The **\"Jio Effect,\"** which crashed mobile data prices to the lowest in the world, brought hundreds of millions of Indians online for the first time. With over 800 million internet users, this massive digital footprint creates a colossal, diverse dataset—a goldmine for training sophisticated AI models on everything from consumer behavior to linguistic patterns.\n",
      "\n",
      "*   **The Government's Strategic Push:** The Indian government has moved from being a spectator to a key enabler. The NITI Aayog’s **#AIForAll** strategy laid the philosophical groundwork, emphasizing inclusive growth and social empowerment. More recently, this vision was backed by serious capital with the approval of the **IndiaAI Mission**, a landmark initiative with an outlay of over ₹10,372 crore (~$1.25 billion). This mission is laser-focused on building critical compute infrastructure, nurturing AI startups, and developing skilled talent.\n",
      "\n",
      "*   **The India Stack as a Launchpad:** This is India's unique and perhaps most powerful advantage. A suite of digital public goods, the **India Stack**, provides a ready-made foundation for AI innovation. **Aadhaar**, the world's largest biometric ID system, offers identity verification. The **Unified Payments Interface (UPI)** provides a seamless, real-time payment layer. And platforms like the **Open Credit Enablement Network (OCEN)** are democratizing lending. This stack allows AI applications to be built and scaled to a billion people with incredible speed and efficiency.\n",
      "\n",
      "*   **A Thriving Ecosystem:** India is a human capital superpower. It has the world's largest pool of STEM graduates and a massive IT workforce that is rapidly upskilling for the AI era. This talent feeds into the world's third-largest startup ecosystem, where AI-first companies are attracting significant venture capital and tackling complex problems with innovative solutions.\n",
      "\n",
      "### **AI in Action: Transforming Key Indian Sectors**\n",
      "\n",
      "The impact of AI is no longer theoretical. It's creating tangible value across the length and breadth of the Indian economy.\n",
      "\n",
      "**A. Healthcare:**\n",
      "In a country with a skewed doctor-to-patient ratio, AI is a force multiplier. Startups like **Niramai** are using AI-powered thermal imaging for early, non-invasive detection of breast cancer. **Qure.ai**’s algorithms analyze medical scans like X-rays and CTs to quickly flag signs of tuberculosis and other anomalies. Beyond diagnostics, telemedicine platforms are using AI chatbots to provide preliminary consultations, extending the reach of healthcare to remote villages.\n",
      "\n",
      "**B. Agriculture (AgriTech):**\n",
      "AI is bringing a new science to the art of farming. Drones equipped with AI analyze satellite imagery to monitor crop health, assess soil conditions, and predict pest attacks, enabling **precision farming**. This helps farmers optimize the use of water, fertilizers, and pesticides. Furthermore, AI-powered platforms are predicting market prices, helping farmers make informed decisions on when and where to sell their produce for better returns.\n",
      "\n",
      "**C. Finance (FinTech):**\n",
      "India’s FinTech revolution is supercharged by AI. For millions of people without a formal credit history, AI-based credit scoring models are analyzing alternative data points (like mobile phone usage) to facilitate **financial inclusion**. In customer service, banks like HDFC have deployed chatbots like **Eva** to handle millions of customer queries 24/7. Behind the scenes, AI algorithms work tirelessly to analyze billions of UPI transactions in real-time to detect and prevent fraud.\n",
      "\n",
      "**D. E-commerce & Retail:**\n",
      "In a market as diverse as India, one size fits none. AI excels at **hyper-personalization**, with recommendation engines that cater to varied regional tastes, languages, and purchasing power. Companies like **Locus.sh** are using AI to solve the notoriously complex challenge of last-mile delivery, optimizing supply chains and forecasting demand to ensure products reach customers on time, whether in a metro or a small town.\n",
      "\n",
      "**E. Governance & Public Services:**\n",
      "The government is leveraging AI to make services more accessible and efficient. The ambitious **Bhashini** mission aims to use AI for real-time language translation, breaking down communication barriers in a nation with 22 official languages. In cities like Bengaluru and Delhi, AI-powered systems are being deployed for intelligent **traffic management**, optimizing signal timings to reduce congestion and pollution.\n",
      "\n",
      "### **The Architects of India's AI Future: The Key Players**\n",
      "\n",
      "This transformation is being driven by a dynamic ecosystem of collaborators.\n",
      "\n",
      "*   **Government and Policymakers:** **NITI Aayog** and the **Ministry of Electronics and IT (MeitY)** are setting the national vision, crafting policies, and funding foundational projects.\n",
      "*   **Tech Giants (Global and Indian):** **Google, Microsoft, and AWS** are investing heavily in India-specific R&D labs. Simultaneously, Indian behemoths like **Reliance (Jio Haptik), the Tata Group (TCS, Tata Elxsi), and Infosys** are building large-scale AI capabilities for both domestic and global clients.\n",
      "*   **The Startup Brigade:** This is where the most agile innovation happens. From **GreyOrange** revolutionizing warehouse automation with AI-powered robotics to **Haptik** leading the conversational AI space and **Fractal Analytics** delivering enterprise-grade AI solutions, startups are the engine of India's AI growth.\n",
      "*   **Academia and Research:** Premier institutions like the **IITs, IIITs, and IISc** are the bedrock of the ecosystem. They conduct fundamental research and, most importantly, nurture the next generation of world-class AI talent.\n",
      "\n",
      "### **Navigating the Hurdles: Challenges on the AI Journey**\n",
      "\n",
      "The road to becoming an AI superpower is not without its obstacles.\n",
      "\n",
      "*   **The Skill Gap:** While India has millions of STEM graduates, there is a significant gap between academic knowledge and industry-ready AI/ML engineering skills. A massive, nationwide upskilling initiative is crucial.\n",
      "*   **Data Privacy and Security:** For AI to flourish, citizens must trust how their data is used. The implementation of a robust **Data Protection Law** is critical to govern data usage ethically and securely.\n",
      "*   **Ethical Dilemmas & Algorithmic Bias:** In a society as diverse as India, ensuring AI models are free from biases related to gender, caste, religion, or region is a monumental challenge that requires careful design and constant auditing.\n",
      "*   **Infrastructure Divide:** High-speed internet and the compute power needed for complex AI are still concentrated in urban centers. Bridging this digital divide is essential for equitable AI-led growth.\n",
      "*   **Job Displacement Fears:** The societal anxiety around AI's impact on both blue-collar (manufacturing, logistics) and white-collar (customer service, data entry) jobs is real and must be addressed through policies focused on retraining and social safety nets.\n",
      "\n",
      "### **The Road Ahead: India's Aspiration as a Global AI Leader**\n",
      "\n",
      "India's ambition is clear: to transition from being an \"AI Adopter\" to a global \"AI Innovator.\"\n",
      "\n",
      "The strategy is to build **\"AI for India, and AI for the World.\"** This involves focusing on creating solutions for India's unique problems—like building AI models for low-resource languages or developing affordable healthcare diagnostics. These frugal, scalable solutions can then be exported to other developing nations facing similar challenges.\n",
      "\n",
      "The ultimate vision is to create an **\"India Stack for AI\"**—leveraging the nation's digital public infrastructure to build and deliver population-scale AI services that are equitable, accessible, and inclusive. This journey will require **policy as the North Star**—agile, forward-thinking regulation that champions innovation while diligently mitigating risks.\n",
      "\n",
      "### **Conclusion: The Human Element in an Artificial Age**\n",
      "\n",
      "The rise of AI in India is a defining story of our time. It's powered by the perfect storm of data, government will, entrepreneurial energy, and immense human talent. Its impact is already being felt across every major sector, promising a future of enhanced productivity and social progress. Yet, this journey is accompanied by critical challenges of skill development, ethics, and equality that must be navigated with care.\n",
      "\n",
      "As India stands at this technological crossroads, its greatest challenge—and its greatest opportunity—is not just to build world-class artificial intelligence, but to cultivate the collective human wisdom to wield it for the good of all 1.4 billion of its people.\n",
      "\n",
      "---\n",
      "\n",
      "#### **What are your thoughts on AI's role in India's future? Which sector do you think will be most transformed?**\n",
      "\n",
      "*Share this article with anyone interested in the future of technology in India and join the conversation on social media using the hashtag **#AIforIndia**.*\n"
     ]
    }
   ],
   "source": [
    "print(final_state['content'])"
   ]
  },
  {
   "cell_type": "code",
   "execution_count": null,
   "id": "073756d1",
   "metadata": {},
   "outputs": [],
   "source": []
  }
 ],
 "metadata": {
  "kernelspec": {
   "display_name": "langgraph-trial (3.13.5)",
   "language": "python",
   "name": "python3"
  },
  "language_info": {
   "codemirror_mode": {
    "name": "ipython",
    "version": 3
   },
   "file_extension": ".py",
   "mimetype": "text/x-python",
   "name": "python",
   "nbconvert_exporter": "python",
   "pygments_lexer": "ipython3",
   "version": "3.13.5"
  }
 },
 "nbformat": 4,
 "nbformat_minor": 5
}
