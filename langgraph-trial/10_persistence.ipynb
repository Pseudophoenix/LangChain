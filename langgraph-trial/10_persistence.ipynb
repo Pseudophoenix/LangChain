{
 "cells": [
  {
   "cell_type": "code",
   "execution_count": 14,
   "id": "3cabe629",
   "metadata": {},
   "outputs": [],
   "source": [
    "from langgraph.graph import StateGraph, START, END\n",
    "from dotenv import load_dotenv\n",
    "from langchain_google_vertexai import ChatVertexAI\n",
    "from typing import TypedDict\n",
    "from langgraph.checkpoint.memory import InMemorySaver"
   ]
  },
  {
   "cell_type": "code",
   "execution_count": 15,
   "id": "3cb7b4be",
   "metadata": {},
   "outputs": [],
   "source": [
    "load_dotenv()\n",
    "\n",
    "llm=ChatVertexAI(model_name=\"gemini-2.5-pro\")"
   ]
  },
  {
   "cell_type": "code",
   "execution_count": 16,
   "id": "f98daea5",
   "metadata": {},
   "outputs": [],
   "source": [
    "class JokeState(TypedDict):\n",
    "    topic:str\n",
    "    joke:str\n",
    "    explaination:str"
   ]
  },
  {
   "cell_type": "code",
   "execution_count": 17,
   "id": "230b3a0f",
   "metadata": {},
   "outputs": [],
   "source": [
    "def generate_joke(state:JokeState):\n",
    "    prompt=f\"generate a joke on the topic {state['topic']}\"\n",
    "    response=llm.invoke(prompt).content\n",
    "    return {'joke':response}"
   ]
  },
  {
   "cell_type": "code",
   "execution_count": 18,
   "id": "11330f28",
   "metadata": {},
   "outputs": [],
   "source": [
    "def generate_explaination(state:JokeState):\n",
    "    prompt=f\"Write an explaination for the joke - {state[\"joke\"]}\"\n",
    "    response=llm.invoke(prompt).content\n",
    "    return {\"explaination\":response}"
   ]
  },
  {
   "cell_type": "code",
   "execution_count": 20,
   "id": "8bd4a9b5",
   "metadata": {},
   "outputs": [],
   "source": [
    "graph=StateGraph(JokeState)\n",
    "\n",
    "graph.add_node('generate_joke',generate_joke)\n",
    "graph.add_node('generate_explaination',generate_explaination)\n",
    "\n",
    "graph.add_edge(START,'generate_joke')\n",
    "graph.add_edge('generate_joke','generate_explaination')\n",
    "graph.add_edge('generate_explaination',END)\n",
    "\n",
    "checkpointer=InMemorySaver()\n",
    "workflow=graph.compile(checkpointer=checkpointer)"
   ]
  },
  {
   "cell_type": "code",
   "execution_count": null,
   "id": "24992811",
   "metadata": {},
   "outputs": [],
   "source": [
    "config1={\"configurable\":{'thread_id':'1'}}\n",
    "workflow.invoke({'topic':\"Pizza\"},config=config1)"
   ]
  },
  {
   "cell_type": "code",
   "execution_count": null,
   "id": "636b1f98",
   "metadata": {},
   "outputs": [],
   "source": []
  }
 ],
 "metadata": {
  "kernelspec": {
   "display_name": "langgraph-trial (3.13.5)",
   "language": "python",
   "name": "python3"
  },
  "language_info": {
   "codemirror_mode": {
    "name": "ipython",
    "version": 3
   },
   "file_extension": ".py",
   "mimetype": "text/x-python",
   "name": "python",
   "nbconvert_exporter": "python",
   "pygments_lexer": "ipython3",
   "version": "3.13.5"
  }
 },
 "nbformat": 4,
 "nbformat_minor": 5
}
