{
 "cells": [
  {
   "cell_type": "code",
   "execution_count": 14,
   "id": "3cabe629",
   "metadata": {},
   "outputs": [],
   "source": [
    "from langgraph.graph import StateGraph, START, END\n",
    "from dotenv import load_dotenv\n",
    "from langchain_google_vertexai import ChatVertexAI\n",
    "from typing import TypedDict\n",
    "from langgraph.checkpoint.memory import InMemorySaver"
   ]
  },
  {
   "cell_type": "code",
   "execution_count": 15,
   "id": "3cb7b4be",
   "metadata": {},
   "outputs": [],
   "source": [
    "load_dotenv()\n",
    "\n",
    "llm=ChatVertexAI(model_name=\"gemini-2.5-pro\")"
   ]
  },
  {
   "cell_type": "code",
   "execution_count": 16,
   "id": "f98daea5",
   "metadata": {},
   "outputs": [],
   "source": [
    "class JokeState(TypedDict):\n",
    "    topic:str\n",
    "    joke:str\n",
    "    explaination:str"
   ]
  },
  {
   "cell_type": "code",
   "execution_count": 17,
   "id": "230b3a0f",
   "metadata": {},
   "outputs": [],
   "source": [
    "def generate_joke(state:JokeState):\n",
    "    prompt=f\"generate a joke on the topic {state['topic']}\"\n",
    "    response=llm.invoke(prompt).content\n",
    "    return {'joke':response}"
   ]
  },
  {
   "cell_type": "code",
   "execution_count": 18,
   "id": "11330f28",
   "metadata": {},
   "outputs": [],
   "source": [
    "def generate_explaination(state:JokeState):\n",
    "    prompt=f\"Write an explaination for the joke - {state[\"joke\"]}\"\n",
    "    response=llm.invoke(prompt).content\n",
    "    return {\"explaination\":response}"
   ]
  },
  {
   "cell_type": "code",
   "execution_count": 20,
   "id": "8bd4a9b5",
   "metadata": {},
   "outputs": [],
   "source": [
    "graph=StateGraph(JokeState)\n",
    "\n",
    "graph.add_node('generate_joke',generate_joke)\n",
    "graph.add_node('generate_explaination',generate_explaination)\n",
    "\n",
    "graph.add_edge(START,'generate_joke')\n",
    "graph.add_edge('generate_joke','generate_explaination')\n",
    "graph.add_edge('generate_explaination',END)\n",
    "\n",
    "checkpointer=InMemorySaver()\n",
    "workflow=graph.compile(checkpointer=checkpointer)"
   ]
  },
  {
   "cell_type": "code",
   "execution_count": 25,
   "id": "24992811",
   "metadata": {},
   "outputs": [
    {
     "data": {
      "text/plain": [
       "{'topic': 'Mango',\n",
       " 'joke': 'Why did the peach break up with the mango?\\n\\nBecause he said it was time for this **man-go** solo',\n",
       " 'explaination': 'Of course! Here is an explanation of the joke.\\n\\n### The Breakdown of the Joke\\n\\nThis is a classic **pun-based joke**. The humor comes from a word or phrase that has two different meanings.\\n\\n1.  **The Setup:** \"Why did the peach break up with the mango?\"\\n    This creates a question about a relationship, but personifies two fruits, which is already silly.\\n\\n2.  **The Punchline:** \"Because he said it was time for this **man-go** solo.\"\\n\\nThe key to the joke is the pun on the word \"mango.\" The punchline splits the word into two parts:\\n\\n*   **Man**\\n*   **Go**\\n\\nSo, the phrase \"**man-go solo**\" can be read as \"**man to go solo**.\"\\n\\n### The Double Meaning\\n\\n*   **Literal Meaning:** The mango (the fruit) is speaking.\\n*   **Pun Meaning:** The mango (the \"man\" in the relationship) is declaring that it\\'s time for him **\"to go solo.\"**\\n\\n\"Going solo\" is a common expression for ending a relationship to be single and independent.\\n\\n### Putting It All Together\\n\\nThe joke is funny because the mango is breaking up with the peach using a very human cliché (\"I need to go solo\"), but he phrases it as a pun on his own name. The absurdity of a fruit having such a dramatic, self-aware breakup moment is what makes it a classic \"dad joke.\"'}"
      ]
     },
     "execution_count": 25,
     "metadata": {},
     "output_type": "execute_result"
    }
   ],
   "source": [
    "config1={\"configurable\":{'thread_id':'2'}}\n",
    "workflow.invoke({'topic':\"Mango\"},config=config1)"
   ]
  },
  {
   "cell_type": "code",
   "execution_count": 26,
   "id": "636b1f98",
   "metadata": {},
   "outputs": [
    {
     "data": {
      "text/plain": [
       "StateSnapshot(values={'topic': 'Mango', 'joke': 'Why did the peach break up with the mango?\\n\\nBecause he said it was time for this **man-go** solo', 'explaination': 'Of course! Here is an explanation of the joke.\\n\\n### The Breakdown of the Joke\\n\\nThis is a classic **pun-based joke**. The humor comes from a word or phrase that has two different meanings.\\n\\n1.  **The Setup:** \"Why did the peach break up with the mango?\"\\n    This creates a question about a relationship, but personifies two fruits, which is already silly.\\n\\n2.  **The Punchline:** \"Because he said it was time for this **man-go** solo.\"\\n\\nThe key to the joke is the pun on the word \"mango.\" The punchline splits the word into two parts:\\n\\n*   **Man**\\n*   **Go**\\n\\nSo, the phrase \"**man-go solo**\" can be read as \"**man to go solo**.\"\\n\\n### The Double Meaning\\n\\n*   **Literal Meaning:** The mango (the fruit) is speaking.\\n*   **Pun Meaning:** The mango (the \"man\" in the relationship) is declaring that it\\'s time for him **\"to go solo.\"**\\n\\n\"Going solo\" is a common expression for ending a relationship to be single and independent.\\n\\n### Putting It All Together\\n\\nThe joke is funny because the mango is breaking up with the peach using a very human cliché (\"I need to go solo\"), but he phrases it as a pun on his own name. The absurdity of a fruit having such a dramatic, self-aware breakup moment is what makes it a classic \"dad joke.\"'}, next=(), config={'configurable': {'thread_id': '2', 'checkpoint_ns': '', 'checkpoint_id': '1f076d99-cf11-6ade-8002-0734ba9250aa'}}, metadata={'source': 'loop', 'step': 2, 'parents': {}}, created_at='2025-08-11T17:35:46.151281+00:00', parent_config={'configurable': {'thread_id': '2', 'checkpoint_ns': '', 'checkpoint_id': '1f076d99-3338-6bed-8001-c224ec45d50d'}}, tasks=(), interrupts=())"
      ]
     },
     "execution_count": 26,
     "metadata": {},
     "output_type": "execute_result"
    }
   ],
   "source": [
    "workflow.get_state(config1)"
   ]
  },
  {
   "cell_type": "code",
   "execution_count": 27,
   "id": "6329d595",
   "metadata": {},
   "outputs": [
    {
     "data": {
      "text/plain": [
       "[StateSnapshot(values={'topic': 'Mango', 'joke': 'Why did the peach break up with the mango?\\n\\nBecause he said it was time for this **man-go** solo', 'explaination': 'Of course! Here is an explanation of the joke.\\n\\n### The Breakdown of the Joke\\n\\nThis is a classic **pun-based joke**. The humor comes from a word or phrase that has two different meanings.\\n\\n1.  **The Setup:** \"Why did the peach break up with the mango?\"\\n    This creates a question about a relationship, but personifies two fruits, which is already silly.\\n\\n2.  **The Punchline:** \"Because he said it was time for this **man-go** solo.\"\\n\\nThe key to the joke is the pun on the word \"mango.\" The punchline splits the word into two parts:\\n\\n*   **Man**\\n*   **Go**\\n\\nSo, the phrase \"**man-go solo**\" can be read as \"**man to go solo**.\"\\n\\n### The Double Meaning\\n\\n*   **Literal Meaning:** The mango (the fruit) is speaking.\\n*   **Pun Meaning:** The mango (the \"man\" in the relationship) is declaring that it\\'s time for him **\"to go solo.\"**\\n\\n\"Going solo\" is a common expression for ending a relationship to be single and independent.\\n\\n### Putting It All Together\\n\\nThe joke is funny because the mango is breaking up with the peach using a very human cliché (\"I need to go solo\"), but he phrases it as a pun on his own name. The absurdity of a fruit having such a dramatic, self-aware breakup moment is what makes it a classic \"dad joke.\"'}, next=(), config={'configurable': {'thread_id': '2', 'checkpoint_ns': '', 'checkpoint_id': '1f076d99-cf11-6ade-8002-0734ba9250aa'}}, metadata={'source': 'loop', 'step': 2, 'parents': {}}, created_at='2025-08-11T17:35:46.151281+00:00', parent_config={'configurable': {'thread_id': '2', 'checkpoint_ns': '', 'checkpoint_id': '1f076d99-3338-6bed-8001-c224ec45d50d'}}, tasks=(), interrupts=()),\n",
       " StateSnapshot(values={'topic': 'Mango', 'joke': 'Why did the peach break up with the mango?\\n\\nBecause he said it was time for this **man-go** solo'}, next=('generate_explaination',), config={'configurable': {'thread_id': '2', 'checkpoint_ns': '', 'checkpoint_id': '1f076d99-3338-6bed-8001-c224ec45d50d'}}, metadata={'source': 'loop', 'step': 1, 'parents': {}}, created_at='2025-08-11T17:35:29.809497+00:00', parent_config={'configurable': {'thread_id': '2', 'checkpoint_ns': '', 'checkpoint_id': '1f076d98-a52a-6607-8000-40a8a3cc5ddc'}}, tasks=(PregelTask(id='d3f955b3-462e-af1e-59a9-ebae656544ca', name='generate_explaination', path=('__pregel_pull', 'generate_explaination'), error=None, interrupts=(), state=None, result={'explaination': 'Of course! Here is an explanation of the joke.\\n\\n### The Breakdown of the Joke\\n\\nThis is a classic **pun-based joke**. The humor comes from a word or phrase that has two different meanings.\\n\\n1.  **The Setup:** \"Why did the peach break up with the mango?\"\\n    This creates a question about a relationship, but personifies two fruits, which is already silly.\\n\\n2.  **The Punchline:** \"Because he said it was time for this **man-go** solo.\"\\n\\nThe key to the joke is the pun on the word \"mango.\" The punchline splits the word into two parts:\\n\\n*   **Man**\\n*   **Go**\\n\\nSo, the phrase \"**man-go solo**\" can be read as \"**man to go solo**.\"\\n\\n### The Double Meaning\\n\\n*   **Literal Meaning:** The mango (the fruit) is speaking.\\n*   **Pun Meaning:** The mango (the \"man\" in the relationship) is declaring that it\\'s time for him **\"to go solo.\"**\\n\\n\"Going solo\" is a common expression for ending a relationship to be single and independent.\\n\\n### Putting It All Together\\n\\nThe joke is funny because the mango is breaking up with the peach using a very human cliché (\"I need to go solo\"), but he phrases it as a pun on his own name. The absurdity of a fruit having such a dramatic, self-aware breakup moment is what makes it a classic \"dad joke.\"'}),), interrupts=()),\n",
       " StateSnapshot(values={'topic': 'Mango'}, next=('generate_joke',), config={'configurable': {'thread_id': '2', 'checkpoint_ns': '', 'checkpoint_id': '1f076d98-a52a-6607-8000-40a8a3cc5ddc'}}, metadata={'source': 'loop', 'step': 0, 'parents': {}}, created_at='2025-08-11T17:35:14.913834+00:00', parent_config={'configurable': {'thread_id': '2', 'checkpoint_ns': '', 'checkpoint_id': '1f076d98-a528-6d06-bfff-51b13c1ba2dd'}}, tasks=(PregelTask(id='f0b3ef52-caf7-6951-8f86-7161d160402f', name='generate_joke', path=('__pregel_pull', 'generate_joke'), error=None, interrupts=(), state=None, result={'joke': 'Why did the peach break up with the mango?\\n\\nBecause he said it was time for this **man-go** solo'}),), interrupts=()),\n",
       " StateSnapshot(values={}, next=('__start__',), config={'configurable': {'thread_id': '2', 'checkpoint_ns': '', 'checkpoint_id': '1f076d98-a528-6d06-bfff-51b13c1ba2dd'}}, metadata={'source': 'input', 'step': -1, 'parents': {}}, created_at='2025-08-11T17:35:14.913199+00:00', parent_config=None, tasks=(PregelTask(id='6185fe06-7360-436c-4671-46dae38e4e54', name='__start__', path=('__pregel_pull', '__start__'), error=None, interrupts=(), state=None, result={'topic': 'Mango'}),), interrupts=())]"
      ]
     },
     "execution_count": 27,
     "metadata": {},
     "output_type": "execute_result"
    }
   ],
   "source": [
    "list(workflow.get_state_history(config1))"
   ]
  },
  {
   "cell_type": "code",
   "execution_count": null,
   "id": "e8d80165",
   "metadata": {},
   "outputs": [],
   "source": [
    "config2={\"configurable\":{\"thread_id\":\"2\"}}\n",
    "workflow.invoke({'topic':\"Potato\"},config=config2)"
   ]
  },
  {
   "cell_type": "code",
   "execution_count": null,
   "id": "1c50d50f",
   "metadata": {},
   "outputs": [],
   "source": [
    "config1={\"configurable\":{'thread_id':'2'}}\n",
    "workflow.invoke({'topic':\"Mango\"},config=config2)"
   ]
  },
  {
   "cell_type": "code",
   "execution_count": null,
   "id": "25e2cdd4",
   "metadata": {},
   "outputs": [],
   "source": [
    "workflow.get_state(config1)"
   ]
  },
  {
   "cell_type": "markdown",
   "id": "2001f63e",
   "metadata": {},
   "source": [
    "### Time Travel"
   ]
  },
  {
   "cell_type": "markdown",
   "id": "06475d04",
   "metadata": {},
   "source": []
  }
 ],
 "metadata": {
  "kernelspec": {
   "display_name": "langgraph-trial (3.13.5)",
   "language": "python",
   "name": "python3"
  },
  "language_info": {
   "codemirror_mode": {
    "name": "ipython",
    "version": 3
   },
   "file_extension": ".py",
   "mimetype": "text/x-python",
   "name": "python",
   "nbconvert_exporter": "python",
   "pygments_lexer": "ipython3",
   "version": "3.13.5"
  }
 },
 "nbformat": 4,
 "nbformat_minor": 5
}
