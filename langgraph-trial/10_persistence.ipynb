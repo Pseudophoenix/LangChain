{
 "cells": [
  {
   "cell_type": "code",
   "execution_count": 50,
   "id": "3cabe629",
   "metadata": {},
   "outputs": [],
   "source": [
    "from langgraph.graph import StateGraph, START, END\n",
    "from dotenv import load_dotenv\n",
    "from langchain_google_vertexai import ChatVertexAI\n",
    "from typing import TypedDict\n",
    "from langgraph.checkpoint.memory import InMemorySaver"
   ]
  },
  {
   "cell_type": "code",
   "execution_count": 51,
   "id": "3cb7b4be",
   "metadata": {},
   "outputs": [],
   "source": [
    "load_dotenv()\n",
    "\n",
    "llm=ChatVertexAI(model_name=\"gemini-2.5-pro\")"
   ]
  },
  {
   "cell_type": "code",
   "execution_count": 52,
   "id": "f98daea5",
   "metadata": {},
   "outputs": [],
   "source": [
    "class JokeState(TypedDict):\n",
    "    topic:str\n",
    "    joke:str\n",
    "    explaination:str"
   ]
  },
  {
   "cell_type": "code",
   "execution_count": 53,
   "id": "230b3a0f",
   "metadata": {},
   "outputs": [],
   "source": [
    "def generate_joke(state:JokeState):\n",
    "    prompt=f\"generate a joke on the topic {state['topic']}\"\n",
    "    response=llm.invoke(prompt).content\n",
    "    return {'joke':response}"
   ]
  },
  {
   "cell_type": "code",
   "execution_count": 54,
   "id": "11330f28",
   "metadata": {},
   "outputs": [],
   "source": [
    "def generate_explaination(state:JokeState):\n",
    "    prompt=f\"Write an explaination for the joke - {state[\"joke\"]}\"\n",
    "    response=llm.invoke(prompt).content\n",
    "    return {\"explaination\":response}"
   ]
  },
  {
   "cell_type": "code",
   "execution_count": 55,
   "id": "8bd4a9b5",
   "metadata": {},
   "outputs": [],
   "source": [
    "graph=StateGraph(JokeState)\n",
    "\n",
    "graph.add_node('generate_joke',generate_joke)\n",
    "graph.add_node('generate_explaination',generate_explaination)\n",
    "\n",
    "graph.add_edge(START,'generate_joke')\n",
    "graph.add_edge('generate_joke','generate_explaination')\n",
    "graph.add_edge('generate_explaination',END)\n",
    "\n",
    "checkpointer=InMemorySaver()\n",
    "workflow=graph.compile(checkpointer=checkpointer)"
   ]
  },
  {
   "cell_type": "code",
   "execution_count": 56,
   "id": "24992811",
   "metadata": {},
   "outputs": [
    {
     "data": {
      "text/plain": [
       "{'topic': 'Mango',\n",
       " 'joke': \"Why did the mango get fired from the fruit stand?\\n\\nHe couldn't concentrate\",\n",
       " 'explaination': 'Of course! Here is an explanation of the joke.\\n\\n### The Joke Explained\\n\\nThis joke is a **pun**, which means it plays on a word that has two different meanings. The key word here is **\"concentrate.\"**\\n\\nHere are the two meanings the joke uses:\\n\\n1.  **To Concentrate (as a person):** This means to focus your mental attention on a task. If an employee \"can\\'t concentrate\" at work, they are distracted and not doing their job properly, which is a valid reason to be fired.\\n\\n2.  **Concentrate (as a food product):** This is a substance made by removing water from a fruit or liquid to make it thicker and more potent. For example, you can buy frozen orange juice **concentrate** at the grocery store. A mango can be processed into a mango **concentrate**.\\n\\nSo, the humor comes from the punchline working on two levels:\\n\\n*   It sounds like the mango was a bad employee who couldn\\'t focus on his job.\\n*   But it\\'s also a literal, silly statement about the mango as a fruit—it was unable to become a thick, syrupy fruit **concentrate**.'}"
      ]
     },
     "execution_count": 56,
     "metadata": {},
     "output_type": "execute_result"
    }
   ],
   "source": [
    "config1={\"configurable\":{'thread_id':'2'}}\n",
    "workflow.invoke({'topic':\"Mango\"},config=config1)"
   ]
  },
  {
   "cell_type": "code",
   "execution_count": 57,
   "id": "636b1f98",
   "metadata": {},
   "outputs": [
    {
     "data": {
      "text/plain": [
       "StateSnapshot(values={'topic': 'Mango', 'joke': \"Why did the mango get fired from the fruit stand?\\n\\nHe couldn't concentrate\", 'explaination': 'Of course! Here is an explanation of the joke.\\n\\n### The Joke Explained\\n\\nThis joke is a **pun**, which means it plays on a word that has two different meanings. The key word here is **\"concentrate.\"**\\n\\nHere are the two meanings the joke uses:\\n\\n1.  **To Concentrate (as a person):** This means to focus your mental attention on a task. If an employee \"can\\'t concentrate\" at work, they are distracted and not doing their job properly, which is a valid reason to be fired.\\n\\n2.  **Concentrate (as a food product):** This is a substance made by removing water from a fruit or liquid to make it thicker and more potent. For example, you can buy frozen orange juice **concentrate** at the grocery store. A mango can be processed into a mango **concentrate**.\\n\\nSo, the humor comes from the punchline working on two levels:\\n\\n*   It sounds like the mango was a bad employee who couldn\\'t focus on his job.\\n*   But it\\'s also a literal, silly statement about the mango as a fruit—it was unable to become a thick, syrupy fruit **concentrate**.'}, next=(), config={'configurable': {'thread_id': '2', 'checkpoint_ns': '', 'checkpoint_id': '1f076e01-9b25-6385-8002-dd0eb379ef63'}}, metadata={'source': 'loop', 'step': 2, 'parents': {}}, created_at='2025-08-11T18:22:12.435432+00:00', parent_config={'configurable': {'thread_id': '2', 'checkpoint_ns': '', 'checkpoint_id': '1f076e01-1a13-6438-8001-2b4e2296366b'}}, tasks=(), interrupts=())"
      ]
     },
     "execution_count": 57,
     "metadata": {},
     "output_type": "execute_result"
    }
   ],
   "source": [
    "workflow.get_state(config1)"
   ]
  },
  {
   "cell_type": "code",
   "execution_count": 58,
   "id": "6329d595",
   "metadata": {},
   "outputs": [
    {
     "data": {
      "text/plain": [
       "[StateSnapshot(values={'topic': 'Mango', 'joke': \"Why did the mango get fired from the fruit stand?\\n\\nHe couldn't concentrate\", 'explaination': 'Of course! Here is an explanation of the joke.\\n\\n### The Joke Explained\\n\\nThis joke is a **pun**, which means it plays on a word that has two different meanings. The key word here is **\"concentrate.\"**\\n\\nHere are the two meanings the joke uses:\\n\\n1.  **To Concentrate (as a person):** This means to focus your mental attention on a task. If an employee \"can\\'t concentrate\" at work, they are distracted and not doing their job properly, which is a valid reason to be fired.\\n\\n2.  **Concentrate (as a food product):** This is a substance made by removing water from a fruit or liquid to make it thicker and more potent. For example, you can buy frozen orange juice **concentrate** at the grocery store. A mango can be processed into a mango **concentrate**.\\n\\nSo, the humor comes from the punchline working on two levels:\\n\\n*   It sounds like the mango was a bad employee who couldn\\'t focus on his job.\\n*   But it\\'s also a literal, silly statement about the mango as a fruit—it was unable to become a thick, syrupy fruit **concentrate**.'}, next=(), config={'configurable': {'thread_id': '2', 'checkpoint_ns': '', 'checkpoint_id': '1f076e01-9b25-6385-8002-dd0eb379ef63'}}, metadata={'source': 'loop', 'step': 2, 'parents': {}}, created_at='2025-08-11T18:22:12.435432+00:00', parent_config={'configurable': {'thread_id': '2', 'checkpoint_ns': '', 'checkpoint_id': '1f076e01-1a13-6438-8001-2b4e2296366b'}}, tasks=(), interrupts=()),\n",
       " StateSnapshot(values={'topic': 'Mango', 'joke': \"Why did the mango get fired from the fruit stand?\\n\\nHe couldn't concentrate\"}, next=('generate_explaination',), config={'configurable': {'thread_id': '2', 'checkpoint_ns': '', 'checkpoint_id': '1f076e01-1a13-6438-8001-2b4e2296366b'}}, metadata={'source': 'loop', 'step': 1, 'parents': {}}, created_at='2025-08-11T18:21:58.901446+00:00', parent_config={'configurable': {'thread_id': '2', 'checkpoint_ns': '', 'checkpoint_id': '1f076e00-8310-6b6d-8000-72a225b601c2'}}, tasks=(PregelTask(id='65c15102-d3af-04c3-e4f4-79f3b2155ded', name='generate_explaination', path=('__pregel_pull', 'generate_explaination'), error=None, interrupts=(), state=None, result={'explaination': 'Of course! Here is an explanation of the joke.\\n\\n### The Joke Explained\\n\\nThis joke is a **pun**, which means it plays on a word that has two different meanings. The key word here is **\"concentrate.\"**\\n\\nHere are the two meanings the joke uses:\\n\\n1.  **To Concentrate (as a person):** This means to focus your mental attention on a task. If an employee \"can\\'t concentrate\" at work, they are distracted and not doing their job properly, which is a valid reason to be fired.\\n\\n2.  **Concentrate (as a food product):** This is a substance made by removing water from a fruit or liquid to make it thicker and more potent. For example, you can buy frozen orange juice **concentrate** at the grocery store. A mango can be processed into a mango **concentrate**.\\n\\nSo, the humor comes from the punchline working on two levels:\\n\\n*   It sounds like the mango was a bad employee who couldn\\'t focus on his job.\\n*   But it\\'s also a literal, silly statement about the mango as a fruit—it was unable to become a thick, syrupy fruit **concentrate**.'}),), interrupts=()),\n",
       " StateSnapshot(values={'topic': 'Mango'}, next=('generate_joke',), config={'configurable': {'thread_id': '2', 'checkpoint_ns': '', 'checkpoint_id': '1f076e00-8310-6b6d-8000-72a225b601c2'}}, metadata={'source': 'loop', 'step': 0, 'parents': {}}, created_at='2025-08-11T18:21:43.066907+00:00', parent_config={'configurable': {'thread_id': '2', 'checkpoint_ns': '', 'checkpoint_id': '1f076e00-830f-608e-bfff-eba4444e2229'}}, tasks=(PregelTask(id='235d0b13-28f0-210f-58d2-230c496fd96c', name='generate_joke', path=('__pregel_pull', 'generate_joke'), error=None, interrupts=(), state=None, result={'joke': \"Why did the mango get fired from the fruit stand?\\n\\nHe couldn't concentrate\"}),), interrupts=()),\n",
       " StateSnapshot(values={}, next=('__start__',), config={'configurable': {'thread_id': '2', 'checkpoint_ns': '', 'checkpoint_id': '1f076e00-830f-608e-bfff-eba4444e2229'}}, metadata={'source': 'input', 'step': -1, 'parents': {}}, created_at='2025-08-11T18:21:43.066224+00:00', parent_config=None, tasks=(PregelTask(id='b9860067-f940-c2ac-7e77-7036a09eda13', name='__start__', path=('__pregel_pull', '__start__'), error=None, interrupts=(), state=None, result={'topic': 'Mango'}),), interrupts=())]"
      ]
     },
     "execution_count": 58,
     "metadata": {},
     "output_type": "execute_result"
    }
   ],
   "source": [
    "list(workflow.get_state_history(config1))"
   ]
  },
  {
   "cell_type": "code",
   "execution_count": 59,
   "id": "e8d80165",
   "metadata": {},
   "outputs": [
    {
     "data": {
      "text/plain": [
       "{'topic': 'Potato',\n",
       " 'joke': 'Why did the potato break up with the sweet potato?\\n\\nHe said their relationship was getting too mushy.',\n",
       " 'explaination': 'Of course! Here is an explanation of the joke.\\n\\nThe humor in this joke comes from a clever play on words, specifically the double meaning of the word **\"mushy.\"**\\n\\nHere\\'s the breakdown:\\n\\n1.  **Mushy (in a relationship):** This is the meaning we first think of. When a relationship is \"mushy,\" it means it\\'s overly sentimental, sappy, or excessively emotional. One person might feel overwhelmed by the constant affection and pet names, leading them to break up.\\n\\n2.  **Mushy (as a food texture):** This is the literal meaning related to the characters in the joke. When you cook potatoes or sweet potatoes, their texture becomes soft, pulpy, and literally \"mushy\" (think of mashed potatoes or a baked sweet potato).\\n\\nThe joke works by setting you up to think about the potatoes as a human couple having a common relationship problem. The punchline, \"He said their relationship was getting too mushy,\" is funny because it perfectly describes both the emotional reason for a breakup *and* the literal, physical state of being a potato.'}"
      ]
     },
     "execution_count": 59,
     "metadata": {},
     "output_type": "execute_result"
    }
   ],
   "source": [
    "config2={\"configurable\":{\"thread_id\":\"2\"}}\n",
    "workflow.invoke({'topic':\"Potato\"},config=config2)"
   ]
  },
  {
   "cell_type": "code",
   "execution_count": 60,
   "id": "1c50d50f",
   "metadata": {},
   "outputs": [
    {
     "data": {
      "text/plain": [
       "{'topic': 'Mango',\n",
       " 'joke': 'Why did the mango have to leave the party early?\\n\\n...Because he had to **man-go**!',\n",
       " 'explaination': 'Of course! Here is an explanation of the joke.\\n\\n### The Breakdown of the Joke\\n\\nThis is a classic **pun**, which is a joke that plays on words that sound similar but have different meanings.\\n\\n1.  **The Wordplay:** The humor comes from splitting the word \"**mango**\" into two separate words: \"**man**\" and \"**go**\".\\n\\n2.  **The Double Meaning:** When you say it out loud, \"**man-go**\" sounds like a person informally saying, \"**Man, I have to go!**\"\\n\\n3.  **Connecting it to the Setup:** The question asks why the mango had to leave the party early. The punchline provides the answer by using the fruit\\'s own name as the reason. Instead of a fruit-related reason (like \"it was getting mushy\"), the mango is given a human-like reason for leaving, expressed through a clever manipulation of its name.\\n\\nSo, the joke is that the mango\\'s name itself sounds like the very phrase someone would use to excuse themselves from a party.'}"
      ]
     },
     "execution_count": 60,
     "metadata": {},
     "output_type": "execute_result"
    }
   ],
   "source": [
    "config1={\"configurable\":{'thread_id':'2'}}\n",
    "workflow.invoke({'topic':\"Mango\"},config=config2)"
   ]
  },
  {
   "cell_type": "code",
   "execution_count": 61,
   "id": "25e2cdd4",
   "metadata": {},
   "outputs": [
    {
     "data": {
      "text/plain": [
       "StateSnapshot(values={'topic': 'Mango', 'joke': 'Why did the mango have to leave the party early?\\n\\n...Because he had to **man-go**!', 'explaination': 'Of course! Here is an explanation of the joke.\\n\\n### The Breakdown of the Joke\\n\\nThis is a classic **pun**, which is a joke that plays on words that sound similar but have different meanings.\\n\\n1.  **The Wordplay:** The humor comes from splitting the word \"**mango**\" into two separate words: \"**man**\" and \"**go**\".\\n\\n2.  **The Double Meaning:** When you say it out loud, \"**man-go**\" sounds like a person informally saying, \"**Man, I have to go!**\"\\n\\n3.  **Connecting it to the Setup:** The question asks why the mango had to leave the party early. The punchline provides the answer by using the fruit\\'s own name as the reason. Instead of a fruit-related reason (like \"it was getting mushy\"), the mango is given a human-like reason for leaving, expressed through a clever manipulation of its name.\\n\\nSo, the joke is that the mango\\'s name itself sounds like the very phrase someone would use to excuse themselves from a party.'}, next=(), config={'configurable': {'thread_id': '2', 'checkpoint_ns': '', 'checkpoint_id': '1f076e03-e5c1-624f-800a-26661d2ba207'}}, metadata={'source': 'loop', 'step': 10, 'parents': {}}, created_at='2025-08-11T18:23:13.945850+00:00', parent_config={'configurable': {'thread_id': '2', 'checkpoint_ns': '', 'checkpoint_id': '1f076e03-5f5d-6e8c-8009-500aa5821acf'}}, tasks=(), interrupts=())"
      ]
     },
     "execution_count": 61,
     "metadata": {},
     "output_type": "execute_result"
    }
   ],
   "source": [
    "workflow.get_state(config1)"
   ]
  },
  {
   "cell_type": "markdown",
   "id": "2001f63e",
   "metadata": {},
   "source": [
    "### Time Travel"
   ]
  },
  {
   "cell_type": "code",
   "execution_count": 62,
   "id": "af4013c6",
   "metadata": {},
   "outputs": [
    {
     "data": {
      "text/plain": [
       "StateSnapshot(values={}, next=(), config={'configurable': {'thread_id': '2', 'checkpoint_id': '1f076dee-62d3-6023-8000-2a681d9d3604'}}, metadata=None, created_at=None, parent_config=None, tasks=(), interrupts=())"
      ]
     },
     "execution_count": 62,
     "metadata": {},
     "output_type": "execute_result"
    }
   ],
   "source": [
    "workflow.get_state({\"configurable\":{\"thread_id\":\"2\",\"checkpoint_id\":\"1f076dee-62d3-6023-8000-2a681d9d3604\"}})"
   ]
  },
  {
   "cell_type": "code",
   "execution_count": 63,
   "id": "1255c237",
   "metadata": {},
   "outputs": [
    {
     "ename": "EmptyInputError",
     "evalue": "Received no input for __start__",
     "output_type": "error",
     "traceback": [
      "\u001b[31m---------------------------------------------------------------------------\u001b[39m",
      "\u001b[31mEmptyInputError\u001b[39m                           Traceback (most recent call last)",
      "\u001b[36mCell\u001b[39m\u001b[36m \u001b[39m\u001b[32mIn[63]\u001b[39m\u001b[32m, line 1\u001b[39m\n\u001b[32m----> \u001b[39m\u001b[32m1\u001b[39m \u001b[43mworkflow\u001b[49m\u001b[43m.\u001b[49m\u001b[43minvoke\u001b[49m\u001b[43m(\u001b[49m\u001b[38;5;28;43;01mNone\u001b[39;49;00m\u001b[43m,\u001b[49m\u001b[43m{\u001b[49m\u001b[33;43m\"\u001b[39;49m\u001b[33;43mconfigurable\u001b[39;49m\u001b[33;43m\"\u001b[39;49m\u001b[43m:\u001b[49m\u001b[43m{\u001b[49m\u001b[33;43m\"\u001b[39;49m\u001b[33;43mthread_id\u001b[39;49m\u001b[33;43m\"\u001b[39;49m\u001b[43m:\u001b[49m\u001b[33;43m\"\u001b[39;49m\u001b[33;43m2\u001b[39;49m\u001b[33;43m\"\u001b[39;49m\u001b[43m,\u001b[49m\u001b[33;43m\"\u001b[39;49m\u001b[33;43mcheckpoint_id\u001b[39;49m\u001b[33;43m\"\u001b[39;49m\u001b[43m:\u001b[49m\u001b[33;43m\"\u001b[39;49m\u001b[33;43m1f076dee-62d3-6023-8000-2a681d9d3604\u001b[39;49m\u001b[33;43m\"\u001b[39;49m\u001b[43m}\u001b[49m\u001b[43m}\u001b[49m\u001b[43m)\u001b[49m\n",
      "\u001b[36mFile \u001b[39m\u001b[32mc:\\Users\\alok4\\Desktop\\LangChain\\langgraph-trial\\.venv\\Lib\\site-packages\\langgraph\\pregel\\main.py:3026\u001b[39m, in \u001b[36mPregel.invoke\u001b[39m\u001b[34m(self, input, config, context, stream_mode, print_mode, output_keys, interrupt_before, interrupt_after, durability, **kwargs)\u001b[39m\n\u001b[32m   3023\u001b[39m chunks: \u001b[38;5;28mlist\u001b[39m[\u001b[38;5;28mdict\u001b[39m[\u001b[38;5;28mstr\u001b[39m, Any] | Any] = []\n\u001b[32m   3024\u001b[39m interrupts: \u001b[38;5;28mlist\u001b[39m[Interrupt] = []\n\u001b[32m-> \u001b[39m\u001b[32m3026\u001b[39m \u001b[43m\u001b[49m\u001b[38;5;28;43;01mfor\u001b[39;49;00m\u001b[43m \u001b[49m\u001b[43mchunk\u001b[49m\u001b[43m \u001b[49m\u001b[38;5;129;43;01min\u001b[39;49;00m\u001b[43m \u001b[49m\u001b[38;5;28;43mself\u001b[39;49m\u001b[43m.\u001b[49m\u001b[43mstream\u001b[49m\u001b[43m(\u001b[49m\n\u001b[32m   3027\u001b[39m \u001b[43m    \u001b[49m\u001b[38;5;28;43minput\u001b[39;49m\u001b[43m,\u001b[49m\n\u001b[32m   3028\u001b[39m \u001b[43m    \u001b[49m\u001b[43mconfig\u001b[49m\u001b[43m,\u001b[49m\n\u001b[32m   3029\u001b[39m \u001b[43m    \u001b[49m\u001b[43mcontext\u001b[49m\u001b[43m=\u001b[49m\u001b[43mcontext\u001b[49m\u001b[43m,\u001b[49m\n\u001b[32m   3030\u001b[39m \u001b[43m    \u001b[49m\u001b[43mstream_mode\u001b[49m\u001b[43m=\u001b[49m\u001b[43m[\u001b[49m\u001b[33;43m\"\u001b[39;49m\u001b[33;43mupdates\u001b[39;49m\u001b[33;43m\"\u001b[39;49m\u001b[43m,\u001b[49m\u001b[43m \u001b[49m\u001b[33;43m\"\u001b[39;49m\u001b[33;43mvalues\u001b[39;49m\u001b[33;43m\"\u001b[39;49m\u001b[43m]\u001b[49m\n\u001b[32m   3031\u001b[39m \u001b[43m    \u001b[49m\u001b[38;5;28;43;01mif\u001b[39;49;00m\u001b[43m \u001b[49m\u001b[43mstream_mode\u001b[49m\u001b[43m \u001b[49m\u001b[43m==\u001b[49m\u001b[43m \u001b[49m\u001b[33;43m\"\u001b[39;49m\u001b[33;43mvalues\u001b[39;49m\u001b[33;43m\"\u001b[39;49m\n\u001b[32m   3032\u001b[39m \u001b[43m    \u001b[49m\u001b[38;5;28;43;01melse\u001b[39;49;00m\u001b[43m \u001b[49m\u001b[43mstream_mode\u001b[49m\u001b[43m,\u001b[49m\n\u001b[32m   3033\u001b[39m \u001b[43m    \u001b[49m\u001b[43mprint_mode\u001b[49m\u001b[43m=\u001b[49m\u001b[43mprint_mode\u001b[49m\u001b[43m,\u001b[49m\n\u001b[32m   3034\u001b[39m \u001b[43m    \u001b[49m\u001b[43moutput_keys\u001b[49m\u001b[43m=\u001b[49m\u001b[43moutput_keys\u001b[49m\u001b[43m,\u001b[49m\n\u001b[32m   3035\u001b[39m \u001b[43m    \u001b[49m\u001b[43minterrupt_before\u001b[49m\u001b[43m=\u001b[49m\u001b[43minterrupt_before\u001b[49m\u001b[43m,\u001b[49m\n\u001b[32m   3036\u001b[39m \u001b[43m    \u001b[49m\u001b[43minterrupt_after\u001b[49m\u001b[43m=\u001b[49m\u001b[43minterrupt_after\u001b[49m\u001b[43m,\u001b[49m\n\u001b[32m   3037\u001b[39m \u001b[43m    \u001b[49m\u001b[43mdurability\u001b[49m\u001b[43m=\u001b[49m\u001b[43mdurability\u001b[49m\u001b[43m,\u001b[49m\n\u001b[32m   3038\u001b[39m \u001b[43m    \u001b[49m\u001b[43m*\u001b[49m\u001b[43m*\u001b[49m\u001b[43mkwargs\u001b[49m\u001b[43m,\u001b[49m\n\u001b[32m   3039\u001b[39m \u001b[43m\u001b[49m\u001b[43m)\u001b[49m\u001b[43m:\u001b[49m\n\u001b[32m   3040\u001b[39m \u001b[43m    \u001b[49m\u001b[38;5;28;43;01mif\u001b[39;49;00m\u001b[43m \u001b[49m\u001b[43mstream_mode\u001b[49m\u001b[43m \u001b[49m\u001b[43m==\u001b[49m\u001b[43m \u001b[49m\u001b[33;43m\"\u001b[39;49m\u001b[33;43mvalues\u001b[39;49m\u001b[33;43m\"\u001b[39;49m\u001b[43m:\u001b[49m\n\u001b[32m   3041\u001b[39m \u001b[43m        \u001b[49m\u001b[38;5;28;43;01mif\u001b[39;49;00m\u001b[43m \u001b[49m\u001b[38;5;28;43mlen\u001b[39;49m\u001b[43m(\u001b[49m\u001b[43mchunk\u001b[49m\u001b[43m)\u001b[49m\u001b[43m \u001b[49m\u001b[43m==\u001b[49m\u001b[43m \u001b[49m\u001b[32;43m2\u001b[39;49m\u001b[43m:\u001b[49m\n",
      "\u001b[36mFile \u001b[39m\u001b[32mc:\\Users\\alok4\\Desktop\\LangChain\\langgraph-trial\\.venv\\Lib\\site-packages\\langgraph\\pregel\\main.py:2582\u001b[39m, in \u001b[36mPregel.stream\u001b[39m\u001b[34m(self, input, config, context, stream_mode, print_mode, output_keys, interrupt_before, interrupt_after, durability, subgraphs, debug, **kwargs)\u001b[39m\n\u001b[32m   2579\u001b[39m runtime = parent_runtime.merge(runtime)\n\u001b[32m   2580\u001b[39m config[CONF][CONFIG_KEY_RUNTIME] = runtime\n\u001b[32m-> \u001b[39m\u001b[32m2582\u001b[39m \u001b[43m\u001b[49m\u001b[38;5;28;43;01mwith\u001b[39;49;00m\u001b[43m \u001b[49m\u001b[43mSyncPregelLoop\u001b[49m\u001b[43m(\u001b[49m\n\u001b[32m   2583\u001b[39m \u001b[43m    \u001b[49m\u001b[38;5;28;43minput\u001b[39;49m\u001b[43m,\u001b[49m\n\u001b[32m   2584\u001b[39m \u001b[43m    \u001b[49m\u001b[43mstream\u001b[49m\u001b[43m=\u001b[49m\u001b[43mStreamProtocol\u001b[49m\u001b[43m(\u001b[49m\u001b[43mstream\u001b[49m\u001b[43m.\u001b[49m\u001b[43mput\u001b[49m\u001b[43m,\u001b[49m\u001b[43m \u001b[49m\u001b[43mstream_modes\u001b[49m\u001b[43m)\u001b[49m\u001b[43m,\u001b[49m\n\u001b[32m   2585\u001b[39m \u001b[43m    \u001b[49m\u001b[43mconfig\u001b[49m\u001b[43m=\u001b[49m\u001b[43mconfig\u001b[49m\u001b[43m,\u001b[49m\n\u001b[32m   2586\u001b[39m \u001b[43m    \u001b[49m\u001b[43mstore\u001b[49m\u001b[43m=\u001b[49m\u001b[43mstore\u001b[49m\u001b[43m,\u001b[49m\n\u001b[32m   2587\u001b[39m \u001b[43m    \u001b[49m\u001b[43mcache\u001b[49m\u001b[43m=\u001b[49m\u001b[43mcache\u001b[49m\u001b[43m,\u001b[49m\n\u001b[32m   2588\u001b[39m \u001b[43m    \u001b[49m\u001b[43mcheckpointer\u001b[49m\u001b[43m=\u001b[49m\u001b[43mcheckpointer\u001b[49m\u001b[43m,\u001b[49m\n\u001b[32m   2589\u001b[39m \u001b[43m    \u001b[49m\u001b[43mnodes\u001b[49m\u001b[43m=\u001b[49m\u001b[38;5;28;43mself\u001b[39;49m\u001b[43m.\u001b[49m\u001b[43mnodes\u001b[49m\u001b[43m,\u001b[49m\n\u001b[32m   2590\u001b[39m \u001b[43m    \u001b[49m\u001b[43mspecs\u001b[49m\u001b[43m=\u001b[49m\u001b[38;5;28;43mself\u001b[39;49m\u001b[43m.\u001b[49m\u001b[43mchannels\u001b[49m\u001b[43m,\u001b[49m\n\u001b[32m   2591\u001b[39m \u001b[43m    \u001b[49m\u001b[43moutput_keys\u001b[49m\u001b[43m=\u001b[49m\u001b[43moutput_keys\u001b[49m\u001b[43m,\u001b[49m\n\u001b[32m   2592\u001b[39m \u001b[43m    \u001b[49m\u001b[43minput_keys\u001b[49m\u001b[43m=\u001b[49m\u001b[38;5;28;43mself\u001b[39;49m\u001b[43m.\u001b[49m\u001b[43minput_channels\u001b[49m\u001b[43m,\u001b[49m\n\u001b[32m   2593\u001b[39m \u001b[43m    \u001b[49m\u001b[43mstream_keys\u001b[49m\u001b[43m=\u001b[49m\u001b[38;5;28;43mself\u001b[39;49m\u001b[43m.\u001b[49m\u001b[43mstream_channels_asis\u001b[49m\u001b[43m,\u001b[49m\n\u001b[32m   2594\u001b[39m \u001b[43m    \u001b[49m\u001b[43minterrupt_before\u001b[49m\u001b[43m=\u001b[49m\u001b[43minterrupt_before_\u001b[49m\u001b[43m,\u001b[49m\n\u001b[32m   2595\u001b[39m \u001b[43m    \u001b[49m\u001b[43minterrupt_after\u001b[49m\u001b[43m=\u001b[49m\u001b[43minterrupt_after_\u001b[49m\u001b[43m,\u001b[49m\n\u001b[32m   2596\u001b[39m \u001b[43m    \u001b[49m\u001b[43mmanager\u001b[49m\u001b[43m=\u001b[49m\u001b[43mrun_manager\u001b[49m\u001b[43m,\u001b[49m\n\u001b[32m   2597\u001b[39m \u001b[43m    \u001b[49m\u001b[43mdurability\u001b[49m\u001b[43m=\u001b[49m\u001b[43mdurability_\u001b[49m\u001b[43m,\u001b[49m\n\u001b[32m   2598\u001b[39m \u001b[43m    \u001b[49m\u001b[43mtrigger_to_nodes\u001b[49m\u001b[43m=\u001b[49m\u001b[38;5;28;43mself\u001b[39;49m\u001b[43m.\u001b[49m\u001b[43mtrigger_to_nodes\u001b[49m\u001b[43m,\u001b[49m\n\u001b[32m   2599\u001b[39m \u001b[43m    \u001b[49m\u001b[43mmigrate_checkpoint\u001b[49m\u001b[43m=\u001b[49m\u001b[38;5;28;43mself\u001b[39;49m\u001b[43m.\u001b[49m\u001b[43m_migrate_checkpoint\u001b[49m\u001b[43m,\u001b[49m\n\u001b[32m   2600\u001b[39m \u001b[43m    \u001b[49m\u001b[43mretry_policy\u001b[49m\u001b[43m=\u001b[49m\u001b[38;5;28;43mself\u001b[39;49m\u001b[43m.\u001b[49m\u001b[43mretry_policy\u001b[49m\u001b[43m,\u001b[49m\n\u001b[32m   2601\u001b[39m \u001b[43m    \u001b[49m\u001b[43mcache_policy\u001b[49m\u001b[43m=\u001b[49m\u001b[38;5;28;43mself\u001b[39;49m\u001b[43m.\u001b[49m\u001b[43mcache_policy\u001b[49m\u001b[43m,\u001b[49m\n\u001b[32m   2602\u001b[39m \u001b[43m\u001b[49m\u001b[43m)\u001b[49m\u001b[43m \u001b[49m\u001b[38;5;28;43;01mas\u001b[39;49;00m\u001b[43m \u001b[49m\u001b[43mloop\u001b[49m\u001b[43m:\u001b[49m\n\u001b[32m   2603\u001b[39m \u001b[43m    \u001b[49m\u001b[38;5;66;43;03m# create runner\u001b[39;49;00m\n\u001b[32m   2604\u001b[39m \u001b[43m    \u001b[49m\u001b[43mrunner\u001b[49m\u001b[43m \u001b[49m\u001b[43m=\u001b[49m\u001b[43m \u001b[49m\u001b[43mPregelRunner\u001b[49m\u001b[43m(\u001b[49m\n\u001b[32m   2605\u001b[39m \u001b[43m        \u001b[49m\u001b[43msubmit\u001b[49m\u001b[43m=\u001b[49m\u001b[43mconfig\u001b[49m\u001b[43m[\u001b[49m\u001b[43mCONF\u001b[49m\u001b[43m]\u001b[49m\u001b[43m.\u001b[49m\u001b[43mget\u001b[49m\u001b[43m(\u001b[49m\n\u001b[32m   2606\u001b[39m \u001b[43m            \u001b[49m\u001b[43mCONFIG_KEY_RUNNER_SUBMIT\u001b[49m\u001b[43m,\u001b[49m\u001b[43m \u001b[49m\u001b[43mweakref\u001b[49m\u001b[43m.\u001b[49m\u001b[43mWeakMethod\u001b[49m\u001b[43m(\u001b[49m\u001b[43mloop\u001b[49m\u001b[43m.\u001b[49m\u001b[43msubmit\u001b[49m\u001b[43m)\u001b[49m\n\u001b[32m   (...)\u001b[39m\u001b[32m   2609\u001b[39m \u001b[43m        \u001b[49m\u001b[43mnode_finished\u001b[49m\u001b[43m=\u001b[49m\u001b[43mconfig\u001b[49m\u001b[43m[\u001b[49m\u001b[43mCONF\u001b[49m\u001b[43m]\u001b[49m\u001b[43m.\u001b[49m\u001b[43mget\u001b[49m\u001b[43m(\u001b[49m\u001b[43mCONFIG_KEY_NODE_FINISHED\u001b[49m\u001b[43m)\u001b[49m\u001b[43m,\u001b[49m\n\u001b[32m   2610\u001b[39m \u001b[43m    \u001b[49m\u001b[43m)\u001b[49m\n\u001b[32m   2611\u001b[39m \u001b[43m    \u001b[49m\u001b[38;5;66;43;03m# enable subgraph streaming\u001b[39;49;00m\n",
      "\u001b[36mFile \u001b[39m\u001b[32mc:\\Users\\alok4\\Desktop\\LangChain\\langgraph-trial\\.venv\\Lib\\site-packages\\langgraph\\pregel\\_loop.py:1044\u001b[39m, in \u001b[36mSyncPregelLoop.__enter__\u001b[39m\u001b[34m(self)\u001b[39m\n\u001b[32m   1042\u001b[39m \u001b[38;5;28mself\u001b[39m.stop = \u001b[38;5;28mself\u001b[39m.step + \u001b[38;5;28mself\u001b[39m.config[\u001b[33m\"\u001b[39m\u001b[33mrecursion_limit\u001b[39m\u001b[33m\"\u001b[39m] + \u001b[32m1\u001b[39m\n\u001b[32m   1043\u001b[39m \u001b[38;5;28mself\u001b[39m.checkpoint_previous_versions = \u001b[38;5;28mself\u001b[39m.checkpoint[\u001b[33m\"\u001b[39m\u001b[33mchannel_versions\u001b[39m\u001b[33m\"\u001b[39m].copy()\n\u001b[32m-> \u001b[39m\u001b[32m1044\u001b[39m \u001b[38;5;28mself\u001b[39m.updated_channels = \u001b[38;5;28;43mself\u001b[39;49m\u001b[43m.\u001b[49m\u001b[43m_first\u001b[49m\u001b[43m(\u001b[49m\n\u001b[32m   1045\u001b[39m \u001b[43m    \u001b[49m\u001b[43minput_keys\u001b[49m\u001b[43m=\u001b[49m\u001b[38;5;28;43mself\u001b[39;49m\u001b[43m.\u001b[49m\u001b[43minput_keys\u001b[49m\u001b[43m,\u001b[49m\n\u001b[32m   1046\u001b[39m \u001b[43m    \u001b[49m\u001b[43mupdated_channels\u001b[49m\u001b[43m=\u001b[49m\u001b[38;5;28;43mset\u001b[39;49m\u001b[43m(\u001b[49m\u001b[38;5;28;43mself\u001b[39;49m\u001b[43m.\u001b[49m\u001b[43mcheckpoint\u001b[49m\u001b[43m.\u001b[49m\u001b[43mget\u001b[49m\u001b[43m(\u001b[49m\u001b[33;43m\"\u001b[39;49m\u001b[33;43mupdated_channels\u001b[39;49m\u001b[33;43m\"\u001b[39;49m\u001b[43m)\u001b[49m\u001b[43m)\u001b[49m\u001b[43m  \u001b[49m\u001b[38;5;66;43;03m# type: ignore[arg-type]\u001b[39;49;00m\n\u001b[32m   1047\u001b[39m \u001b[43m    \u001b[49m\u001b[38;5;28;43;01mif\u001b[39;49;00m\u001b[43m \u001b[49m\u001b[38;5;28;43mself\u001b[39;49m\u001b[43m.\u001b[49m\u001b[43mcheckpoint\u001b[49m\u001b[43m.\u001b[49m\u001b[43mget\u001b[49m\u001b[43m(\u001b[49m\u001b[33;43m\"\u001b[39;49m\u001b[33;43mupdated_channels\u001b[39;49m\u001b[33;43m\"\u001b[39;49m\u001b[43m)\u001b[49m\n\u001b[32m   1048\u001b[39m \u001b[43m    \u001b[49m\u001b[38;5;28;43;01melse\u001b[39;49;00m\u001b[43m \u001b[49m\u001b[38;5;28;43;01mNone\u001b[39;49;00m\u001b[43m,\u001b[49m\n\u001b[32m   1049\u001b[39m \u001b[43m\u001b[49m\u001b[43m)\u001b[49m\n\u001b[32m   1051\u001b[39m \u001b[38;5;28;01mreturn\u001b[39;00m \u001b[38;5;28mself\u001b[39m\n",
      "\u001b[36mFile \u001b[39m\u001b[32mc:\\Users\\alok4\\Desktop\\LangChain\\langgraph-trial\\.venv\\Lib\\site-packages\\langgraph\\pregel\\_loop.py:670\u001b[39m, in \u001b[36mPregelLoop._first\u001b[39m\u001b[34m(self, input_keys, updated_channels)\u001b[39m\n\u001b[32m    668\u001b[39m     \u001b[38;5;28mself\u001b[39m._put_checkpoint({\u001b[33m\"\u001b[39m\u001b[33msource\u001b[39m\u001b[33m\"\u001b[39m: \u001b[33m\"\u001b[39m\u001b[33minput\u001b[39m\u001b[33m\"\u001b[39m})\n\u001b[32m    669\u001b[39m \u001b[38;5;28;01melif\u001b[39;00m CONFIG_KEY_RESUMING \u001b[38;5;129;01mnot\u001b[39;00m \u001b[38;5;129;01min\u001b[39;00m configurable:\n\u001b[32m--> \u001b[39m\u001b[32m670\u001b[39m     \u001b[38;5;28;01mraise\u001b[39;00m EmptyInputError(\u001b[33mf\u001b[39m\u001b[33m\"\u001b[39m\u001b[33mReceived no input for \u001b[39m\u001b[38;5;132;01m{\u001b[39;00minput_keys\u001b[38;5;132;01m}\u001b[39;00m\u001b[33m\"\u001b[39m)\n\u001b[32m    671\u001b[39m \u001b[38;5;66;03m# update config\u001b[39;00m\n\u001b[32m    672\u001b[39m \u001b[38;5;28;01mif\u001b[39;00m \u001b[38;5;129;01mnot\u001b[39;00m \u001b[38;5;28mself\u001b[39m.is_nested:\n",
      "\u001b[31mEmptyInputError\u001b[39m: Received no input for __start__"
     ]
    }
   ],
   "source": [
    "workflow.invoke(None,{\"configurable\":{\"thread_id\":\"2\",\"checkpoint_id\":\"1f076dee-62d3-6023-8000-2a681d9d3604\"}})"
   ]
  },
  {
   "cell_type": "code",
   "execution_count": null,
   "id": "55e6b4f1",
   "metadata": {},
   "outputs": [
    {
     "data": {
      "text/plain": [
       "[StateSnapshot(values={'topic': 'Mango', 'joke': 'Why did the other fruits get so worried at the party?\\n\\nBecause they kept asking, \"Where did the man-go?\"', 'explaination': 'Of course! Here is an explanation of the joke.\\n\\n### The Breakdown of the Joke\\n\\nThis joke is a classic **pun**, which means it relies on a word or phrase that has two different meanings or sounds like another word.\\n\\nThe key to this joke is the punchline:\\n\\n**\"Where did the man-go?\"**\\n\\nHere\\'s how it works:\\n\\n1.  **The Literal Meaning:** When you hear the phrase \"Where did the man go?\", you naturally think of a question about a missing person. If a man suddenly vanished from a party, people would understandably get worried. This aligns with the setup of the joke (\"Why did the other fruits get so worried?\").\\n\\n2.  **The Punny Meaning:** Since the characters in the joke are fruits, the phrase is meant to be heard as a single word: **\"Mango\"**. The fruits at the party are simply looking for their friend, the Mango, and are asking, \"Where is the Mango?\"\\n\\n### The Humor\\n\\nThe humor comes from the misunderstanding. We are led to believe the fruits are worried about a serious situation (a missing man), but in reality, they are just asking a simple question about their missing fruit friend.\\n\\nSo, the fruits weren\\'t worried about a disappearing person; they were just trying to find their friend, the **mango**'}, next=(), config={'configurable': {'thread_id': '2', 'checkpoint_ns': '', 'checkpoint_id': '1f076df3-860f-6016-8002-b2b55134a3a4'}}, metadata={'source': 'loop', 'step': 2, 'parents': {}}, created_at='2025-08-11T18:15:54.414683+00:00', parent_config={'configurable': {'thread_id': '2', 'checkpoint_ns': '', 'checkpoint_id': '1f076df2-f50d-6cd2-8001-09c0a416d0b4'}}, tasks=(), interrupts=()),\n",
       " StateSnapshot(values={'topic': 'Mango', 'joke': 'Why did the other fruits get so worried at the party?\\n\\nBecause they kept asking, \"Where did the man-go?\"'}, next=('generate_explaination',), config={'configurable': {'thread_id': '2', 'checkpoint_ns': '', 'checkpoint_id': '1f076df2-f50d-6cd2-8001-09c0a416d0b4'}}, metadata={'source': 'loop', 'step': 1, 'parents': {}}, created_at='2025-08-11T18:15:39.209839+00:00', parent_config={'configurable': {'thread_id': '2', 'checkpoint_ns': '', 'checkpoint_id': '1f076dee-62d3-6023-8000-2a681d9d3604'}}, tasks=(PregelTask(id='dcc69b30-8c96-6803-2622-4b96d3a00611', name='generate_explaination', path=('__pregel_pull', 'generate_explaination'), error=None, interrupts=(), state=None, result={'explaination': 'Of course! Here is an explanation of the joke.\\n\\n### The Breakdown of the Joke\\n\\nThis joke is a classic **pun**, which means it relies on a word or phrase that has two different meanings or sounds like another word.\\n\\nThe key to this joke is the punchline:\\n\\n**\"Where did the man-go?\"**\\n\\nHere\\'s how it works:\\n\\n1.  **The Literal Meaning:** When you hear the phrase \"Where did the man go?\", you naturally think of a question about a missing person. If a man suddenly vanished from a party, people would understandably get worried. This aligns with the setup of the joke (\"Why did the other fruits get so worried?\").\\n\\n2.  **The Punny Meaning:** Since the characters in the joke are fruits, the phrase is meant to be heard as a single word: **\"Mango\"**. The fruits at the party are simply looking for their friend, the Mango, and are asking, \"Where is the Mango?\"\\n\\n### The Humor\\n\\nThe humor comes from the misunderstanding. We are led to believe the fruits are worried about a serious situation (a missing man), but in reality, they are just asking a simple question about their missing fruit friend.\\n\\nSo, the fruits weren\\'t worried about a disappearing person; they were just trying to find their friend, the **mango**'}),), interrupts=()),\n",
       " StateSnapshot(values={'topic': 'Mango', 'joke': 'Why did the peach break up with the mango?\\n\\nBecause he could never commit, he was always ready for a **man-to-go!**', 'explaination': 'Of course! Here is an explanation of the joke.\\n\\n### The Breakdown of the Joke\\n\\nThis joke is a classic **pun**, which means it relies on a play on words. The humor comes from the double meaning of the punchline.\\n\\nHere\\'s how it works:\\n\\n1.  **The Setup:** The joke creates a personified scenario where two fruits, a peach and a mango, are in a romantic relationship. The peach breaks up with the mango, and we\\'re asked why. This sets up the expectation of a common reason for a breakup.\\n\\n2.  **The Punchline:** \"Because he could never commit, he was always ready for a **man-to-go!**\"\\n\\n3.  **The Pun Explained:**\\n    *   The key is that the phrase **\"man-to-go\"** sounds almost identical to the word **\"mango.\"**\\n    *   The phrase also has a literal meaning that fits the context of the joke. \"A man to go\" perfectly describes someone who is not committed and is always ready to leave a relationship.\\n\\nSo, the joke cleverly uses the sound of the mango\\'s name to describe his personality flaw. The mango\\'s name itself becomes the reason he\\'s a bad partner—he\\'s a \"man-go\" in both name and action'}, next=(), config={'configurable': {'thread_id': '2', 'checkpoint_ns': '', 'checkpoint_id': '1f076def-cf7b-626f-8002-af65f674f72e'}}, metadata={'source': 'loop', 'step': 2, 'parents': {}}, created_at='2025-08-11T18:14:14.739403+00:00', parent_config={'configurable': {'thread_id': '2', 'checkpoint_ns': '', 'checkpoint_id': '1f076def-3a00-6a76-8001-19968b5b7ac3'}}, tasks=(), interrupts=()),\n",
       " StateSnapshot(values={'topic': 'Mango', 'joke': 'Why did the peach break up with the mango?\\n\\nBecause he could never commit, he was always ready for a **man-to-go!**'}, next=('generate_explaination',), config={'configurable': {'thread_id': '2', 'checkpoint_ns': '', 'checkpoint_id': '1f076def-3a00-6a76-8001-19968b5b7ac3'}}, metadata={'source': 'loop', 'step': 1, 'parents': {}}, created_at='2025-08-11T18:13:59.065447+00:00', parent_config={'configurable': {'thread_id': '2', 'checkpoint_ns': '', 'checkpoint_id': '1f076dee-62d3-6023-8000-2a681d9d3604'}}, tasks=(PregelTask(id='4fd535b0-7769-bea6-d5dc-9df503c88ccd', name='generate_explaination', path=('__pregel_pull', 'generate_explaination'), error=None, interrupts=(), state=None, result={'explaination': 'Of course! Here is an explanation of the joke.\\n\\n### The Breakdown of the Joke\\n\\nThis joke is a classic **pun**, which means it relies on a play on words. The humor comes from the double meaning of the punchline.\\n\\nHere\\'s how it works:\\n\\n1.  **The Setup:** The joke creates a personified scenario where two fruits, a peach and a mango, are in a romantic relationship. The peach breaks up with the mango, and we\\'re asked why. This sets up the expectation of a common reason for a breakup.\\n\\n2.  **The Punchline:** \"Because he could never commit, he was always ready for a **man-to-go!**\"\\n\\n3.  **The Pun Explained:**\\n    *   The key is that the phrase **\"man-to-go\"** sounds almost identical to the word **\"mango.\"**\\n    *   The phrase also has a literal meaning that fits the context of the joke. \"A man to go\" perfectly describes someone who is not committed and is always ready to leave a relationship.\\n\\nSo, the joke cleverly uses the sound of the mango\\'s name to describe his personality flaw. The mango\\'s name itself becomes the reason he\\'s a bad partner—he\\'s a \"man-go\" in both name and action'}),), interrupts=()),\n",
       " StateSnapshot(values={'topic': 'Mango'}, next=('generate_joke',), config={'configurable': {'thread_id': '2', 'checkpoint_ns': '', 'checkpoint_id': '1f076dee-62d3-6023-8000-2a681d9d3604'}}, metadata={'source': 'loop', 'step': 0, 'parents': {}}, created_at='2025-08-11T18:13:36.502369+00:00', parent_config={'configurable': {'thread_id': '2', 'checkpoint_ns': '', 'checkpoint_id': '1f076dee-62d1-6676-bfff-07b04caf166a'}}, tasks=(PregelTask(id='56b5e178-eaf2-92f9-2429-7733d71c66bf', name='generate_joke', path=('__pregel_pull', 'generate_joke'), error=None, interrupts=(), state=None, result={'joke': 'Why did the peach break up with the mango?\\n\\nBecause he could never commit, he was always ready for a **man-to-go!**'}),), interrupts=()),\n",
       " StateSnapshot(values={}, next=('__start__',), config={'configurable': {'thread_id': '2', 'checkpoint_ns': '', 'checkpoint_id': '1f076dee-62d1-6676-bfff-07b04caf166a'}}, metadata={'source': 'input', 'step': -1, 'parents': {}}, created_at='2025-08-11T18:13:36.501716+00:00', parent_config=None, tasks=(PregelTask(id='35f81642-6d7d-8c46-3b78-befefee89729', name='__start__', path=('__pregel_pull', '__start__'), error=None, interrupts=(), state=None, result={'topic': 'Mango'}),), interrupts=())]"
      ]
     },
     "execution_count": 43,
     "metadata": {},
     "output_type": "execute_result"
    }
   ],
   "source": [
    "list(workflow.get_state_history(config1))"
   ]
  },
  {
   "cell_type": "markdown",
   "id": "45917599",
   "metadata": {},
   "source": [
    "## Updating State"
   ]
  },
  {
   "cell_type": "code",
   "execution_count": null,
   "id": "0486175a",
   "metadata": {},
   "outputs": [
    {
     "data": {
      "text/plain": [
       "{'configurable': {'thread_id': '2',\n",
       "  'checkpoint_ns': '',\n",
       "  'checkpoint_id': '1f076df9-d218-61b2-8001-0cb9b364f3a0'}}"
      ]
     },
     "execution_count": 44,
     "metadata": {},
     "output_type": "execute_result"
    }
   ],
   "source": [
    "workflow.update_state({\"configurable\":{\"thread_id\":\"2\",\"checkpoint_id\":\"1f076dee-62d3-6023-8000-2a681d9d3604\",\"checkpoint_ns\":\"\"}},{\"topic\":\"Chilli\"})"
   ]
  },
  {
   "cell_type": "code",
   "execution_count": null,
   "id": "e63f129a",
   "metadata": {},
   "outputs": [
    {
     "data": {
      "text/plain": [
       "[StateSnapshot(values={'topic': 'Chilli'}, next=('generate_joke',), config={'configurable': {'thread_id': '2', 'checkpoint_ns': '', 'checkpoint_id': '1f076df9-d218-61b2-8001-0cb9b364f3a0'}}, metadata={'source': 'update', 'step': 1, 'parents': {}}, created_at='2025-08-11T18:18:43.448863+00:00', parent_config={'configurable': {'thread_id': '2', 'checkpoint_ns': '', 'checkpoint_id': '1f076dee-62d3-6023-8000-2a681d9d3604'}}, tasks=(PregelTask(id='004d9103-7422-3bae-c8a2-0298f1bee1bc', name='generate_joke', path=('__pregel_pull', 'generate_joke'), error=None, interrupts=(), state=None, result=None),), interrupts=()),\n",
       " StateSnapshot(values={'topic': 'Mango', 'joke': 'Why did the other fruits get so worried at the party?\\n\\nBecause they kept asking, \"Where did the man-go?\"', 'explaination': 'Of course! Here is an explanation of the joke.\\n\\n### The Breakdown of the Joke\\n\\nThis joke is a classic **pun**, which means it relies on a word or phrase that has two different meanings or sounds like another word.\\n\\nThe key to this joke is the punchline:\\n\\n**\"Where did the man-go?\"**\\n\\nHere\\'s how it works:\\n\\n1.  **The Literal Meaning:** When you hear the phrase \"Where did the man go?\", you naturally think of a question about a missing person. If a man suddenly vanished from a party, people would understandably get worried. This aligns with the setup of the joke (\"Why did the other fruits get so worried?\").\\n\\n2.  **The Punny Meaning:** Since the characters in the joke are fruits, the phrase is meant to be heard as a single word: **\"Mango\"**. The fruits at the party are simply looking for their friend, the Mango, and are asking, \"Where is the Mango?\"\\n\\n### The Humor\\n\\nThe humor comes from the misunderstanding. We are led to believe the fruits are worried about a serious situation (a missing man), but in reality, they are just asking a simple question about their missing fruit friend.\\n\\nSo, the fruits weren\\'t worried about a disappearing person; they were just trying to find their friend, the **mango**'}, next=(), config={'configurable': {'thread_id': '2', 'checkpoint_ns': '', 'checkpoint_id': '1f076df3-860f-6016-8002-b2b55134a3a4'}}, metadata={'source': 'loop', 'step': 2, 'parents': {}}, created_at='2025-08-11T18:15:54.414683+00:00', parent_config={'configurable': {'thread_id': '2', 'checkpoint_ns': '', 'checkpoint_id': '1f076df2-f50d-6cd2-8001-09c0a416d0b4'}}, tasks=(), interrupts=()),\n",
       " StateSnapshot(values={'topic': 'Mango', 'joke': 'Why did the other fruits get so worried at the party?\\n\\nBecause they kept asking, \"Where did the man-go?\"'}, next=('generate_explaination',), config={'configurable': {'thread_id': '2', 'checkpoint_ns': '', 'checkpoint_id': '1f076df2-f50d-6cd2-8001-09c0a416d0b4'}}, metadata={'source': 'loop', 'step': 1, 'parents': {}}, created_at='2025-08-11T18:15:39.209839+00:00', parent_config={'configurable': {'thread_id': '2', 'checkpoint_ns': '', 'checkpoint_id': '1f076dee-62d3-6023-8000-2a681d9d3604'}}, tasks=(PregelTask(id='dcc69b30-8c96-6803-2622-4b96d3a00611', name='generate_explaination', path=('__pregel_pull', 'generate_explaination'), error=None, interrupts=(), state=None, result={'explaination': 'Of course! Here is an explanation of the joke.\\n\\n### The Breakdown of the Joke\\n\\nThis joke is a classic **pun**, which means it relies on a word or phrase that has two different meanings or sounds like another word.\\n\\nThe key to this joke is the punchline:\\n\\n**\"Where did the man-go?\"**\\n\\nHere\\'s how it works:\\n\\n1.  **The Literal Meaning:** When you hear the phrase \"Where did the man go?\", you naturally think of a question about a missing person. If a man suddenly vanished from a party, people would understandably get worried. This aligns with the setup of the joke (\"Why did the other fruits get so worried?\").\\n\\n2.  **The Punny Meaning:** Since the characters in the joke are fruits, the phrase is meant to be heard as a single word: **\"Mango\"**. The fruits at the party are simply looking for their friend, the Mango, and are asking, \"Where is the Mango?\"\\n\\n### The Humor\\n\\nThe humor comes from the misunderstanding. We are led to believe the fruits are worried about a serious situation (a missing man), but in reality, they are just asking a simple question about their missing fruit friend.\\n\\nSo, the fruits weren\\'t worried about a disappearing person; they were just trying to find their friend, the **mango**'}),), interrupts=()),\n",
       " StateSnapshot(values={'topic': 'Mango', 'joke': 'Why did the peach break up with the mango?\\n\\nBecause he could never commit, he was always ready for a **man-to-go!**', 'explaination': 'Of course! Here is an explanation of the joke.\\n\\n### The Breakdown of the Joke\\n\\nThis joke is a classic **pun**, which means it relies on a play on words. The humor comes from the double meaning of the punchline.\\n\\nHere\\'s how it works:\\n\\n1.  **The Setup:** The joke creates a personified scenario where two fruits, a peach and a mango, are in a romantic relationship. The peach breaks up with the mango, and we\\'re asked why. This sets up the expectation of a common reason for a breakup.\\n\\n2.  **The Punchline:** \"Because he could never commit, he was always ready for a **man-to-go!**\"\\n\\n3.  **The Pun Explained:**\\n    *   The key is that the phrase **\"man-to-go\"** sounds almost identical to the word **\"mango.\"**\\n    *   The phrase also has a literal meaning that fits the context of the joke. \"A man to go\" perfectly describes someone who is not committed and is always ready to leave a relationship.\\n\\nSo, the joke cleverly uses the sound of the mango\\'s name to describe his personality flaw. The mango\\'s name itself becomes the reason he\\'s a bad partner—he\\'s a \"man-go\" in both name and action'}, next=(), config={'configurable': {'thread_id': '2', 'checkpoint_ns': '', 'checkpoint_id': '1f076def-cf7b-626f-8002-af65f674f72e'}}, metadata={'source': 'loop', 'step': 2, 'parents': {}}, created_at='2025-08-11T18:14:14.739403+00:00', parent_config={'configurable': {'thread_id': '2', 'checkpoint_ns': '', 'checkpoint_id': '1f076def-3a00-6a76-8001-19968b5b7ac3'}}, tasks=(), interrupts=()),\n",
       " StateSnapshot(values={'topic': 'Mango', 'joke': 'Why did the peach break up with the mango?\\n\\nBecause he could never commit, he was always ready for a **man-to-go!**'}, next=('generate_explaination',), config={'configurable': {'thread_id': '2', 'checkpoint_ns': '', 'checkpoint_id': '1f076def-3a00-6a76-8001-19968b5b7ac3'}}, metadata={'source': 'loop', 'step': 1, 'parents': {}}, created_at='2025-08-11T18:13:59.065447+00:00', parent_config={'configurable': {'thread_id': '2', 'checkpoint_ns': '', 'checkpoint_id': '1f076dee-62d3-6023-8000-2a681d9d3604'}}, tasks=(PregelTask(id='4fd535b0-7769-bea6-d5dc-9df503c88ccd', name='generate_explaination', path=('__pregel_pull', 'generate_explaination'), error=None, interrupts=(), state=None, result={'explaination': 'Of course! Here is an explanation of the joke.\\n\\n### The Breakdown of the Joke\\n\\nThis joke is a classic **pun**, which means it relies on a play on words. The humor comes from the double meaning of the punchline.\\n\\nHere\\'s how it works:\\n\\n1.  **The Setup:** The joke creates a personified scenario where two fruits, a peach and a mango, are in a romantic relationship. The peach breaks up with the mango, and we\\'re asked why. This sets up the expectation of a common reason for a breakup.\\n\\n2.  **The Punchline:** \"Because he could never commit, he was always ready for a **man-to-go!**\"\\n\\n3.  **The Pun Explained:**\\n    *   The key is that the phrase **\"man-to-go\"** sounds almost identical to the word **\"mango.\"**\\n    *   The phrase also has a literal meaning that fits the context of the joke. \"A man to go\" perfectly describes someone who is not committed and is always ready to leave a relationship.\\n\\nSo, the joke cleverly uses the sound of the mango\\'s name to describe his personality flaw. The mango\\'s name itself becomes the reason he\\'s a bad partner—he\\'s a \"man-go\" in both name and action'}),), interrupts=()),\n",
       " StateSnapshot(values={'topic': 'Mango'}, next=('generate_joke',), config={'configurable': {'thread_id': '2', 'checkpoint_ns': '', 'checkpoint_id': '1f076dee-62d3-6023-8000-2a681d9d3604'}}, metadata={'source': 'loop', 'step': 0, 'parents': {}}, created_at='2025-08-11T18:13:36.502369+00:00', parent_config={'configurable': {'thread_id': '2', 'checkpoint_ns': '', 'checkpoint_id': '1f076dee-62d1-6676-bfff-07b04caf166a'}}, tasks=(PregelTask(id='56b5e178-eaf2-92f9-2429-7733d71c66bf', name='generate_joke', path=('__pregel_pull', 'generate_joke'), error=None, interrupts=(), state=None, result={'joke': 'Why did the peach break up with the mango?\\n\\nBecause he could never commit, he was always ready for a **man-to-go!**'}),), interrupts=()),\n",
       " StateSnapshot(values={}, next=('__start__',), config={'configurable': {'thread_id': '2', 'checkpoint_ns': '', 'checkpoint_id': '1f076dee-62d1-6676-bfff-07b04caf166a'}}, metadata={'source': 'input', 'step': -1, 'parents': {}}, created_at='2025-08-11T18:13:36.501716+00:00', parent_config=None, tasks=(PregelTask(id='35f81642-6d7d-8c46-3b78-befefee89729', name='__start__', path=('__pregel_pull', '__start__'), error=None, interrupts=(), state=None, result={'topic': 'Mango'}),), interrupts=())]"
      ]
     },
     "execution_count": 45,
     "metadata": {},
     "output_type": "execute_result"
    }
   ],
   "source": [
    "list(workflow.get_state_history(config1))"
   ]
  },
  {
   "cell_type": "code",
   "execution_count": null,
   "id": "2996795d",
   "metadata": {},
   "outputs": [
    {
     "data": {
      "text/plain": [
       "{'topic': 'Chilli',\n",
       " 'joke': \"Why is chili such a good secret-keeper?\\n\\nBecause it's full of beans, but it never spills them.\",\n",
       " 'explaination': 'Of course! Here is an explanation for the joke.\\n\\nThis joke is a **pun**, which means it plays on the double meaning of a word or phrase. In this case, the key phrase is **\"spill the beans.\"**\\n\\nLet\\'s break it down:\\n\\n1.  **The Literal Meaning:** Chili is a dish that is often made with beans. When you think about a pot or bowl of chili, it is literally \"full of beans.\" If you were clumsy, you could physically tip it over and \"spill the beans\" onto the floor.\\n\\n2.  **The Figurative Meaning (The Idiom):** In English, the expression **\"to spill the beans\"** is a common idiom that means **to reveal a secret or tell information that was supposed to be kept private.**\\n\\n**Putting It All Together:**\\n\\nThe joke personifies chili, treating it like a person.\\n\\n*   The setup asks why chili is a good **secret-keeper**.\\n*   The punchline says it\\'s because chili is \"full of beans\" (a literal fact about the food) but it \"never spills them\" (using the idiomatic meaning of not revealing secrets).\\n\\nThe humor comes from the clever connection between the literal contents of the food and the figurative meaning of the well-known phrase.'}"
      ]
     },
     "execution_count": 48,
     "metadata": {},
     "output_type": "execute_result"
    }
   ],
   "source": [
    "workflow.invoke(None,{\"configurable\":{'thread_id':\"2\",\"checkpoint_id\":\"1f076df9-d218-61b2-8001-0cb9b364f3a0\"}})"
   ]
  },
  {
   "cell_type": "code",
   "execution_count": null,
   "id": "cacc1336",
   "metadata": {},
   "outputs": [
    {
     "data": {
      "text/plain": [
       "[StateSnapshot(values={'topic': 'Chilli', 'joke': \"Why is chili such a good secret-keeper?\\n\\nBecause it's full of beans, but it never spills them.\", 'explaination': 'Of course! Here is an explanation for the joke.\\n\\nThis joke is a **pun**, which means it plays on the double meaning of a word or phrase. In this case, the key phrase is **\"spill the beans.\"**\\n\\nLet\\'s break it down:\\n\\n1.  **The Literal Meaning:** Chili is a dish that is often made with beans. When you think about a pot or bowl of chili, it is literally \"full of beans.\" If you were clumsy, you could physically tip it over and \"spill the beans\" onto the floor.\\n\\n2.  **The Figurative Meaning (The Idiom):** In English, the expression **\"to spill the beans\"** is a common idiom that means **to reveal a secret or tell information that was supposed to be kept private.**\\n\\n**Putting It All Together:**\\n\\nThe joke personifies chili, treating it like a person.\\n\\n*   The setup asks why chili is a good **secret-keeper**.\\n*   The punchline says it\\'s because chili is \"full of beans\" (a literal fact about the food) but it \"never spills them\" (using the idiomatic meaning of not revealing secrets).\\n\\nThe humor comes from the clever connection between the literal contents of the food and the figurative meaning of the well-known phrase.'}, next=(), config={'configurable': {'thread_id': '2', 'checkpoint_ns': '', 'checkpoint_id': '1f076dff-99d7-6615-8003-316ce32c440b'}}, metadata={'source': 'loop', 'step': 3, 'parents': {}}, created_at='2025-08-11T18:21:18.611599+00:00', parent_config={'configurable': {'thread_id': '2', 'checkpoint_ns': '', 'checkpoint_id': '1f076dff-176c-6543-8002-1ea9364e7e2f'}}, tasks=(), interrupts=()),\n",
       " StateSnapshot(values={'topic': 'Chilli', 'joke': \"Why is chili such a good secret-keeper?\\n\\nBecause it's full of beans, but it never spills them.\"}, next=('generate_explaination',), config={'configurable': {'thread_id': '2', 'checkpoint_ns': '', 'checkpoint_id': '1f076dff-176c-6543-8002-1ea9364e7e2f'}}, metadata={'source': 'loop', 'step': 2, 'parents': {}}, created_at='2025-08-11T18:21:04.936262+00:00', parent_config={'configurable': {'thread_id': '2', 'checkpoint_ns': '', 'checkpoint_id': '1f076df9-d218-61b2-8001-0cb9b364f3a0'}}, tasks=(PregelTask(id='6f7db20f-03fb-897c-f8ec-a05e73ace819', name='generate_explaination', path=('__pregel_pull', 'generate_explaination'), error=None, interrupts=(), state=None, result={'explaination': 'Of course! Here is an explanation for the joke.\\n\\nThis joke is a **pun**, which means it plays on the double meaning of a word or phrase. In this case, the key phrase is **\"spill the beans.\"**\\n\\nLet\\'s break it down:\\n\\n1.  **The Literal Meaning:** Chili is a dish that is often made with beans. When you think about a pot or bowl of chili, it is literally \"full of beans.\" If you were clumsy, you could physically tip it over and \"spill the beans\" onto the floor.\\n\\n2.  **The Figurative Meaning (The Idiom):** In English, the expression **\"to spill the beans\"** is a common idiom that means **to reveal a secret or tell information that was supposed to be kept private.**\\n\\n**Putting It All Together:**\\n\\nThe joke personifies chili, treating it like a person.\\n\\n*   The setup asks why chili is a good **secret-keeper**.\\n*   The punchline says it\\'s because chili is \"full of beans\" (a literal fact about the food) but it \"never spills them\" (using the idiomatic meaning of not revealing secrets).\\n\\nThe humor comes from the clever connection between the literal contents of the food and the figurative meaning of the well-known phrase.'}),), interrupts=()),\n",
       " StateSnapshot(values={'topic': 'Mango', 'joke': 'Why was the peach so sad?\\n\\nBecause it was time for her man-go.', 'explaination': 'Of course! Here is an explanation of the joke.\\n\\nThis joke is a classic **pun**, which means it relies on a word or phrase that has a double meaning.\\n\\nThe humor comes from the punchline: **\"her man-go.\"**\\n\\n1.  **How it sounds:** The phrase \"man-go\" is meant to sound exactly like the fruit **mango**. This keeps the punchline related to the fruity theme of the joke (a peach).\\n\\n2.  **What it actually says:** The phrase is broken into two words: **\"man go.\"** This implies that the peach\\'s romantic partner (\"her man\") has to leave (\"go\").\\n\\nSo, the joke sets up a human-like scenario: a peach is sad because her boyfriend or husband is leaving her. The funny twist is that the reason is delivered using a word that also happens to be another fruit.'}, next=(), config={'configurable': {'thread_id': '2', 'checkpoint_ns': '', 'checkpoint_id': '1f076dfd-528b-6ce6-8002-7bbb6d22790b'}}, metadata={'source': 'loop', 'step': 2, 'parents': {}}, created_at='2025-08-11T18:20:17.448665+00:00', parent_config={'configurable': {'thread_id': '2', 'checkpoint_ns': '', 'checkpoint_id': '1f076dfc-c458-62e9-8001-64ef757e4c14'}}, tasks=(), interrupts=()),\n",
       " StateSnapshot(values={'topic': 'Mango', 'joke': 'Why was the peach so sad?\\n\\nBecause it was time for her man-go.'}, next=('generate_explaination',), config={'configurable': {'thread_id': '2', 'checkpoint_ns': '', 'checkpoint_id': '1f076dfc-c458-62e9-8001-64ef757e4c14'}}, metadata={'source': 'loop', 'step': 1, 'parents': {}}, created_at='2025-08-11T18:20:02.537739+00:00', parent_config={'configurable': {'thread_id': '2', 'checkpoint_ns': '', 'checkpoint_id': '1f076dee-62d3-6023-8000-2a681d9d3604'}}, tasks=(PregelTask(id='7a9a1b52-00a6-e007-8f81-1b95c88cb7bc', name='generate_explaination', path=('__pregel_pull', 'generate_explaination'), error=None, interrupts=(), state=None, result={'explaination': 'Of course! Here is an explanation of the joke.\\n\\nThis joke is a classic **pun**, which means it relies on a word or phrase that has a double meaning.\\n\\nThe humor comes from the punchline: **\"her man-go.\"**\\n\\n1.  **How it sounds:** The phrase \"man-go\" is meant to sound exactly like the fruit **mango**. This keeps the punchline related to the fruity theme of the joke (a peach).\\n\\n2.  **What it actually says:** The phrase is broken into two words: **\"man go.\"** This implies that the peach\\'s romantic partner (\"her man\") has to leave (\"go\").\\n\\nSo, the joke sets up a human-like scenario: a peach is sad because her boyfriend or husband is leaving her. The funny twist is that the reason is delivered using a word that also happens to be another fruit.'}),), interrupts=()),\n",
       " StateSnapshot(values={'topic': 'Chilli'}, next=('generate_joke',), config={'configurable': {'thread_id': '2', 'checkpoint_ns': '', 'checkpoint_id': '1f076df9-d218-61b2-8001-0cb9b364f3a0'}}, metadata={'source': 'update', 'step': 1, 'parents': {}}, created_at='2025-08-11T18:18:43.448863+00:00', parent_config={'configurable': {'thread_id': '2', 'checkpoint_ns': '', 'checkpoint_id': '1f076dee-62d3-6023-8000-2a681d9d3604'}}, tasks=(PregelTask(id='004d9103-7422-3bae-c8a2-0298f1bee1bc', name='generate_joke', path=('__pregel_pull', 'generate_joke'), error=None, interrupts=(), state=None, result={'joke': \"Why is chili such a good secret-keeper?\\n\\nBecause it's full of beans, but it never spills them.\"}),), interrupts=()),\n",
       " StateSnapshot(values={'topic': 'Mango', 'joke': 'Why did the other fruits get so worried at the party?\\n\\nBecause they kept asking, \"Where did the man-go?\"', 'explaination': 'Of course! Here is an explanation of the joke.\\n\\n### The Breakdown of the Joke\\n\\nThis joke is a classic **pun**, which means it relies on a word or phrase that has two different meanings or sounds like another word.\\n\\nThe key to this joke is the punchline:\\n\\n**\"Where did the man-go?\"**\\n\\nHere\\'s how it works:\\n\\n1.  **The Literal Meaning:** When you hear the phrase \"Where did the man go?\", you naturally think of a question about a missing person. If a man suddenly vanished from a party, people would understandably get worried. This aligns with the setup of the joke (\"Why did the other fruits get so worried?\").\\n\\n2.  **The Punny Meaning:** Since the characters in the joke are fruits, the phrase is meant to be heard as a single word: **\"Mango\"**. The fruits at the party are simply looking for their friend, the Mango, and are asking, \"Where is the Mango?\"\\n\\n### The Humor\\n\\nThe humor comes from the misunderstanding. We are led to believe the fruits are worried about a serious situation (a missing man), but in reality, they are just asking a simple question about their missing fruit friend.\\n\\nSo, the fruits weren\\'t worried about a disappearing person; they were just trying to find their friend, the **mango**'}, next=(), config={'configurable': {'thread_id': '2', 'checkpoint_ns': '', 'checkpoint_id': '1f076df3-860f-6016-8002-b2b55134a3a4'}}, metadata={'source': 'loop', 'step': 2, 'parents': {}}, created_at='2025-08-11T18:15:54.414683+00:00', parent_config={'configurable': {'thread_id': '2', 'checkpoint_ns': '', 'checkpoint_id': '1f076df2-f50d-6cd2-8001-09c0a416d0b4'}}, tasks=(), interrupts=()),\n",
       " StateSnapshot(values={'topic': 'Mango', 'joke': 'Why did the other fruits get so worried at the party?\\n\\nBecause they kept asking, \"Where did the man-go?\"'}, next=('generate_explaination',), config={'configurable': {'thread_id': '2', 'checkpoint_ns': '', 'checkpoint_id': '1f076df2-f50d-6cd2-8001-09c0a416d0b4'}}, metadata={'source': 'loop', 'step': 1, 'parents': {}}, created_at='2025-08-11T18:15:39.209839+00:00', parent_config={'configurable': {'thread_id': '2', 'checkpoint_ns': '', 'checkpoint_id': '1f076dee-62d3-6023-8000-2a681d9d3604'}}, tasks=(PregelTask(id='dcc69b30-8c96-6803-2622-4b96d3a00611', name='generate_explaination', path=('__pregel_pull', 'generate_explaination'), error=None, interrupts=(), state=None, result={'explaination': 'Of course! Here is an explanation of the joke.\\n\\n### The Breakdown of the Joke\\n\\nThis joke is a classic **pun**, which means it relies on a word or phrase that has two different meanings or sounds like another word.\\n\\nThe key to this joke is the punchline:\\n\\n**\"Where did the man-go?\"**\\n\\nHere\\'s how it works:\\n\\n1.  **The Literal Meaning:** When you hear the phrase \"Where did the man go?\", you naturally think of a question about a missing person. If a man suddenly vanished from a party, people would understandably get worried. This aligns with the setup of the joke (\"Why did the other fruits get so worried?\").\\n\\n2.  **The Punny Meaning:** Since the characters in the joke are fruits, the phrase is meant to be heard as a single word: **\"Mango\"**. The fruits at the party are simply looking for their friend, the Mango, and are asking, \"Where is the Mango?\"\\n\\n### The Humor\\n\\nThe humor comes from the misunderstanding. We are led to believe the fruits are worried about a serious situation (a missing man), but in reality, they are just asking a simple question about their missing fruit friend.\\n\\nSo, the fruits weren\\'t worried about a disappearing person; they were just trying to find their friend, the **mango**'}),), interrupts=()),\n",
       " StateSnapshot(values={'topic': 'Mango', 'joke': 'Why did the peach break up with the mango?\\n\\nBecause he could never commit, he was always ready for a **man-to-go!**', 'explaination': 'Of course! Here is an explanation of the joke.\\n\\n### The Breakdown of the Joke\\n\\nThis joke is a classic **pun**, which means it relies on a play on words. The humor comes from the double meaning of the punchline.\\n\\nHere\\'s how it works:\\n\\n1.  **The Setup:** The joke creates a personified scenario where two fruits, a peach and a mango, are in a romantic relationship. The peach breaks up with the mango, and we\\'re asked why. This sets up the expectation of a common reason for a breakup.\\n\\n2.  **The Punchline:** \"Because he could never commit, he was always ready for a **man-to-go!**\"\\n\\n3.  **The Pun Explained:**\\n    *   The key is that the phrase **\"man-to-go\"** sounds almost identical to the word **\"mango.\"**\\n    *   The phrase also has a literal meaning that fits the context of the joke. \"A man to go\" perfectly describes someone who is not committed and is always ready to leave a relationship.\\n\\nSo, the joke cleverly uses the sound of the mango\\'s name to describe his personality flaw. The mango\\'s name itself becomes the reason he\\'s a bad partner—he\\'s a \"man-go\" in both name and action'}, next=(), config={'configurable': {'thread_id': '2', 'checkpoint_ns': '', 'checkpoint_id': '1f076def-cf7b-626f-8002-af65f674f72e'}}, metadata={'source': 'loop', 'step': 2, 'parents': {}}, created_at='2025-08-11T18:14:14.739403+00:00', parent_config={'configurable': {'thread_id': '2', 'checkpoint_ns': '', 'checkpoint_id': '1f076def-3a00-6a76-8001-19968b5b7ac3'}}, tasks=(), interrupts=()),\n",
       " StateSnapshot(values={'topic': 'Mango', 'joke': 'Why did the peach break up with the mango?\\n\\nBecause he could never commit, he was always ready for a **man-to-go!**'}, next=('generate_explaination',), config={'configurable': {'thread_id': '2', 'checkpoint_ns': '', 'checkpoint_id': '1f076def-3a00-6a76-8001-19968b5b7ac3'}}, metadata={'source': 'loop', 'step': 1, 'parents': {}}, created_at='2025-08-11T18:13:59.065447+00:00', parent_config={'configurable': {'thread_id': '2', 'checkpoint_ns': '', 'checkpoint_id': '1f076dee-62d3-6023-8000-2a681d9d3604'}}, tasks=(PregelTask(id='4fd535b0-7769-bea6-d5dc-9df503c88ccd', name='generate_explaination', path=('__pregel_pull', 'generate_explaination'), error=None, interrupts=(), state=None, result={'explaination': 'Of course! Here is an explanation of the joke.\\n\\n### The Breakdown of the Joke\\n\\nThis joke is a classic **pun**, which means it relies on a play on words. The humor comes from the double meaning of the punchline.\\n\\nHere\\'s how it works:\\n\\n1.  **The Setup:** The joke creates a personified scenario where two fruits, a peach and a mango, are in a romantic relationship. The peach breaks up with the mango, and we\\'re asked why. This sets up the expectation of a common reason for a breakup.\\n\\n2.  **The Punchline:** \"Because he could never commit, he was always ready for a **man-to-go!**\"\\n\\n3.  **The Pun Explained:**\\n    *   The key is that the phrase **\"man-to-go\"** sounds almost identical to the word **\"mango.\"**\\n    *   The phrase also has a literal meaning that fits the context of the joke. \"A man to go\" perfectly describes someone who is not committed and is always ready to leave a relationship.\\n\\nSo, the joke cleverly uses the sound of the mango\\'s name to describe his personality flaw. The mango\\'s name itself becomes the reason he\\'s a bad partner—he\\'s a \"man-go\" in both name and action'}),), interrupts=()),\n",
       " StateSnapshot(values={'topic': 'Mango'}, next=('generate_joke',), config={'configurable': {'thread_id': '2', 'checkpoint_ns': '', 'checkpoint_id': '1f076dee-62d3-6023-8000-2a681d9d3604'}}, metadata={'source': 'loop', 'step': 0, 'parents': {}}, created_at='2025-08-11T18:13:36.502369+00:00', parent_config={'configurable': {'thread_id': '2', 'checkpoint_ns': '', 'checkpoint_id': '1f076dee-62d1-6676-bfff-07b04caf166a'}}, tasks=(PregelTask(id='56b5e178-eaf2-92f9-2429-7733d71c66bf', name='generate_joke', path=('__pregel_pull', 'generate_joke'), error=None, interrupts=(), state=None, result={'joke': 'Why did the peach break up with the mango?\\n\\nBecause he could never commit, he was always ready for a **man-to-go!**'}),), interrupts=()),\n",
       " StateSnapshot(values={}, next=('__start__',), config={'configurable': {'thread_id': '2', 'checkpoint_ns': '', 'checkpoint_id': '1f076dee-62d1-6676-bfff-07b04caf166a'}}, metadata={'source': 'input', 'step': -1, 'parents': {}}, created_at='2025-08-11T18:13:36.501716+00:00', parent_config=None, tasks=(PregelTask(id='35f81642-6d7d-8c46-3b78-befefee89729', name='__start__', path=('__pregel_pull', '__start__'), error=None, interrupts=(), state=None, result={'topic': 'Mango'}),), interrupts=())]"
      ]
     },
     "execution_count": 49,
     "metadata": {},
     "output_type": "execute_result"
    }
   ],
   "source": [
    "list(workflow.get_state_history(config1))"
   ]
  }
 ],
 "metadata": {
  "kernelspec": {
   "display_name": "langgraph-trial (3.13.5)",
   "language": "python",
   "name": "python3"
  },
  "language_info": {
   "codemirror_mode": {
    "name": "ipython",
    "version": 3
   },
   "file_extension": ".py",
   "mimetype": "text/x-python",
   "name": "python",
   "nbconvert_exporter": "python",
   "pygments_lexer": "ipython3",
   "version": "3.13.5"
  }
 },
 "nbformat": 4,
 "nbformat_minor": 5
}
