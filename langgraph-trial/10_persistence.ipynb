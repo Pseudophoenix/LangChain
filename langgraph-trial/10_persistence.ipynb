{
 "cells": [
  {
   "cell_type": "code",
   "execution_count": 30,
   "id": "3cabe629",
   "metadata": {},
   "outputs": [],
   "source": [
    "from langgraph.graph import StateGraph, START, END\n",
    "from dotenv import load_dotenv\n",
    "from langchain_google_vertexai import ChatVertexAI\n",
    "from typing import TypedDict\n",
    "from langgraph.checkpoint.memory import InMemorySaver"
   ]
  },
  {
   "cell_type": "code",
   "execution_count": 31,
   "id": "3cb7b4be",
   "metadata": {},
   "outputs": [],
   "source": [
    "load_dotenv()\n",
    "\n",
    "llm=ChatVertexAI(model_name=\"gemini-2.5-pro\")"
   ]
  },
  {
   "cell_type": "code",
   "execution_count": 32,
   "id": "f98daea5",
   "metadata": {},
   "outputs": [],
   "source": [
    "class JokeState(TypedDict):\n",
    "    topic:str\n",
    "    joke:str\n",
    "    explaination:str"
   ]
  },
  {
   "cell_type": "code",
   "execution_count": 33,
   "id": "230b3a0f",
   "metadata": {},
   "outputs": [],
   "source": [
    "def generate_joke(state:JokeState):\n",
    "    prompt=f\"generate a joke on the topic {state['topic']}\"\n",
    "    response=llm.invoke(prompt).content\n",
    "    return {'joke':response}"
   ]
  },
  {
   "cell_type": "code",
   "execution_count": 34,
   "id": "11330f28",
   "metadata": {},
   "outputs": [],
   "source": [
    "def generate_explaination(state:JokeState):\n",
    "    prompt=f\"Write an explaination for the joke - {state[\"joke\"]}\"\n",
    "    response=llm.invoke(prompt).content\n",
    "    return {\"explaination\":response}"
   ]
  },
  {
   "cell_type": "code",
   "execution_count": 35,
   "id": "8bd4a9b5",
   "metadata": {},
   "outputs": [],
   "source": [
    "graph=StateGraph(JokeState)\n",
    "\n",
    "graph.add_node('generate_joke',generate_joke)\n",
    "graph.add_node('generate_explaination',generate_explaination)\n",
    "\n",
    "graph.add_edge(START,'generate_joke')\n",
    "graph.add_edge('generate_joke','generate_explaination')\n",
    "graph.add_edge('generate_explaination',END)\n",
    "\n",
    "checkpointer=InMemorySaver()\n",
    "workflow=graph.compile(checkpointer=checkpointer)"
   ]
  },
  {
   "cell_type": "code",
   "execution_count": 36,
   "id": "24992811",
   "metadata": {},
   "outputs": [
    {
     "data": {
      "text/plain": [
       "{'topic': 'Mango',\n",
       " 'joke': 'Why did the peach break up with the mango?\\n\\nBecause he could never commit, he was always ready for a **man-to-go!**',\n",
       " 'explaination': 'Of course! Here is an explanation of the joke.\\n\\n### The Breakdown of the Joke\\n\\nThis joke is a classic **pun**, which means it relies on a play on words. The humor comes from the double meaning of the punchline.\\n\\nHere\\'s how it works:\\n\\n1.  **The Setup:** The joke creates a personified scenario where two fruits, a peach and a mango, are in a romantic relationship. The peach breaks up with the mango, and we\\'re asked why. This sets up the expectation of a common reason for a breakup.\\n\\n2.  **The Punchline:** \"Because he could never commit, he was always ready for a **man-to-go!**\"\\n\\n3.  **The Pun Explained:**\\n    *   The key is that the phrase **\"man-to-go\"** sounds almost identical to the word **\"mango.\"**\\n    *   The phrase also has a literal meaning that fits the context of the joke. \"A man to go\" perfectly describes someone who is not committed and is always ready to leave a relationship.\\n\\nSo, the joke cleverly uses the sound of the mango\\'s name to describe his personality flaw. The mango\\'s name itself becomes the reason he\\'s a bad partner—he\\'s a \"man-go\" in both name and action'}"
      ]
     },
     "execution_count": 36,
     "metadata": {},
     "output_type": "execute_result"
    }
   ],
   "source": [
    "config1={\"configurable\":{'thread_id':'2'}}\n",
    "workflow.invoke({'topic':\"Mango\"},config=config1)"
   ]
  },
  {
   "cell_type": "code",
   "execution_count": 37,
   "id": "636b1f98",
   "metadata": {},
   "outputs": [
    {
     "data": {
      "text/plain": [
       "StateSnapshot(values={'topic': 'Mango', 'joke': 'Why did the peach break up with the mango?\\n\\nBecause he could never commit, he was always ready for a **man-to-go!**', 'explaination': 'Of course! Here is an explanation of the joke.\\n\\n### The Breakdown of the Joke\\n\\nThis joke is a classic **pun**, which means it relies on a play on words. The humor comes from the double meaning of the punchline.\\n\\nHere\\'s how it works:\\n\\n1.  **The Setup:** The joke creates a personified scenario where two fruits, a peach and a mango, are in a romantic relationship. The peach breaks up with the mango, and we\\'re asked why. This sets up the expectation of a common reason for a breakup.\\n\\n2.  **The Punchline:** \"Because he could never commit, he was always ready for a **man-to-go!**\"\\n\\n3.  **The Pun Explained:**\\n    *   The key is that the phrase **\"man-to-go\"** sounds almost identical to the word **\"mango.\"**\\n    *   The phrase also has a literal meaning that fits the context of the joke. \"A man to go\" perfectly describes someone who is not committed and is always ready to leave a relationship.\\n\\nSo, the joke cleverly uses the sound of the mango\\'s name to describe his personality flaw. The mango\\'s name itself becomes the reason he\\'s a bad partner—he\\'s a \"man-go\" in both name and action'}, next=(), config={'configurable': {'thread_id': '2', 'checkpoint_ns': '', 'checkpoint_id': '1f076def-cf7b-626f-8002-af65f674f72e'}}, metadata={'source': 'loop', 'step': 2, 'parents': {}}, created_at='2025-08-11T18:14:14.739403+00:00', parent_config={'configurable': {'thread_id': '2', 'checkpoint_ns': '', 'checkpoint_id': '1f076def-3a00-6a76-8001-19968b5b7ac3'}}, tasks=(), interrupts=())"
      ]
     },
     "execution_count": 37,
     "metadata": {},
     "output_type": "execute_result"
    }
   ],
   "source": [
    "workflow.get_state(config1)"
   ]
  },
  {
   "cell_type": "code",
   "execution_count": 38,
   "id": "6329d595",
   "metadata": {},
   "outputs": [
    {
     "data": {
      "text/plain": [
       "[StateSnapshot(values={'topic': 'Mango', 'joke': 'Why did the peach break up with the mango?\\n\\nBecause he could never commit, he was always ready for a **man-to-go!**', 'explaination': 'Of course! Here is an explanation of the joke.\\n\\n### The Breakdown of the Joke\\n\\nThis joke is a classic **pun**, which means it relies on a play on words. The humor comes from the double meaning of the punchline.\\n\\nHere\\'s how it works:\\n\\n1.  **The Setup:** The joke creates a personified scenario where two fruits, a peach and a mango, are in a romantic relationship. The peach breaks up with the mango, and we\\'re asked why. This sets up the expectation of a common reason for a breakup.\\n\\n2.  **The Punchline:** \"Because he could never commit, he was always ready for a **man-to-go!**\"\\n\\n3.  **The Pun Explained:**\\n    *   The key is that the phrase **\"man-to-go\"** sounds almost identical to the word **\"mango.\"**\\n    *   The phrase also has a literal meaning that fits the context of the joke. \"A man to go\" perfectly describes someone who is not committed and is always ready to leave a relationship.\\n\\nSo, the joke cleverly uses the sound of the mango\\'s name to describe his personality flaw. The mango\\'s name itself becomes the reason he\\'s a bad partner—he\\'s a \"man-go\" in both name and action'}, next=(), config={'configurable': {'thread_id': '2', 'checkpoint_ns': '', 'checkpoint_id': '1f076def-cf7b-626f-8002-af65f674f72e'}}, metadata={'source': 'loop', 'step': 2, 'parents': {}}, created_at='2025-08-11T18:14:14.739403+00:00', parent_config={'configurable': {'thread_id': '2', 'checkpoint_ns': '', 'checkpoint_id': '1f076def-3a00-6a76-8001-19968b5b7ac3'}}, tasks=(), interrupts=()),\n",
       " StateSnapshot(values={'topic': 'Mango', 'joke': 'Why did the peach break up with the mango?\\n\\nBecause he could never commit, he was always ready for a **man-to-go!**'}, next=('generate_explaination',), config={'configurable': {'thread_id': '2', 'checkpoint_ns': '', 'checkpoint_id': '1f076def-3a00-6a76-8001-19968b5b7ac3'}}, metadata={'source': 'loop', 'step': 1, 'parents': {}}, created_at='2025-08-11T18:13:59.065447+00:00', parent_config={'configurable': {'thread_id': '2', 'checkpoint_ns': '', 'checkpoint_id': '1f076dee-62d3-6023-8000-2a681d9d3604'}}, tasks=(PregelTask(id='4fd535b0-7769-bea6-d5dc-9df503c88ccd', name='generate_explaination', path=('__pregel_pull', 'generate_explaination'), error=None, interrupts=(), state=None, result={'explaination': 'Of course! Here is an explanation of the joke.\\n\\n### The Breakdown of the Joke\\n\\nThis joke is a classic **pun**, which means it relies on a play on words. The humor comes from the double meaning of the punchline.\\n\\nHere\\'s how it works:\\n\\n1.  **The Setup:** The joke creates a personified scenario where two fruits, a peach and a mango, are in a romantic relationship. The peach breaks up with the mango, and we\\'re asked why. This sets up the expectation of a common reason for a breakup.\\n\\n2.  **The Punchline:** \"Because he could never commit, he was always ready for a **man-to-go!**\"\\n\\n3.  **The Pun Explained:**\\n    *   The key is that the phrase **\"man-to-go\"** sounds almost identical to the word **\"mango.\"**\\n    *   The phrase also has a literal meaning that fits the context of the joke. \"A man to go\" perfectly describes someone who is not committed and is always ready to leave a relationship.\\n\\nSo, the joke cleverly uses the sound of the mango\\'s name to describe his personality flaw. The mango\\'s name itself becomes the reason he\\'s a bad partner—he\\'s a \"man-go\" in both name and action'}),), interrupts=()),\n",
       " StateSnapshot(values={'topic': 'Mango'}, next=('generate_joke',), config={'configurable': {'thread_id': '2', 'checkpoint_ns': '', 'checkpoint_id': '1f076dee-62d3-6023-8000-2a681d9d3604'}}, metadata={'source': 'loop', 'step': 0, 'parents': {}}, created_at='2025-08-11T18:13:36.502369+00:00', parent_config={'configurable': {'thread_id': '2', 'checkpoint_ns': '', 'checkpoint_id': '1f076dee-62d1-6676-bfff-07b04caf166a'}}, tasks=(PregelTask(id='56b5e178-eaf2-92f9-2429-7733d71c66bf', name='generate_joke', path=('__pregel_pull', 'generate_joke'), error=None, interrupts=(), state=None, result={'joke': 'Why did the peach break up with the mango?\\n\\nBecause he could never commit, he was always ready for a **man-to-go!**'}),), interrupts=()),\n",
       " StateSnapshot(values={}, next=('__start__',), config={'configurable': {'thread_id': '2', 'checkpoint_ns': '', 'checkpoint_id': '1f076dee-62d1-6676-bfff-07b04caf166a'}}, metadata={'source': 'input', 'step': -1, 'parents': {}}, created_at='2025-08-11T18:13:36.501716+00:00', parent_config=None, tasks=(PregelTask(id='35f81642-6d7d-8c46-3b78-befefee89729', name='__start__', path=('__pregel_pull', '__start__'), error=None, interrupts=(), state=None, result={'topic': 'Mango'}),), interrupts=())]"
      ]
     },
     "execution_count": 38,
     "metadata": {},
     "output_type": "execute_result"
    }
   ],
   "source": [
    "list(workflow.get_state_history(config1))"
   ]
  },
  {
   "cell_type": "code",
   "execution_count": null,
   "id": "e8d80165",
   "metadata": {},
   "outputs": [],
   "source": [
    "config2={\"configurable\":{\"thread_id\":\"2\"}}\n",
    "workflow.invoke({'topic':\"Potato\"},config=config2)"
   ]
  },
  {
   "cell_type": "code",
   "execution_count": null,
   "id": "1c50d50f",
   "metadata": {},
   "outputs": [],
   "source": [
    "config1={\"configurable\":{'thread_id':'2'}}\n",
    "workflow.invoke({'topic':\"Mango\"},config=config2)"
   ]
  },
  {
   "cell_type": "code",
   "execution_count": null,
   "id": "25e2cdd4",
   "metadata": {},
   "outputs": [],
   "source": [
    "workflow.get_state(config1)"
   ]
  },
  {
   "cell_type": "markdown",
   "id": "2001f63e",
   "metadata": {},
   "source": [
    "### Time Travel"
   ]
  },
  {
   "cell_type": "code",
   "execution_count": 40,
   "id": "af4013c6",
   "metadata": {},
   "outputs": [
    {
     "data": {
      "text/plain": [
       "StateSnapshot(values={'topic': 'Mango'}, next=('generate_joke',), config={'configurable': {'thread_id': '2', 'checkpoint_id': '1f076dee-62d3-6023-8000-2a681d9d3604'}}, metadata={'source': 'loop', 'step': 0, 'parents': {}}, created_at='2025-08-11T18:13:36.502369+00:00', parent_config={'configurable': {'thread_id': '2', 'checkpoint_ns': '', 'checkpoint_id': '1f076dee-62d1-6676-bfff-07b04caf166a'}}, tasks=(PregelTask(id='56b5e178-eaf2-92f9-2429-7733d71c66bf', name='generate_joke', path=('__pregel_pull', 'generate_joke'), error=None, interrupts=(), state=None, result={'joke': 'Why did the peach break up with the mango?\\n\\nBecause he could never commit, he was always ready for a **man-to-go!**'}),), interrupts=())"
      ]
     },
     "execution_count": 40,
     "metadata": {},
     "output_type": "execute_result"
    }
   ],
   "source": [
    "workflow.get_state({\"configurable\":{\"thread_id\":\"2\",\"checkpoint_id\":\"1f076dee-62d3-6023-8000-2a681d9d3604\"}})"
   ]
  },
  {
   "cell_type": "code",
   "execution_count": 41,
   "id": "1255c237",
   "metadata": {},
   "outputs": [
    {
     "data": {
      "text/plain": [
       "{'topic': 'Mango',\n",
       " 'joke': 'Why did the other fruits get so worried at the party?\\n\\nBecause they kept asking, \"Where did the man-go?\"',\n",
       " 'explaination': 'Of course! Here is an explanation of the joke.\\n\\n### The Breakdown of the Joke\\n\\nThis joke is a classic **pun**, which means it relies on a word or phrase that has two different meanings or sounds like another word.\\n\\nThe key to this joke is the punchline:\\n\\n**\"Where did the man-go?\"**\\n\\nHere\\'s how it works:\\n\\n1.  **The Literal Meaning:** When you hear the phrase \"Where did the man go?\", you naturally think of a question about a missing person. If a man suddenly vanished from a party, people would understandably get worried. This aligns with the setup of the joke (\"Why did the other fruits get so worried?\").\\n\\n2.  **The Punny Meaning:** Since the characters in the joke are fruits, the phrase is meant to be heard as a single word: **\"Mango\"**. The fruits at the party are simply looking for their friend, the Mango, and are asking, \"Where is the Mango?\"\\n\\n### The Humor\\n\\nThe humor comes from the misunderstanding. We are led to believe the fruits are worried about a serious situation (a missing man), but in reality, they are just asking a simple question about their missing fruit friend.\\n\\nSo, the fruits weren\\'t worried about a disappearing person; they were just trying to find their friend, the **mango**'}"
      ]
     },
     "execution_count": 41,
     "metadata": {},
     "output_type": "execute_result"
    }
   ],
   "source": [
    "workflow.invoke(None,{\"configurable\":{\"thread_id\":\"2\",\"checkpoint_id\":\"1f076dee-62d3-6023-8000-2a681d9d3604\"}})"
   ]
  },
  {
   "cell_type": "code",
   "execution_count": 43,
   "id": "55e6b4f1",
   "metadata": {},
   "outputs": [
    {
     "data": {
      "text/plain": [
       "[StateSnapshot(values={'topic': 'Mango', 'joke': 'Why did the other fruits get so worried at the party?\\n\\nBecause they kept asking, \"Where did the man-go?\"', 'explaination': 'Of course! Here is an explanation of the joke.\\n\\n### The Breakdown of the Joke\\n\\nThis joke is a classic **pun**, which means it relies on a word or phrase that has two different meanings or sounds like another word.\\n\\nThe key to this joke is the punchline:\\n\\n**\"Where did the man-go?\"**\\n\\nHere\\'s how it works:\\n\\n1.  **The Literal Meaning:** When you hear the phrase \"Where did the man go?\", you naturally think of a question about a missing person. If a man suddenly vanished from a party, people would understandably get worried. This aligns with the setup of the joke (\"Why did the other fruits get so worried?\").\\n\\n2.  **The Punny Meaning:** Since the characters in the joke are fruits, the phrase is meant to be heard as a single word: **\"Mango\"**. The fruits at the party are simply looking for their friend, the Mango, and are asking, \"Where is the Mango?\"\\n\\n### The Humor\\n\\nThe humor comes from the misunderstanding. We are led to believe the fruits are worried about a serious situation (a missing man), but in reality, they are just asking a simple question about their missing fruit friend.\\n\\nSo, the fruits weren\\'t worried about a disappearing person; they were just trying to find their friend, the **mango**'}, next=(), config={'configurable': {'thread_id': '2', 'checkpoint_ns': '', 'checkpoint_id': '1f076df3-860f-6016-8002-b2b55134a3a4'}}, metadata={'source': 'loop', 'step': 2, 'parents': {}}, created_at='2025-08-11T18:15:54.414683+00:00', parent_config={'configurable': {'thread_id': '2', 'checkpoint_ns': '', 'checkpoint_id': '1f076df2-f50d-6cd2-8001-09c0a416d0b4'}}, tasks=(), interrupts=()),\n",
       " StateSnapshot(values={'topic': 'Mango', 'joke': 'Why did the other fruits get so worried at the party?\\n\\nBecause they kept asking, \"Where did the man-go?\"'}, next=('generate_explaination',), config={'configurable': {'thread_id': '2', 'checkpoint_ns': '', 'checkpoint_id': '1f076df2-f50d-6cd2-8001-09c0a416d0b4'}}, metadata={'source': 'loop', 'step': 1, 'parents': {}}, created_at='2025-08-11T18:15:39.209839+00:00', parent_config={'configurable': {'thread_id': '2', 'checkpoint_ns': '', 'checkpoint_id': '1f076dee-62d3-6023-8000-2a681d9d3604'}}, tasks=(PregelTask(id='dcc69b30-8c96-6803-2622-4b96d3a00611', name='generate_explaination', path=('__pregel_pull', 'generate_explaination'), error=None, interrupts=(), state=None, result={'explaination': 'Of course! Here is an explanation of the joke.\\n\\n### The Breakdown of the Joke\\n\\nThis joke is a classic **pun**, which means it relies on a word or phrase that has two different meanings or sounds like another word.\\n\\nThe key to this joke is the punchline:\\n\\n**\"Where did the man-go?\"**\\n\\nHere\\'s how it works:\\n\\n1.  **The Literal Meaning:** When you hear the phrase \"Where did the man go?\", you naturally think of a question about a missing person. If a man suddenly vanished from a party, people would understandably get worried. This aligns with the setup of the joke (\"Why did the other fruits get so worried?\").\\n\\n2.  **The Punny Meaning:** Since the characters in the joke are fruits, the phrase is meant to be heard as a single word: **\"Mango\"**. The fruits at the party are simply looking for their friend, the Mango, and are asking, \"Where is the Mango?\"\\n\\n### The Humor\\n\\nThe humor comes from the misunderstanding. We are led to believe the fruits are worried about a serious situation (a missing man), but in reality, they are just asking a simple question about their missing fruit friend.\\n\\nSo, the fruits weren\\'t worried about a disappearing person; they were just trying to find their friend, the **mango**'}),), interrupts=()),\n",
       " StateSnapshot(values={'topic': 'Mango', 'joke': 'Why did the peach break up with the mango?\\n\\nBecause he could never commit, he was always ready for a **man-to-go!**', 'explaination': 'Of course! Here is an explanation of the joke.\\n\\n### The Breakdown of the Joke\\n\\nThis joke is a classic **pun**, which means it relies on a play on words. The humor comes from the double meaning of the punchline.\\n\\nHere\\'s how it works:\\n\\n1.  **The Setup:** The joke creates a personified scenario where two fruits, a peach and a mango, are in a romantic relationship. The peach breaks up with the mango, and we\\'re asked why. This sets up the expectation of a common reason for a breakup.\\n\\n2.  **The Punchline:** \"Because he could never commit, he was always ready for a **man-to-go!**\"\\n\\n3.  **The Pun Explained:**\\n    *   The key is that the phrase **\"man-to-go\"** sounds almost identical to the word **\"mango.\"**\\n    *   The phrase also has a literal meaning that fits the context of the joke. \"A man to go\" perfectly describes someone who is not committed and is always ready to leave a relationship.\\n\\nSo, the joke cleverly uses the sound of the mango\\'s name to describe his personality flaw. The mango\\'s name itself becomes the reason he\\'s a bad partner—he\\'s a \"man-go\" in both name and action'}, next=(), config={'configurable': {'thread_id': '2', 'checkpoint_ns': '', 'checkpoint_id': '1f076def-cf7b-626f-8002-af65f674f72e'}}, metadata={'source': 'loop', 'step': 2, 'parents': {}}, created_at='2025-08-11T18:14:14.739403+00:00', parent_config={'configurable': {'thread_id': '2', 'checkpoint_ns': '', 'checkpoint_id': '1f076def-3a00-6a76-8001-19968b5b7ac3'}}, tasks=(), interrupts=()),\n",
       " StateSnapshot(values={'topic': 'Mango', 'joke': 'Why did the peach break up with the mango?\\n\\nBecause he could never commit, he was always ready for a **man-to-go!**'}, next=('generate_explaination',), config={'configurable': {'thread_id': '2', 'checkpoint_ns': '', 'checkpoint_id': '1f076def-3a00-6a76-8001-19968b5b7ac3'}}, metadata={'source': 'loop', 'step': 1, 'parents': {}}, created_at='2025-08-11T18:13:59.065447+00:00', parent_config={'configurable': {'thread_id': '2', 'checkpoint_ns': '', 'checkpoint_id': '1f076dee-62d3-6023-8000-2a681d9d3604'}}, tasks=(PregelTask(id='4fd535b0-7769-bea6-d5dc-9df503c88ccd', name='generate_explaination', path=('__pregel_pull', 'generate_explaination'), error=None, interrupts=(), state=None, result={'explaination': 'Of course! Here is an explanation of the joke.\\n\\n### The Breakdown of the Joke\\n\\nThis joke is a classic **pun**, which means it relies on a play on words. The humor comes from the double meaning of the punchline.\\n\\nHere\\'s how it works:\\n\\n1.  **The Setup:** The joke creates a personified scenario where two fruits, a peach and a mango, are in a romantic relationship. The peach breaks up with the mango, and we\\'re asked why. This sets up the expectation of a common reason for a breakup.\\n\\n2.  **The Punchline:** \"Because he could never commit, he was always ready for a **man-to-go!**\"\\n\\n3.  **The Pun Explained:**\\n    *   The key is that the phrase **\"man-to-go\"** sounds almost identical to the word **\"mango.\"**\\n    *   The phrase also has a literal meaning that fits the context of the joke. \"A man to go\" perfectly describes someone who is not committed and is always ready to leave a relationship.\\n\\nSo, the joke cleverly uses the sound of the mango\\'s name to describe his personality flaw. The mango\\'s name itself becomes the reason he\\'s a bad partner—he\\'s a \"man-go\" in both name and action'}),), interrupts=()),\n",
       " StateSnapshot(values={'topic': 'Mango'}, next=('generate_joke',), config={'configurable': {'thread_id': '2', 'checkpoint_ns': '', 'checkpoint_id': '1f076dee-62d3-6023-8000-2a681d9d3604'}}, metadata={'source': 'loop', 'step': 0, 'parents': {}}, created_at='2025-08-11T18:13:36.502369+00:00', parent_config={'configurable': {'thread_id': '2', 'checkpoint_ns': '', 'checkpoint_id': '1f076dee-62d1-6676-bfff-07b04caf166a'}}, tasks=(PregelTask(id='56b5e178-eaf2-92f9-2429-7733d71c66bf', name='generate_joke', path=('__pregel_pull', 'generate_joke'), error=None, interrupts=(), state=None, result={'joke': 'Why did the peach break up with the mango?\\n\\nBecause he could never commit, he was always ready for a **man-to-go!**'}),), interrupts=()),\n",
       " StateSnapshot(values={}, next=('__start__',), config={'configurable': {'thread_id': '2', 'checkpoint_ns': '', 'checkpoint_id': '1f076dee-62d1-6676-bfff-07b04caf166a'}}, metadata={'source': 'input', 'step': -1, 'parents': {}}, created_at='2025-08-11T18:13:36.501716+00:00', parent_config=None, tasks=(PregelTask(id='35f81642-6d7d-8c46-3b78-befefee89729', name='__start__', path=('__pregel_pull', '__start__'), error=None, interrupts=(), state=None, result={'topic': 'Mango'}),), interrupts=())]"
      ]
     },
     "execution_count": 43,
     "metadata": {},
     "output_type": "execute_result"
    }
   ],
   "source": [
    "list(workflow.get_state_history(config1))"
   ]
  },
  {
   "cell_type": "markdown",
   "id": "45917599",
   "metadata": {},
   "source": [
    "## Updating State"
   ]
  },
  {
   "cell_type": "code",
   "execution_count": null,
   "id": "0486175a",
   "metadata": {},
   "outputs": [],
   "source": []
  }
 ],
 "metadata": {
  "kernelspec": {
   "display_name": "langgraph-trial (3.13.5)",
   "language": "python",
   "name": "python3"
  },
  "language_info": {
   "codemirror_mode": {
    "name": "ipython",
    "version": 3
   },
   "file_extension": ".py",
   "mimetype": "text/x-python",
   "name": "python",
   "nbconvert_exporter": "python",
   "pygments_lexer": "ipython3",
   "version": "3.13.5"
  }
 },
 "nbformat": 4,
 "nbformat_minor": 5
}
