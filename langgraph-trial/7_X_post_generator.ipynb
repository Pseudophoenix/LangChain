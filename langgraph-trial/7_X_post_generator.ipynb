{
 "cells": [
  {
   "cell_type": "code",
   "execution_count": 4,
   "id": "33085d98",
   "metadata": {},
   "outputs": [],
   "source": [
    "from langgraph.graph import StateGraph, START, END\n",
    "from typing import TypedDict, Literal, Annotated\n",
    "from langchain_google_vertexai import ChatVertexAI\n",
    "from langchain_core.messages import SystemMessage, HumanMessage\n",
    "import operator"
   ]
  },
  {
   "cell_type": "code",
   "execution_count": 5,
   "id": "9d38961e",
   "metadata": {},
   "outputs": [],
   "source": [
    "generator_llm=ChatVertexAI(model_name=\"gemini-2.5-pro\")\n",
    "evaluator_llm=ChatVertexAI(model_name=\"gemini-2.5-flash\")\n",
    "optimizer_llm=ChatVertexAI(model_name=\"gemini-2.5-pro\")"
   ]
  },
  {
   "cell_type": "code",
   "execution_count": 6,
   "id": "fcd2f36f",
   "metadata": {},
   "outputs": [],
   "source": [
    "from pydantic import BaseModel, Field\n",
    "class TweetEvaluation(BaseModel):\n",
    "    evaluation:Literal[\"approved\",\"needs_improvement\"]=Field(...,description=\"Final evaluation result\")\n",
    "    feedback:str=Field(...,description=\"feedback for the tweet.\")"
   ]
  },
  {
   "cell_type": "code",
   "execution_count": 7,
   "id": "f413c90d",
   "metadata": {},
   "outputs": [],
   "source": [
    "structured_evaluator_llm=evaluator_llm.with_structured_output(TweetEvaluation)"
   ]
  },
  {
   "cell_type": "code",
   "execution_count": 8,
   "id": "a7359179",
   "metadata": {},
   "outputs": [],
   "source": [
    "class TweetState(TypedDict):\n",
    "    topic:str\n",
    "    tweet:str\n",
    "    evaluation:Literal[\"approved\",\"needs_improvement\"]\n",
    "    feedback:str\n",
    "    iteration:int\n",
    "    max_iteration:int\n",
    "\n",
    "    tweet_history:Annotated[list[str],operator.add]\n",
    "    feedback_history:Annotated[list[str],operator.add]"
   ]
  },
  {
   "cell_type": "code",
   "execution_count": 9,
   "id": "b06e361e",
   "metadata": {},
   "outputs": [],
   "source": [
    "def generate_tweet(state:TweetState):\n",
    "    messages=[\n",
    "        SystemMessage(content=\"\"),\n",
    "        HumanMessage(content=\"\")\n",
    "    ]\n",
    "    response=generator_llm.invoke(messages).content\n",
    "    return {'tweet':response,'tweet_history':[response]}"
   ]
  },
  {
   "cell_type": "code",
   "execution_count": 10,
   "id": "b1fa0531",
   "metadata": {},
   "outputs": [],
   "source": [
    "def evaluate_tweet(state:TweetState):\n",
    "    messages=[\n",
    "        SystemMessage(content=\"\"),\n",
    "        HumanMessage(content=\"\")\n",
    "    ]\n",
    "    response=structured_evaluator_llm.invoke(messages)\n",
    "    return {'evaluation':response.evaluation,\n",
    "            'feedback':response.feedback,'feedback_history':[response.feedback]}"
   ]
  },
  {
   "cell_type": "code",
   "execution_count": 12,
   "id": "526c00f3",
   "metadata": {},
   "outputs": [],
   "source": [
    "def optimize_tweet(state:TweetState):\n",
    "    messages=[\n",
    "        SystemMessage(content=\"\"),\n",
    "        HumanMessage(content=\"\")\n",
    "    ]\n",
    "    response=optimizer_llm.invoke(messages).content\n",
    "    iteration=state['iteration']+1\n",
    "    return {'tweet':response,'iteration':iteration,'tweet_history':[response]}"
   ]
  },
  {
   "cell_type": "code",
   "execution_count": 13,
   "id": "63201165",
   "metadata": {},
   "outputs": [],
   "source": [
    "def route_evaluation(state:TweetState):\n",
    "    if state['evaluation']=='approved' or state['iteration']>=state['max_iteration']:\n",
    "        return 'approved'\n",
    "    else:\n",
    "        return 'needs_improvement'"
   ]
  },
  {
   "cell_type": "code",
   "execution_count": null,
   "id": "895aa59b",
   "metadata": {},
   "outputs": [],
   "source": []
  }
 ],
 "metadata": {
  "kernelspec": {
   "display_name": "langgraph-trial (3.13.5)",
   "language": "python",
   "name": "python3"
  },
  "language_info": {
   "codemirror_mode": {
    "name": "ipython",
    "version": 3
   },
   "file_extension": ".py",
   "mimetype": "text/x-python",
   "name": "python",
   "nbconvert_exporter": "python",
   "pygments_lexer": "ipython3",
   "version": "3.13.5"
  }
 },
 "nbformat": 4,
 "nbformat_minor": 5
}
