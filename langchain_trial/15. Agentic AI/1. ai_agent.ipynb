{
 "cells": [
  {
   "cell_type": "code",
   "execution_count": 1,
   "id": "cf08a67e",
   "metadata": {},
   "outputs": [],
   "source": [
    "import os"
   ]
  },
  {
   "cell_type": "code",
   "execution_count": 2,
   "id": "bdc01222",
   "metadata": {},
   "outputs": [],
   "source": [
    "from langchain_google_vertexai import ChatVertexAI\n",
    "from langchain_core.tools import tool\n",
    "import requests"
   ]
  },
  {
   "cell_type": "code",
   "execution_count": 4,
   "id": "d36c0878",
   "metadata": {},
   "outputs": [
    {
     "name": "stderr",
     "output_type": "stream",
     "text": [
      "c:\\Users\\alok4\\Desktop\\LangChain\\langchain_trial\\.venv\\Lib\\site-packages\\langchain_community\\utilities\\duckduckgo_search.py:63: RuntimeWarning: This package (`duckduckgo_search`) has been renamed to `ddgs`! Use `pip install ddgs` instead.\n",
      "  with DDGS() as ddgs:\n"
     ]
    }
   ],
   "source": [
    "from langchain_community.tools import DuckDuckGoSearchRun\n",
    "search_tool=DuckDuckGoSearchRun()\n",
    "results=search_tool.invoke(\"Top news in India\")"
   ]
  },
  {
   "cell_type": "code",
   "execution_count": 5,
   "id": "468e9965",
   "metadata": {},
   "outputs": [
    {
     "data": {
      "text/plain": [
       "\"Tops - Shop from latest collection of Top Online in India. Get tube, maxi, kaftan, tank, peplum, wrap & more types of women & girls Tops at Myntra Top Brands Browse our complete collection of women's tops, from basic vests and T-shirts for every day to glitzy night-out styles and smart options to wear to work. Discover stunning corset tops for … Our women’s tops cater to all occasions, tastes, styles and silhouettes to ensure there is something for every wardrobe. T-shirts come in long-sleeved, short-sleeved and cropped … Find Tops at Nike.com. Free delivery and returns on select orders. TOP definition: 1. the highest place or part: 2. the flat upper surface of something: 3. in baseball, the first…. Learn more.\""
      ]
     },
     "execution_count": 5,
     "metadata": {},
     "output_type": "execute_result"
    }
   ],
   "source": [
    "results"
   ]
  },
  {
   "cell_type": "code",
   "execution_count": 6,
   "id": "80a730b1",
   "metadata": {},
   "outputs": [],
   "source": [
    "llm=ChatVertexAI(model_name=\"gemini-2.5-pro\")"
   ]
  },
  {
   "cell_type": "code",
   "execution_count": 7,
   "id": "7adcc976",
   "metadata": {},
   "outputs": [
    {
     "data": {
      "text/plain": [
       "AIMessage(content='Hello! How can I help you today?', additional_kwargs={}, response_metadata={'is_blocked': False, 'safety_ratings': [], 'usage_metadata': {'prompt_token_count': 1, 'candidates_token_count': 9, 'total_token_count': 503, 'prompt_tokens_details': [{'modality': 1, 'token_count': 1}], 'candidates_tokens_details': [{'modality': 1, 'token_count': 9}], 'thoughts_token_count': 493, 'cached_content_token_count': 0, 'cache_tokens_details': []}, 'finish_reason': 'STOP', 'avg_logprobs': -10.227149115668404, 'model_name': 'gemini-2.5-pro'}, id='run--b6bd51df-bffb-4c27-b8fd-5f84e8b8501f-0', usage_metadata={'input_tokens': 1, 'output_tokens': 9, 'total_tokens': 503, 'input_token_details': {'cache_read': 0}, 'output_token_details': {'reasoning': 493}})"
      ]
     },
     "execution_count": 7,
     "metadata": {},
     "output_type": "execute_result"
    }
   ],
   "source": [
    "llm.invoke(\"Hi\")"
   ]
  },
  {
   "cell_type": "code",
   "execution_count": 8,
   "id": "f75293dd",
   "metadata": {},
   "outputs": [],
   "source": [
    "from langchain.agents import create_react_agent, AgentExecutor\n",
    "from langchain import hub\n"
   ]
  },
  {
   "cell_type": "code",
   "execution_count": 9,
   "id": "6e80ea18",
   "metadata": {},
   "outputs": [],
   "source": [
    "prompt=hub.pull(\"hwchase17/react\")"
   ]
  },
  {
   "cell_type": "code",
   "execution_count": 13,
   "id": "32b5e445",
   "metadata": {},
   "outputs": [],
   "source": [
    "# Step 3 Create the react agent manually with the pulled prompt\n",
    "agent=create_react_agent(\n",
    "    llm=llm,\n",
    "    tools=[search_tool],\n",
    "    prompt=prompt\n",
    ")"
   ]
  },
  {
   "cell_type": "code",
   "execution_count": 14,
   "id": "c1309054",
   "metadata": {},
   "outputs": [],
   "source": [
    "# Step 4 Wrap it with AgentExecutor\n",
    "agent_executor=AgentExecutor(\n",
    "    agent=agent,tools=[search_tool],\n",
    "    verbose=True\n",
    ")"
   ]
  },
  {
   "cell_type": "code",
   "execution_count": 16,
   "id": "39b69f05",
   "metadata": {},
   "outputs": [
    {
     "name": "stdout",
     "output_type": "stream",
     "text": [
      "\n",
      "\n",
      "\u001b[1m> Entering new AgentExecutor chain...\u001b[0m\n",
      "\u001b[32;1m\u001b[1;3mThought: I need to find three different ways to travel from Delhi to Goa. I will search for flights, trains, and road travel options.\n",
      "Action: duckduckgo_search\n",
      "Action Input: \"how to travel from delhi to goa\"\u001b[0m"
     ]
    },
    {
     "name": "stderr",
     "output_type": "stream",
     "text": [
      "c:\\Users\\alok4\\Desktop\\LangChain\\langchain_trial\\.venv\\Lib\\site-packages\\langchain_community\\utilities\\duckduckgo_search.py:63: RuntimeWarning: This package (`duckduckgo_search`) has been renamed to `ddgs`! Use `pip install ddgs` instead.\n",
      "  with DDGS() as ddgs:\n"
     ]
    },
    {
     "name": "stdout",
     "output_type": "stream",
     "text": [
      "\u001b[36;1m\u001b[1;3mJul 1, 2025 · Delhi to Goa is one of the most popular travel routes in India, connecting the country’s vibrant capital with its most beloved beach destination. Whether you’re planning a vacation, a work trip, or a getaway with friends, it’s important to understand your travel options thoroughly. May 9, 2025 · Looking to escape Delhi and soak up the sun in Goa? This guide explains easy ways to travel from Delhi to Goa by air, train, and road. Find out what to expect on each route, from timing to comfort and cost. There are also tips to save money, spot great views, and avoid mistakes. Sep 25, 2024 · Discover the best ways to travel from Delhi to Goa. Whether by train, air, or road, find the most convenient option for your journey. Feb 18, 2025 · There are direct trains from Delhi to Goa. You can take the Thiruvananthapuram Rajdhani Express. The journey will take you around 25 hours. While most people opt to fly down to Goa, a true traveler will always pick the long way around and head down to Goa by road. 4 days ago · Book Delhi to Goa bus tickets online - Use Coupon MEGABUSSEO and get upto Rs 500 OFF on booking at MMT. Check Delhi to Goa bus ticket prices/fares, routes, timings, distance & other details. 1+ available buses, 1+ Operators from Delhi to Goa.\u001b[0m\u001b[32;1m\u001b[1;3mI now know the final answer\n",
      "Final Answer: Based on the search results, here are three ways to travel from Delhi to Goa:\n",
      "\n",
      "1.  **By Air:** This is the most popular and fastest way to travel between the two destinations. There are numerous direct flights connecting Delhi's Indira Gandhi International Airport (DEL) with Goa's Dabolim Airport (GOI) or Manohar International Airport (GOX).\n",
      "\n",
      "2.  **By Train:** For a more scenic and leisurely journey, you can take a train. There are direct trains from Delhi to Goa, such as the Thiruvananthapuram Rajdhani Express. The journey typically takes around 25 to 30 hours.\n",
      "\n",
      "3.  **By Road:** This option is for the more adventurous traveler and can be done either by car or by bus.\n",
      "    *   **By Car:** A road trip from Delhi to Goa is a long journey, covering over 1,800 kilometers, but allows you to see different parts of the country along the way.\n",
      "    *   **By Bus:** There are also bus services available, offering another alternative for road travel.\u001b[0m\n",
      "\n",
      "\u001b[1m> Finished chain.\u001b[0m\n"
     ]
    }
   ],
   "source": [
    "# Step 5 Invoke\n",
    "response=agent_executor.invoke({'input':\"3 ways to reach goa from delhi\"})"
   ]
  },
  {
   "cell_type": "code",
   "execution_count": 17,
   "id": "3d619484",
   "metadata": {},
   "outputs": [
    {
     "name": "stdout",
     "output_type": "stream",
     "text": [
      "{'input': '3 ways to reach goa from delhi', 'output': \"Based on the search results, here are three ways to travel from Delhi to Goa:\\n\\n1.  **By Air:** This is the most popular and fastest way to travel between the two destinations. There are numerous direct flights connecting Delhi's Indira Gandhi International Airport (DEL) with Goa's Dabolim Airport (GOI) or Manohar International Airport (GOX).\\n\\n2.  **By Train:** For a more scenic and leisurely journey, you can take a train. There are direct trains from Delhi to Goa, such as the Thiruvananthapuram Rajdhani Express. The journey typically takes around 25 to 30 hours.\\n\\n3.  **By Road:** This option is for the more adventurous traveler and can be done either by car or by bus.\\n    *   **By Car:** A road trip from Delhi to Goa is a long journey, covering over 1,800 kilometers, but allows you to see different parts of the country along the way.\\n    *   **By Bus:** There are also bus services available, offering another alternative for road travel.\"}\n"
     ]
    }
   ],
   "source": [
    "print(response)"
   ]
  },
  {
   "cell_type": "code",
   "execution_count": 18,
   "id": "89e84051",
   "metadata": {},
   "outputs": [],
   "source": [
    "# Design patterns in Agentic AI"
   ]
  },
  {
   "cell_type": "code",
   "execution_count": null,
   "id": "65fe6c06",
   "metadata": {},
   "outputs": [],
   "source": []
  }
 ],
 "metadata": {
  "kernelspec": {
   "display_name": "langchain-trial (3.13.5)",
   "language": "python",
   "name": "python3"
  },
  "language_info": {
   "codemirror_mode": {
    "name": "ipython",
    "version": 3
   },
   "file_extension": ".py",
   "mimetype": "text/x-python",
   "name": "python",
   "nbconvert_exporter": "python",
   "pygments_lexer": "ipython3",
   "version": "3.13.5"
  }
 },
 "nbformat": 4,
 "nbformat_minor": 5
}
