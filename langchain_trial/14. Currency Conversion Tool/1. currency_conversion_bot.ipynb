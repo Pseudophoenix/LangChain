{
 "cells": [
  {
   "cell_type": "code",
   "execution_count": 20,
   "id": "d7ce3f7f",
   "metadata": {},
   "outputs": [],
   "source": [
    "import os\n",
    "import requests\n",
    "from langchain_core.tools import tool\n",
    "@tool\n",
    "def get_conversion_factor(base_currency:str, target_currency:str): \n",
    "    \"\"\"\n",
    "    This function fetches the current conversion factor between a given currency and a target currency\n",
    "    \"\"\"\n",
    "    url=f\"https://v6.exchangerate-api.com/v6/{os.getenv('EXCHANGE_API_KEY')}/pair/{base_currency}/{target_currency}\"\n",
    "    response=requests.get(url)\n",
    "    return response.json()\n",
    "\n",
    "@tool\n",
    "def convert(base_currency_value:int, conversion_rate:float)->float:\n",
    "    \"\"\"\n",
    "    Given a currency conversion rate this function calculates the target currency value from a given base currency value\n",
    "    \"\"\"\n",
    "    return base_currency_value*conversion_rate"
   ]
  },
  {
   "cell_type": "code",
   "execution_count": 25,
   "id": "584634ea",
   "metadata": {},
   "outputs": [],
   "source": [
    "conversion_rate=get_conversion_factor.invoke({'base_currency':'USD','target_currency':'INR'})"
   ]
  },
  {
   "cell_type": "code",
   "execution_count": 26,
   "id": "fa05cb7d",
   "metadata": {},
   "outputs": [
    {
     "data": {
      "text/plain": [
       "87.6122"
      ]
     },
     "execution_count": 26,
     "metadata": {},
     "output_type": "execute_result"
    }
   ],
   "source": [
    "conversion_rate['conversion_rate']"
   ]
  },
  {
   "cell_type": "code",
   "execution_count": 31,
   "id": "b4ba3312",
   "metadata": {},
   "outputs": [
    {
     "data": {
      "text/plain": [
       "876.1220000000001"
      ]
     },
     "execution_count": 31,
     "metadata": {},
     "output_type": "execute_result"
    }
   ],
   "source": [
    "convert.invoke({\"base_currency_value\":10,\"conversion_rate\":conversion_rate[\"conversion_rate\"]})"
   ]
  },
  {
   "cell_type": "code",
   "execution_count": 33,
   "id": "058402f6",
   "metadata": {},
   "outputs": [],
   "source": [
    "from langchain_google_vertexai import ChatVertexAI\n",
    "# tool binding\n",
    "llm=ChatVertexAI(model_name=\"gemini-2.5-pro\")"
   ]
  },
  {
   "cell_type": "code",
   "execution_count": 34,
   "id": "a8036a72",
   "metadata": {},
   "outputs": [],
   "source": [
    "llm_with_tools=llm.bind_tools([get_conversion_factor,convert])"
   ]
  },
  {
   "cell_type": "code",
   "execution_count": 35,
   "id": "af0a8319",
   "metadata": {},
   "outputs": [],
   "source": [
    "from langchain_core.messages import HumanMessage, AIMessage, ToolMessage\n",
    "messages=[HumanMessage(\"What is the conversion factor between USD and INR, based on that can you convert 10 USD to INR\")]"
   ]
  },
  {
   "cell_type": "code",
   "execution_count": 36,
   "id": "aca17c66",
   "metadata": {},
   "outputs": [
    {
     "data": {
      "text/plain": [
       "AIMessage(content='', additional_kwargs={'function_call': {'name': 'get_conversion_factor', 'arguments': '{\"target_currency\": \"INR\", \"base_currency\": \"USD\"}'}, '__gemini_function_call_thought_signatures__': {'a0faee8d-4970-4553-9ad3-a992d73cfb6b': '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'}}, response_metadata={'is_blocked': False, 'safety_ratings': [], 'usage_metadata': {'prompt_token_count': 96, 'candidates_token_count': 13, 'total_token_count': 655, 'prompt_tokens_details': [{'modality': 1, 'token_count': 96}], 'candidates_tokens_details': [{'modality': 1, 'token_count': 13}], 'thoughts_token_count': 546, 'cached_content_token_count': 0, 'cache_tokens_details': []}, 'finish_reason': 'STOP', 'avg_logprobs': -5.378595792330229, 'model_name': 'gemini-2.5-pro'}, id='run--482bb591-7c4e-4d0f-be2d-b0e0cd2ed1e7-0', tool_calls=[{'name': 'get_conversion_factor', 'args': {'target_currency': 'INR', 'base_currency': 'USD'}, 'id': 'a0faee8d-4970-4553-9ad3-a992d73cfb6b', 'type': 'tool_call'}], usage_metadata={'input_tokens': 96, 'output_tokens': 13, 'total_tokens': 655, 'input_token_details': {'cache_read': 0}, 'output_token_details': {'reasoning': 546}})"
      ]
     },
     "execution_count": 36,
     "metadata": {},
     "output_type": "execute_result"
    }
   ],
   "source": [
    "llm_with_tools.invoke(messages)"
   ]
  },
  {
   "cell_type": "code",
   "execution_count": null,
   "id": "517ff289",
   "metadata": {},
   "outputs": [],
   "source": []
  }
 ],
 "metadata": {
  "kernelspec": {
   "display_name": "langchain-trial (3.13.5)",
   "language": "python",
   "name": "python3"
  },
  "language_info": {
   "codemirror_mode": {
    "name": "ipython",
    "version": 3
   },
   "file_extension": ".py",
   "mimetype": "text/x-python",
   "name": "python",
   "nbconvert_exporter": "python",
   "pygments_lexer": "ipython3",
   "version": "3.13.5"
  }
 },
 "nbformat": 4,
 "nbformat_minor": 5
}
