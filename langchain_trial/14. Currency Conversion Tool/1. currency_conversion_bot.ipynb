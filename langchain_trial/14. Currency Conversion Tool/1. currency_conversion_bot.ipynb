{
 "cells": [
  {
   "cell_type": "code",
   "execution_count": 97,
   "id": "d7ce3f7f",
   "metadata": {},
   "outputs": [],
   "source": [
    "import os\n",
    "import requests\n",
    "from langchain_core.tools import tool\n",
    "from langchain_core.tools import  InjectedToolArg\n",
    "from typing import Annotated\n",
    "@tool\n",
    "def get_conversion_factor(base_currency:str, target_currency:str): \n",
    "    \"\"\"\n",
    "    This function fetches the current conversion factor between a given currency and a target currency\n",
    "    \"\"\"\n",
    "    url=f\"https://v6.exchangerate-api.com/v6/{os.getenv('EXCHANGE_API_KEY')}/pair/{base_currency}/{target_currency}\"\n",
    "    response=requests.get(url)\n",
    "    return response.json()\n",
    "\n",
    "@tool\n",
    "def convertA(base_currency_value:int, conversion_rate:Annotated[float,InjectedToolArg])->float:\n",
    "    \"\"\"\n",
    "    Given a currency conversion rate this function calculates the target currency value from a given base currency value\n",
    "    \"\"\"\n",
    "    return base_currency_value*conversion_rate"
   ]
  },
  {
   "cell_type": "code",
   "execution_count": 98,
   "id": "584634ea",
   "metadata": {},
   "outputs": [],
   "source": [
    "conversion_rate=get_conversion_factor.invoke({'base_currency':'USD','target_currency':'INR'})"
   ]
  },
  {
   "cell_type": "code",
   "execution_count": 99,
   "id": "fa05cb7d",
   "metadata": {},
   "outputs": [
    {
     "data": {
      "text/plain": [
       "87.6122"
      ]
     },
     "execution_count": 99,
     "metadata": {},
     "output_type": "execute_result"
    }
   ],
   "source": [
    "conversion_rate['conversion_rate']"
   ]
  },
  {
   "cell_type": "code",
   "execution_count": 100,
   "id": "b4ba3312",
   "metadata": {},
   "outputs": [
    {
     "data": {
      "text/plain": [
       "876.1220000000001"
      ]
     },
     "execution_count": 100,
     "metadata": {},
     "output_type": "execute_result"
    }
   ],
   "source": [
    "convertA.invoke({\"base_currency_value\":10,\"conversion_rate\":conversion_rate[\"conversion_rate\"]})"
   ]
  },
  {
   "cell_type": "code",
   "execution_count": 101,
   "id": "058402f6",
   "metadata": {},
   "outputs": [],
   "source": [
    "from langchain_google_vertexai import ChatVertexAI\n",
    "# tool binding\n",
    "llm=ChatVertexAI(model_name=\"gemini-2.5-pro\")"
   ]
  },
  {
   "cell_type": "code",
   "execution_count": 102,
   "id": "a8036a72",
   "metadata": {},
   "outputs": [],
   "source": [
    "llm_with_tools=llm.bind_tools([get_conversion_factor,convertA])"
   ]
  },
  {
   "cell_type": "code",
   "execution_count": 122,
   "id": "af0a8319",
   "metadata": {},
   "outputs": [],
   "source": [
    "from langchain_core.messages import HumanMessage, AIMessage, ToolMessage\n",
    "messages=[HumanMessage(\"Convert 10 USD to INR\")]"
   ]
  },
  {
   "cell_type": "code",
   "execution_count": 123,
   "id": "d135da2d",
   "metadata": {},
   "outputs": [
    {
     "data": {
      "text/plain": [
       "AIMessage(content='', additional_kwargs={'function_call': {'name': 'get_conversion_factor', 'arguments': '{\"target_currency\": \"INR\", \"base_currency\": \"USD\"}'}, '__gemini_function_call_thought_signatures__': {'01b008e7-651f-4d0c-8f60-f14b4b89ca06': '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'}}, response_metadata={'is_blocked': False, 'safety_ratings': [], 'usage_metadata': {'prompt_token_count': 75, 'candidates_token_count': 13, 'total_token_count': 701, 'prompt_tokens_details': [{'modality': 1, 'token_count': 75}], 'candidates_tokens_details': [{'modality': 1, 'token_count': 13}], 'thoughts_token_count': 613, 'cached_content_token_count': 0, 'cache_tokens_details': []}, 'finish_reason': 'STOP', 'avg_logprobs': -4.6986697270320015, 'model_name': 'gemini-2.5-pro'}, id='run--80ae091a-e58e-418f-b0fd-5c7619f61742-0', tool_calls=[{'name': 'get_conversion_factor', 'args': {'target_currency': 'INR', 'base_currency': 'USD'}, 'id': '01b008e7-651f-4d0c-8f60-f14b4b89ca06', 'type': 'tool_call'}], usage_metadata={'input_tokens': 75, 'output_tokens': 13, 'total_tokens': 701, 'input_token_details': {'cache_read': 0}, 'output_token_details': {'reasoning': 613}})"
      ]
     },
     "execution_count": 123,
     "metadata": {},
     "output_type": "execute_result"
    }
   ],
   "source": [
    "llm_with_tools.invoke(messages)"
   ]
  },
  {
   "cell_type": "code",
   "execution_count": 124,
   "id": "aca17c66",
   "metadata": {},
   "outputs": [],
   "source": [
    "ai_message=llm_with_tools.invoke(messages)"
   ]
  },
  {
   "cell_type": "code",
   "execution_count": 125,
   "id": "454d8ded",
   "metadata": {},
   "outputs": [
    {
     "data": {
      "text/plain": [
       "AIMessage(content='', additional_kwargs={'function_call': {'name': 'get_conversion_factor', 'arguments': '{\"target_currency\": \"INR\", \"base_currency\": \"USD\"}'}, '__gemini_function_call_thought_signatures__': {'5d0ef7be-f590-4045-a2b8-a6cc8cee90a4': 'CpcJAcu98PAdUFYM/3T+ThGtqPHX2utEAZnBzGqKLo1wlHKGEVEjJcRZaGWbf48Ybkiz3ZGUP5Cl0eE45AzjRL/XI8s1+i6yQL2FCdMKtjSdS1lWveDIYEY2gaLzyZm+hvxZyB0VRcCZNSCGZlHCi04EiCbSRyUKdz3D9njEWiM1VUe9XibDsDzBp1ser7eiG6CkGzj4NpM5Z7g32gKWbR7KL5J3/2cGdzmC5T+BIYBD6MTHJW0PvHpE7XSiru2MenI1d79KFmeNyAySAcYZvtt56x+qBrx5W0T1sZsj23YpXvQLkr0tsyI/JT04qhWSBZM6PwyihhZpQmx6+Sh9rJw33JyLKFP7LsguCrhMblnNpdXE6AUrZ3YP65qA7qRE7dl52iuj8H+8Zi9Hco7FNHKJ5VR7psBF1rmAw8mMAAt/EjMPuFP1kgD928WHRmD/DZkw93JWr54XDDF2YJUhuH/WytHVQMeD+zr4IjeJjS0AcN1ZidYs/5pYFvb5FI4p+eKBQwbh4EDO21JGZuxKCimwoPWZxPZXTd/Zpv/e0NQH7IUPGgn2YQHzBSdvTmO/MmF/7Fnm9dkrfUVP1uLvOnM787sHgITv461OkTchc0SW6COkY57+WUBtyJ6ScAeHQYTWYV3T1LJy9s4GrEd5kg9swz1lRywOYnOUfdLqU2D6MRUQH/z0YB5tttqAFxKgBl3Kgkmf+rIG6k7ODK/5dXHYBhschOWi3ZHEP9JcwgUIq2IpO/pCd2V68EqzgEkhob+xmDevKyAnqFY+ichPtM/tPTMJwVHf4UbkPU8k3IqAsOtlSnU9isNIsPkfbJWeTdagmStYVb8fL3PDrNW7tinECQD8HGltmRoV/0j0I5HLK4pVTSDkMptuEhwBs3D/9ixBQ0jMpCleyPzg7XpluQmd7rMgptYWYDDATqhacAFWTeQonAC1RcWDR4MVhOC+BPR3B2Jxqz/QIFv+ZH/NRrqBN+D1QhDwT8U5dbHvJxYRUSwOzrtWqbofbQ+1TilEp4fkZRzYMCSv7YCoj44v1pTIBkpLnRWfg4peIxXOqCUE53Ss0F9OHb4xGb5vy3ehCDAJRad5mQ4o73dYRUNRTFPUY6jpAzIWPMt4lriBpvwBO6cwO/lb+TzkMLZHmQ2kySM+/SfmqWn3gbRJ7JZL/MnNNFizxq0jjYMhTHNitO7kCkZA57peYM3Xrt+nE6a8O02k2FwPmnN+QZ2i+cUE9wRul2eA71+KR8FXykBxOU88CZ9tJvoMIvfy2f+NCRcHs0xZEq7A+vRMf4O2SJ55yRXpUUX4dcEtdk9tpZEFst92qRJHqFzfn8mFrtyAQA1J3WNAxlutswpgDjTsUiErGU66y/sTgejjQZGCB3WSpn5FOAQ1yDj3IJak/00V8FDTdvfOYFaIGrrHlqc4G9ifeZHvDlZg4lwBTuampRk+oYdamX/6frhZHNkQ4V3zA2IVZkset8QCVqoQwuyg14zwJjbGZGqcwVikIICTsHbnC5pxm+YhHjFSpsLW0JlJF3m25Ys0LWnt+7B3+xJ8zwu8AEKnCHYD402Z/kI='}}, response_metadata={'is_blocked': False, 'safety_ratings': [], 'usage_metadata': {'prompt_token_count': 75, 'candidates_token_count': 13, 'total_token_count': 364, 'prompt_tokens_details': [{'modality': 1, 'token_count': 75}], 'candidates_tokens_details': [{'modality': 1, 'token_count': 13}], 'thoughts_token_count': 276, 'cached_content_token_count': 0, 'cache_tokens_details': []}, 'finish_reason': 'STOP', 'avg_logprobs': -1.6515775827261119, 'model_name': 'gemini-2.5-pro'}, id='run--951d4c86-61c4-478a-88ff-e5a6b8e09a22-0', tool_calls=[{'name': 'get_conversion_factor', 'args': {'target_currency': 'INR', 'base_currency': 'USD'}, 'id': '5d0ef7be-f590-4045-a2b8-a6cc8cee90a4', 'type': 'tool_call'}], usage_metadata={'input_tokens': 75, 'output_tokens': 13, 'total_tokens': 364, 'input_token_details': {'cache_read': 0}, 'output_token_details': {'reasoning': 276}})"
      ]
     },
     "execution_count": 125,
     "metadata": {},
     "output_type": "execute_result"
    }
   ],
   "source": [
    "ai_message"
   ]
  },
  {
   "cell_type": "code",
   "execution_count": 126,
   "id": "517ff289",
   "metadata": {},
   "outputs": [
    {
     "data": {
      "text/plain": [
       "[{'name': 'get_conversion_factor',\n",
       "  'args': {'target_currency': 'INR', 'base_currency': 'USD'},\n",
       "  'id': '5d0ef7be-f590-4045-a2b8-a6cc8cee90a4',\n",
       "  'type': 'tool_call'}]"
      ]
     },
     "execution_count": 126,
     "metadata": {},
     "output_type": "execute_result"
    }
   ],
   "source": [
    "ai_message.tool_calls"
   ]
  },
  {
   "cell_type": "markdown",
   "id": "574f6610",
   "metadata": {},
   "source": [
    "### Injected tool arguement"
   ]
  },
  {
   "attachments": {
    "image.png": {
     "image/png": "[encoded data removed]"
    }
   },
   "cell_type": "markdown",
   "id": "57de5852",
   "metadata": {},
   "source": [
    "![image.png](attachment:image.png)"
   ]
  },
  {
   "cell_type": "code",
   "execution_count": 128,
   "id": "305a62dd",
   "metadata": {},
   "outputs": [
    {
     "name": "stdout",
     "output_type": "stream",
     "text": [
      "content='{\"result\": \"success\", \"documentation\": \"https://www.exchangerate-api.com/docs\", \"terms_of_use\": \"https://www.exchangerate-api.com/terms\", \"time_last_update_unix\": 1754697601, \"time_last_update_utc\": \"Sat, 09 Aug 2025 00:00:01 +0000\", \"time_next_update_unix\": 1754784001, \"time_next_update_utc\": \"Sun, 10 Aug 2025 00:00:01 +0000\", \"base_code\": \"USD\", \"target_code\": \"INR\", \"conversion_rate\": 87.6122}' name='get_conversion_factor' tool_call_id='5d0ef7be-f590-4045-a2b8-a6cc8cee90a4'\n",
      "{'name': 'get_conversion_factor', 'args': {'target_currency': 'INR', 'base_currency': 'USD'}, 'id': '5d0ef7be-f590-4045-a2b8-a6cc8cee90a4', 'type': 'tool_call'}\n",
      "87.6122\n"
     ]
    }
   ],
   "source": [
    "import json\n",
    "for tool_call in ai_message.tool_calls:\n",
    "    # execute the 1st tool and get the value of conversion rate\n",
    "    # execute the 2nd tool using the conversion rate from tool 1\n",
    "    if tool_call['name']=='get_conversion_factor':\n",
    "        tool_message1=get_conversion_factor.invoke(tool_call)\n",
    "        print(tool_message1)\n",
    "        print(tool_call)\n",
    "    # fetch this conversion rate\n",
    "        print(json.loads(tool_message1.content)['conversion_rate'])\n",
    "        messages.append(tool_message1)"
   ]
  },
  {
   "cell_type": "code",
   "execution_count": null,
   "id": "50d95d84",
   "metadata": {},
   "outputs": [],
   "source": []
  }
 ],
 "metadata": {
  "kernelspec": {
   "display_name": "langchain-trial (3.13.5)",
   "language": "python",
   "name": "python3"
  },
  "language_info": {
   "codemirror_mode": {
    "name": "ipython",
    "version": 3
   },
   "file_extension": ".py",
   "mimetype": "text/x-python",
   "name": "python",
   "nbconvert_exporter": "python",
   "pygments_lexer": "ipython3",
   "version": "3.13.5"
  }
 },
 "nbformat": 4,
 "nbformat_minor": 5
}
