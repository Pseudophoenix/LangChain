{
 "cells": [
  {
   "cell_type": "code",
   "execution_count": 260,
   "id": "d7ce3f7f",
   "metadata": {},
   "outputs": [],
   "source": [
    "import os\n",
    "import requests\n",
    "from langchain_core.tools import tool\n",
    "from langchain_core.tools import  InjectedToolArg\n",
    "from typing import Annotated\n",
    "@tool\n",
    "def get_conversion_factor(base_currency:str, target_currency:str): \n",
    "    \"\"\"\n",
    "    This function fetches the current conversion factor between a given currency and a target currency\n",
    "    \"\"\"\n",
    "    url=f\"https://v6.exchangerate-api.com/v6/{os.getenv('EXCHANGE_API_KEY')}/pair/{base_currency}/{target_currency}\"\n",
    "    response=requests.get(url)\n",
    "    return response.json()\n",
    "\n",
    "@tool\n",
    "def convert(base_currency_value:int, conversion_rate:Annotated[float,InjectedToolArg])->float:\n",
    "    \"\"\"\n",
    "    This function calculates the target currency value from a given base currency value and conversion rate\n",
    "    \"\"\"\n",
    "    return base_currency_value*conversion_rate"
   ]
  },
  {
   "cell_type": "code",
   "execution_count": 261,
   "id": "584634ea",
   "metadata": {},
   "outputs": [],
   "source": [
    "conversion_rate=get_conversion_factor.invoke({'base_currency':'USD','target_currency':'INR'})"
   ]
  },
  {
   "cell_type": "code",
   "execution_count": 262,
   "id": "fa05cb7d",
   "metadata": {},
   "outputs": [
    {
     "data": {
      "text/plain": [
       "87.6122"
      ]
     },
     "execution_count": 262,
     "metadata": {},
     "output_type": "execute_result"
    }
   ],
   "source": [
    "conversion_rate['conversion_rate']"
   ]
  },
  {
   "cell_type": "code",
   "execution_count": 263,
   "id": "b4ba3312",
   "metadata": {},
   "outputs": [
    {
     "data": {
      "text/plain": [
       "876.1220000000001"
      ]
     },
     "execution_count": 263,
     "metadata": {},
     "output_type": "execute_result"
    }
   ],
   "source": [
    "convert.invoke({\"base_currency_value\":10,\"conversion_rate\":conversion_rate[\"conversion_rate\"]})"
   ]
  },
  {
   "cell_type": "code",
   "execution_count": 264,
   "id": "058402f6",
   "metadata": {},
   "outputs": [],
   "source": [
    "from langchain_google_vertexai import ChatVertexAI\n",
    "# tool binding\n",
    "llm=ChatVertexAI(model_name=\"gemini-2.5-pro\")"
   ]
  },
  {
   "cell_type": "code",
   "execution_count": 265,
   "id": "a8036a72",
   "metadata": {},
   "outputs": [],
   "source": [
    "llm_with_tools=llm.bind_tools([get_conversion_factor,convert])"
   ]
  },
  {
   "cell_type": "code",
   "execution_count": 266,
   "id": "af0a8319",
   "metadata": {},
   "outputs": [],
   "source": [
    "from langchain_core.messages import HumanMessage, AIMessage, ToolMessage\n",
    "messages=[HumanMessage(\"What is the conversion factor for converting INR to USD? Convert 10 INR to USD\")]"
   ]
  },
  {
   "cell_type": "code",
   "execution_count": 267,
   "id": "d135da2d",
   "metadata": {},
   "outputs": [
    {
     "data": {
      "text/plain": [
       "AIMessage(content='I can convert 10 INR to USD, but I need to know what is the conversion rate. What is the conversion rate?', additional_kwargs={}, response_metadata={'is_blocked': False, 'safety_ratings': [], 'usage_metadata': {'prompt_token_count': 83, 'candidates_token_count': 27, 'total_token_count': 630, 'prompt_tokens_details': [{'modality': 1, 'token_count': 83}], 'candidates_tokens_details': [{'modality': 1, 'token_count': 27}], 'thoughts_token_count': 520, 'cached_content_token_count': 0, 'cache_tokens_details': []}, 'finish_reason': 'STOP', 'avg_logprobs': -1.8283524689850983, 'model_name': 'gemini-2.5-pro'}, id='run--455ce014-17a5-4368-a11a-c8e58ba9d878-0', usage_metadata={'input_tokens': 83, 'output_tokens': 27, 'total_tokens': 630, 'input_token_details': {'cache_read': 0}, 'output_token_details': {'reasoning': 520}})"
      ]
     },
     "execution_count": 267,
     "metadata": {},
     "output_type": "execute_result"
    }
   ],
   "source": [
    "llm_with_tools.invoke(messages)"
   ]
  },
  {
   "cell_type": "code",
   "execution_count": 268,
   "id": "aca17c66",
   "metadata": {},
   "outputs": [],
   "source": [
    "ai_message=llm_with_tools.invoke(messages)"
   ]
  },
  {
   "cell_type": "code",
   "execution_count": 269,
   "id": "89319db3",
   "metadata": {},
   "outputs": [],
   "source": [
    "messages.append(ai_message)"
   ]
  },
  {
   "cell_type": "code",
   "execution_count": 270,
   "id": "454d8ded",
   "metadata": {},
   "outputs": [
    {
     "data": {
      "text/plain": [
       "AIMessage(content='', additional_kwargs={'function_call': {'name': 'convert', 'arguments': '{\"base_currency_value\": 10.0}'}, '__gemini_function_call_thought_signatures__': {'215d86cd-d46b-418d-a9bd-83f85f4c5851': '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'}}, response_metadata={'is_blocked': False, 'safety_ratings': [], 'usage_metadata': {'prompt_token_count': 83, 'candidates_token_count': 20, 'total_token_count': 869, 'prompt_tokens_details': [{'modality': 1, 'token_count': 83}], 'candidates_tokens_details': [{'modality': 1, 'token_count': 20}], 'thoughts_token_count': 766, 'cached_content_token_count': 0, 'cache_tokens_details': []}, 'finish_reason': 'STOP', 'avg_logprobs': -4.069376754760742, 'model_name': 'gemini-2.5-pro'}, id='run--5edc5ef0-1097-47f0-bacb-7f5890050529-0', tool_calls=[{'name': 'get_conversion_factor', 'args': {'target_currency': 'USD', 'base_currency': 'INR'}, 'id': '215d86cd-d46b-418d-a9bd-83f85f4c5851', 'type': 'tool_call'}, {'name': 'convert', 'args': {'base_currency_value': 10.0}, 'id': 'b4c85c59-76ad-4aca-807e-5b0a8f9f6548', 'type': 'tool_call'}], usage_metadata={'input_tokens': 83, 'output_tokens': 20, 'total_tokens': 869, 'input_token_details': {'cache_read': 0}, 'output_token_details': {'reasoning': 766}})"
      ]
     },
     "execution_count": 270,
     "metadata": {},
     "output_type": "execute_result"
    }
   ],
   "source": [
    "ai_message"
   ]
  },
  {
   "cell_type": "code",
   "execution_count": 271,
   "id": "517ff289",
   "metadata": {},
   "outputs": [
    {
     "data": {
      "text/plain": [
       "[{'name': 'get_conversion_factor',\n",
       "  'args': {'target_currency': 'USD', 'base_currency': 'INR'},\n",
       "  'id': '215d86cd-d46b-418d-a9bd-83f85f4c5851',\n",
       "  'type': 'tool_call'},\n",
       " {'name': 'convert',\n",
       "  'args': {'base_currency_value': 10.0},\n",
       "  'id': 'b4c85c59-76ad-4aca-807e-5b0a8f9f6548',\n",
       "  'type': 'tool_call'}]"
      ]
     },
     "execution_count": 271,
     "metadata": {},
     "output_type": "execute_result"
    }
   ],
   "source": [
    "ai_message.tool_calls"
   ]
  },
  {
   "cell_type": "markdown",
   "id": "574f6610",
   "metadata": {},
   "source": [
    "### Injected tool arguement"
   ]
  },
  {
   "attachments": {
    "image.png": {
     "image/png": "[encoded data removed]"
    }
   },
   "cell_type": "markdown",
   "id": "57de5852",
   "metadata": {},
   "source": [
    "![image.png](attachment:image.png)"
   ]
  },
  {
   "cell_type": "code",
   "execution_count": null,
   "id": "305a62dd",
   "metadata": {},
   "outputs": [
    {
     "name": "stdout",
     "output_type": "stream",
     "text": [
      "content='{\"result\": \"success\", \"documentation\": \"https://www.exchangerate-api.com/docs\", \"terms_of_use\": \"https://www.exchangerate-api.com/terms\", \"time_last_update_unix\": 1754697601, \"time_last_update_utc\": \"Sat, 09 Aug 2025 00:00:01 +0000\", \"time_next_update_unix\": 1754784001, \"time_next_update_utc\": \"Sun, 10 Aug 2025 00:00:01 +0000\", \"base_code\": \"INR\", \"target_code\": \"USD\", \"conversion_rate\": 0.01141}' name='get_conversion_factor' tool_call_id='215d86cd-d46b-418d-a9bd-83f85f4c5851'\n",
      "{'name': 'get_conversion_factor', 'args': {'target_currency': 'USD', 'base_currency': 'INR'}, 'id': '215d86cd-d46b-418d-a9bd-83f85f4c5851', 'type': 'tool_call'}\n",
      "0.01141\n",
      "876.1220000000001\n"
     ]
    }
   ],
   "source": [
    "import json\n",
    "for tool_call in ai_message.tool_calls:\n",
    "    # execute the 1st tool and get the value of conversion rate\n",
    "    # execute the 2nd tool using the conversion rate from tool 1\n",
    "    if tool_call['name']=='get_conversion_factor':\n",
    "        tool_message1=get_conversion_factor.invoke(tool_call)\n",
    "        print(tool_message1)\n",
    "        print(tool_call)\n",
    "    # fetch this conversion rate\n",
    "        print(json.loads(tool_message1.content)['conversion_rate'])\n",
    "        messages.append(tool_message1)\n",
    "    elif tool_call['name']=='convert':\n",
    "        # fetch the current arguement\n",
    "        tool_call['args']['conversion_rate']=conversion_rate['conversion_rate']\n",
    "        # print(tool_call)\n",
    "        tool_message2=convert.invoke(tool_call['args'])\n",
    "        # print(tool_message2)\n",
    "        messages.append(tool_message2)"
   ]
  },
  {
   "cell_type": "code",
   "execution_count": 273,
   "id": "50d95d84",
   "metadata": {},
   "outputs": [
    {
     "data": {
      "text/plain": [
       "[HumanMessage(content='What is the conversion factor for converting INR to USD? Convert 10 INR to USD', additional_kwargs={}, response_metadata={}),\n",
       " AIMessage(content='', additional_kwargs={'function_call': {'name': 'convert', 'arguments': '{\"base_currency_value\": 10.0}'}, '__gemini_function_call_thought_signatures__': {'215d86cd-d46b-418d-a9bd-83f85f4c5851': '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'}}, response_metadata={'is_blocked': False, 'safety_ratings': [], 'usage_metadata': {'prompt_token_count': 83, 'candidates_token_count': 20, 'total_token_count': 869, 'prompt_tokens_details': [{'modality': 1, 'token_count': 83}], 'candidates_tokens_details': [{'modality': 1, 'token_count': 20}], 'thoughts_token_count': 766, 'cached_content_token_count': 0, 'cache_tokens_details': []}, 'finish_reason': 'STOP', 'avg_logprobs': -4.069376754760742, 'model_name': 'gemini-2.5-pro'}, id='run--5edc5ef0-1097-47f0-bacb-7f5890050529-0', tool_calls=[{'name': 'get_conversion_factor', 'args': {'target_currency': 'USD', 'base_currency': 'INR'}, 'id': '215d86cd-d46b-418d-a9bd-83f85f4c5851', 'type': 'tool_call'}, {'name': 'convert', 'args': {'base_currency_value': 10.0, 'conversion_rate': 87.6122}, 'id': 'b4c85c59-76ad-4aca-807e-5b0a8f9f6548', 'type': 'tool_call'}], usage_metadata={'input_tokens': 83, 'output_tokens': 20, 'total_tokens': 869, 'input_token_details': {'cache_read': 0}, 'output_token_details': {'reasoning': 766}}),\n",
       " ToolMessage(content='{\"result\": \"success\", \"documentation\": \"https://www.exchangerate-api.com/docs\", \"terms_of_use\": \"https://www.exchangerate-api.com/terms\", \"time_last_update_unix\": 1754697601, \"time_last_update_utc\": \"Sat, 09 Aug 2025 00:00:01 +0000\", \"time_next_update_unix\": 1754784001, \"time_next_update_utc\": \"Sun, 10 Aug 2025 00:00:01 +0000\", \"base_code\": \"INR\", \"target_code\": \"USD\", \"conversion_rate\": 0.01141}', name='get_conversion_factor', tool_call_id='215d86cd-d46b-418d-a9bd-83f85f4c5851'),\n",
       " 876.1220000000001]"
      ]
     },
     "execution_count": 273,
     "metadata": {},
     "output_type": "execute_result"
    }
   ],
   "source": [
    "messages"
   ]
  },
  {
   "cell_type": "code",
   "execution_count": 274,
   "id": "dca8a69e",
   "metadata": {},
   "outputs": [
    {
     "ename": "NotImplementedError",
     "evalue": "Unsupported message type: <class 'float'>\nFor troubleshooting, visit: https://python.langchain.com/docs/troubleshooting/errors/MESSAGE_COERCION_FAILURE ",
     "output_type": "error",
     "traceback": [
      "\u001b[31m---------------------------------------------------------------------------\u001b[39m",
      "\u001b[31mNotImplementedError\u001b[39m                       Traceback (most recent call last)",
      "\u001b[36mCell\u001b[39m\u001b[36m \u001b[39m\u001b[32mIn[274]\u001b[39m\u001b[32m, line 1\u001b[39m\n\u001b[32m----> \u001b[39m\u001b[32m1\u001b[39m \u001b[43mllm_with_tools\u001b[49m\u001b[43m.\u001b[49m\u001b[43minvoke\u001b[49m\u001b[43m(\u001b[49m\u001b[43mmessages\u001b[49m\u001b[43m)\u001b[49m.content\n",
      "\u001b[36mFile \u001b[39m\u001b[32mc:\\Users\\alok4\\Desktop\\LangChain\\langchain_trial\\.venv\\Lib\\site-packages\\langchain_core\\runnables\\base.py:5434\u001b[39m, in \u001b[36mRunnableBindingBase.invoke\u001b[39m\u001b[34m(self, input, config, **kwargs)\u001b[39m\n\u001b[32m   5427\u001b[39m \u001b[38;5;129m@override\u001b[39m\n\u001b[32m   5428\u001b[39m \u001b[38;5;28;01mdef\u001b[39;00m\u001b[38;5;250m \u001b[39m\u001b[34minvoke\u001b[39m(\n\u001b[32m   5429\u001b[39m     \u001b[38;5;28mself\u001b[39m,\n\u001b[32m   (...)\u001b[39m\u001b[32m   5432\u001b[39m     **kwargs: Optional[Any],\n\u001b[32m   5433\u001b[39m ) -> Output:\n\u001b[32m-> \u001b[39m\u001b[32m5434\u001b[39m     \u001b[38;5;28;01mreturn\u001b[39;00m \u001b[38;5;28;43mself\u001b[39;49m\u001b[43m.\u001b[49m\u001b[43mbound\u001b[49m\u001b[43m.\u001b[49m\u001b[43minvoke\u001b[49m\u001b[43m(\u001b[49m\n\u001b[32m   5435\u001b[39m \u001b[43m        \u001b[49m\u001b[38;5;28;43minput\u001b[39;49m\u001b[43m,\u001b[49m\n\u001b[32m   5436\u001b[39m \u001b[43m        \u001b[49m\u001b[38;5;28;43mself\u001b[39;49m\u001b[43m.\u001b[49m\u001b[43m_merge_configs\u001b[49m\u001b[43m(\u001b[49m\u001b[43mconfig\u001b[49m\u001b[43m)\u001b[49m\u001b[43m,\u001b[49m\n\u001b[32m   5437\u001b[39m \u001b[43m        \u001b[49m\u001b[43m*\u001b[49m\u001b[43m*\u001b[49m\u001b[43m{\u001b[49m\u001b[43m*\u001b[49m\u001b[43m*\u001b[49m\u001b[38;5;28;43mself\u001b[39;49m\u001b[43m.\u001b[49m\u001b[43mkwargs\u001b[49m\u001b[43m,\u001b[49m\u001b[43m \u001b[49m\u001b[43m*\u001b[49m\u001b[43m*\u001b[49m\u001b[43mkwargs\u001b[49m\u001b[43m}\u001b[49m\u001b[43m,\u001b[49m\n\u001b[32m   5438\u001b[39m \u001b[43m    \u001b[49m\u001b[43m)\u001b[49m\n",
      "\u001b[36mFile \u001b[39m\u001b[32mc:\\Users\\alok4\\Desktop\\LangChain\\langchain_trial\\.venv\\Lib\\site-packages\\langchain_core\\language_models\\chat_models.py:396\u001b[39m, in \u001b[36mBaseChatModel.invoke\u001b[39m\u001b[34m(self, input, config, stop, **kwargs)\u001b[39m\n\u001b[32m    383\u001b[39m \u001b[38;5;129m@override\u001b[39m\n\u001b[32m    384\u001b[39m \u001b[38;5;28;01mdef\u001b[39;00m\u001b[38;5;250m \u001b[39m\u001b[34minvoke\u001b[39m(\n\u001b[32m    385\u001b[39m     \u001b[38;5;28mself\u001b[39m,\n\u001b[32m   (...)\u001b[39m\u001b[32m    390\u001b[39m     **kwargs: Any,\n\u001b[32m    391\u001b[39m ) -> BaseMessage:\n\u001b[32m    392\u001b[39m     config = ensure_config(config)\n\u001b[32m    393\u001b[39m     \u001b[38;5;28;01mreturn\u001b[39;00m cast(\n\u001b[32m    394\u001b[39m         \u001b[33m\"\u001b[39m\u001b[33mChatGeneration\u001b[39m\u001b[33m\"\u001b[39m,\n\u001b[32m    395\u001b[39m         \u001b[38;5;28mself\u001b[39m.generate_prompt(\n\u001b[32m--> \u001b[39m\u001b[32m396\u001b[39m             [\u001b[38;5;28;43mself\u001b[39;49m\u001b[43m.\u001b[49m\u001b[43m_convert_input\u001b[49m\u001b[43m(\u001b[49m\u001b[38;5;28;43minput\u001b[39;49m\u001b[43m)\u001b[49m],\n\u001b[32m    397\u001b[39m             stop=stop,\n\u001b[32m    398\u001b[39m             callbacks=config.get(\u001b[33m\"\u001b[39m\u001b[33mcallbacks\u001b[39m\u001b[33m\"\u001b[39m),\n\u001b[32m    399\u001b[39m             tags=config.get(\u001b[33m\"\u001b[39m\u001b[33mtags\u001b[39m\u001b[33m\"\u001b[39m),\n\u001b[32m    400\u001b[39m             metadata=config.get(\u001b[33m\"\u001b[39m\u001b[33mmetadata\u001b[39m\u001b[33m\"\u001b[39m),\n\u001b[32m    401\u001b[39m             run_name=config.get(\u001b[33m\"\u001b[39m\u001b[33mrun_name\u001b[39m\u001b[33m\"\u001b[39m),\n\u001b[32m    402\u001b[39m             run_id=config.pop(\u001b[33m\"\u001b[39m\u001b[33mrun_id\u001b[39m\u001b[33m\"\u001b[39m, \u001b[38;5;28;01mNone\u001b[39;00m),\n\u001b[32m    403\u001b[39m             **kwargs,\n\u001b[32m    404\u001b[39m         ).generations[\u001b[32m0\u001b[39m][\u001b[32m0\u001b[39m],\n\u001b[32m    405\u001b[39m     ).message\n",
      "\u001b[36mFile \u001b[39m\u001b[32mc:\\Users\\alok4\\Desktop\\LangChain\\langchain_trial\\.venv\\Lib\\site-packages\\langchain_core\\language_models\\chat_models.py:376\u001b[39m, in \u001b[36mBaseChatModel._convert_input\u001b[39m\u001b[34m(self, model_input)\u001b[39m\n\u001b[32m    374\u001b[39m     \u001b[38;5;28;01mreturn\u001b[39;00m StringPromptValue(text=model_input)\n\u001b[32m    375\u001b[39m \u001b[38;5;28;01mif\u001b[39;00m \u001b[38;5;28misinstance\u001b[39m(model_input, Sequence):\n\u001b[32m--> \u001b[39m\u001b[32m376\u001b[39m     \u001b[38;5;28;01mreturn\u001b[39;00m ChatPromptValue(messages=\u001b[43mconvert_to_messages\u001b[49m\u001b[43m(\u001b[49m\u001b[43mmodel_input\u001b[49m\u001b[43m)\u001b[49m)\n\u001b[32m    377\u001b[39m msg = (\n\u001b[32m    378\u001b[39m     \u001b[33mf\u001b[39m\u001b[33m\"\u001b[39m\u001b[33mInvalid input type \u001b[39m\u001b[38;5;132;01m{\u001b[39;00m\u001b[38;5;28mtype\u001b[39m(model_input)\u001b[38;5;132;01m}\u001b[39;00m\u001b[33m. \u001b[39m\u001b[33m\"\u001b[39m\n\u001b[32m    379\u001b[39m     \u001b[33m\"\u001b[39m\u001b[33mMust be a PromptValue, str, or list of BaseMessages.\u001b[39m\u001b[33m\"\u001b[39m\n\u001b[32m    380\u001b[39m )\n\u001b[32m    381\u001b[39m \u001b[38;5;28;01mraise\u001b[39;00m \u001b[38;5;167;01mValueError\u001b[39;00m(msg)\n",
      "\u001b[36mFile \u001b[39m\u001b[32mc:\\Users\\alok4\\Desktop\\LangChain\\langchain_trial\\.venv\\Lib\\site-packages\\langchain_core\\messages\\utils.py:367\u001b[39m, in \u001b[36mconvert_to_messages\u001b[39m\u001b[34m(messages)\u001b[39m\n\u001b[32m    365\u001b[39m \u001b[38;5;28;01mif\u001b[39;00m \u001b[38;5;28misinstance\u001b[39m(messages, PromptValue):\n\u001b[32m    366\u001b[39m     \u001b[38;5;28;01mreturn\u001b[39;00m messages.to_messages()\n\u001b[32m--> \u001b[39m\u001b[32m367\u001b[39m \u001b[38;5;28;01mreturn\u001b[39;00m [\u001b[43m_convert_to_message\u001b[49m\u001b[43m(\u001b[49m\u001b[43mm\u001b[49m\u001b[43m)\u001b[49m \u001b[38;5;28;01mfor\u001b[39;00m m \u001b[38;5;129;01min\u001b[39;00m messages]\n",
      "\u001b[36mFile \u001b[39m\u001b[32mc:\\Users\\alok4\\Desktop\\LangChain\\langchain_trial\\.venv\\Lib\\site-packages\\langchain_core\\messages\\utils.py:346\u001b[39m, in \u001b[36m_convert_to_message\u001b[39m\u001b[34m(message)\u001b[39m\n\u001b[32m    344\u001b[39m     msg = \u001b[33mf\u001b[39m\u001b[33m\"\u001b[39m\u001b[33mUnsupported message type: \u001b[39m\u001b[38;5;132;01m{\u001b[39;00m\u001b[38;5;28mtype\u001b[39m(message)\u001b[38;5;132;01m}\u001b[39;00m\u001b[33m\"\u001b[39m\n\u001b[32m    345\u001b[39m     msg = create_message(message=msg, error_code=ErrorCode.MESSAGE_COERCION_FAILURE)\n\u001b[32m--> \u001b[39m\u001b[32m346\u001b[39m     \u001b[38;5;28;01mraise\u001b[39;00m \u001b[38;5;167;01mNotImplementedError\u001b[39;00m(msg)\n\u001b[32m    348\u001b[39m \u001b[38;5;28;01mreturn\u001b[39;00m message_\n",
      "\u001b[31mNotImplementedError\u001b[39m: Unsupported message type: <class 'float'>\nFor troubleshooting, visit: https://python.langchain.com/docs/troubleshooting/errors/MESSAGE_COERCION_FAILURE "
     ]
    }
   ],
   "source": [
    "llm_with_tools.invoke(messages).content"
   ]
  },
  {
   "cell_type": "code",
   "execution_count": null,
   "id": "a3bd771a",
   "metadata": {},
   "outputs": [],
   "source": []
  },
  {
   "cell_type": "code",
   "execution_count": null,
   "id": "369225ad",
   "metadata": {},
   "outputs": [],
   "source": []
  }
 ],
 "metadata": {
  "kernelspec": {
   "display_name": "langchain-trial (3.13.5)",
   "language": "python",
   "name": "python3"
  },
  "language_info": {
   "codemirror_mode": {
    "name": "ipython",
    "version": 3
   },
   "file_extension": ".py",
   "mimetype": "text/x-python",
   "name": "python",
   "nbconvert_exporter": "python",
   "pygments_lexer": "ipython3",
   "version": "3.13.5"
  }
 },
 "nbformat": 4,
 "nbformat_minor": 5
}
